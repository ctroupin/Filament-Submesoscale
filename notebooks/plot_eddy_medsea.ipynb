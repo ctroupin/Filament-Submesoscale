{
 "cells": [
  {
   "cell_type": "code",
   "execution_count": 11,
   "metadata": {},
   "outputs": [
    {
     "data": {
      "text/plain": [
       "<module 'filament.filament' from '../filament/filament.py'>"
      ]
     },
     "execution_count": 11,
     "metadata": {},
     "output_type": "execute_result"
    }
   ],
   "source": [
    "import sys\n",
    "sys.path.insert(0, '..')\n",
    "import os\n",
    "import glob\n",
    "from filament import filament\n",
    "import datetime\n",
    "import netCDF4\n",
    "import cmocean\n",
    "import logging\n",
    "import numpy as np\n",
    "import matplotlib.pyplot as plt\n",
    "from mpl_toolkits.basemap import Basemap\n",
    "from importlib import reload\n",
    "reload(filament)"
   ]
  },
  {
   "cell_type": "code",
   "execution_count": 3,
   "metadata": {},
   "outputs": [],
   "source": [
    "logger = logging.getLogger(\"eddyPlot\")\n",
    "logger.setLevel(logging.INFO)\n",
    "logging.info(\"Starting\")\n",
    "plotvis = 1"
   ]
  },
  {
   "cell_type": "code",
   "execution_count": 5,
   "metadata": {},
   "outputs": [
    {
     "name": "stderr",
     "output_type": "stream",
     "text": [
      "INFO:eddyPlot:Processing 1 files\n"
     ]
    }
   ],
   "source": [
    "datadir = \"/data/SST/Balearic/1/\"\n",
    "figdir = os.path.join(datadir, \"figures\")\n",
    "visibledir = \"/data/Visible/\"\n",
    "datafilelist = sorted(glob.glob(os.path.join(datadir, \"*SST*.nc\")))\n",
    "datafilelist2 = sorted(glob.glob(os.path.join(datadir, \"*SNPP*OC*.nc\")))\n",
    "nfiles = len(datafilelist)\n",
    "logger.info(\"Processing {} files\".format(nfiles))\n",
    "\n",
    "if not(os.path.exists(figdir)):\n",
    "    os.makedirs(figdir)"
   ]
  },
  {
   "cell_type": "code",
   "execution_count": 6,
   "metadata": {},
   "outputs": [],
   "source": [
    "coordinates = (2., 10., 37., 42.)\n",
    "m = Basemap(projection='merc', llcrnrlon=coordinates[0], llcrnrlat=coordinates[2],\n",
    "            urcrnrlon=coordinates[1], urcrnrlat=coordinates[3],\n",
    "            epsg=4326, resolution='h')"
   ]
  },
  {
   "cell_type": "code",
   "execution_count": 54,
   "metadata": {},
   "outputs": [
    {
     "name": "stderr",
     "output_type": "stream",
     "text": [
      "INFO:eddyPlot:Level-2 data\n"
     ]
    },
    {
     "name": "stdout",
     "output_type": "stream",
     "text": [
      "/data/SST/Balearic/1/T2019284214500.L2_LAC_SST.nc\n"
     ]
    }
   ],
   "source": [
    "for datafile in datafilelist:\n",
    "    print(datafile)\n",
    "    with netCDF4.Dataset(datafile) as nc:\n",
    "        proclevel = nc.processing_level\n",
    "        \n",
    "    sst = filament.SST()\n",
    "    \n",
    "    # Select the reader according to processing level\n",
    "    if proclevel == \"L3 Mapped\":\n",
    "        logger.info(\"Level-3 data\")\n",
    "        sst.read_from_oceancolorL3(datafile, coordinates)\n",
    "    elif proclevel == \"L2\":\n",
    "        logger.info(\"Level-2 data\")\n",
    "        sst.read_from_oceancolorL2(datafile)\n",
    "        sst.field = np.ma.masked_where(sst.qflag > 1, sst.field)\n",
    "    \n",
    "    # Plot without visible\n",
    "    figname = os.path.join(figdir, sst.get_figname())\n",
    "    sst.make_plot(m, figname=figname, vmin=20, vmax=25., shrink=0.7)"
   ]
  },
  {
   "cell_type": "markdown",
   "metadata": {},
   "source": [
    "## Chlorophyll"
   ]
  },
  {
   "cell_type": "code",
   "execution_count": 17,
   "metadata": {},
   "outputs": [],
   "source": [
    "for datafile in datafilelist2:\n",
    "    print(datafile)\n",
    "    \n",
    "    chloro = filament.Chloro()\n",
    "    chloro.read_from_oceancolorL2(datafile)\n",
    "    #lon, lat, chloro = read_chloro_from_oceancolorL2(datafile)\n",
    "\n",
    "    fig = plt.figure(figsize=(8, 8))\n",
    "    ax = plt.subplot(111)\n",
    "    pcm = m.pcolormesh(chloro.lon, chloro.lat, chloro.field, \n",
    "                       latlon=True, vmin=0, vmax=0.6,\n",
    "                       cmap=plt.cm.RdYlBu_r, zorder=6)\n",
    "    plt.colorbar(pcm, extend=\"max\", shrink=0.6)\n",
    "    \n",
    "    plt.show()"
   ]
  }
 ],
 "metadata": {
  "@webio": {
   "lastCommId": "3557DF4D7B764AA1BC21681F6ADC6BD5",
   "lastKernelId": "70097f65-408b-4ab0-884f-4cb18dc6d597"
  },
  "kernelspec": {
   "display_name": "Diva-python3.6",
   "language": "python",
   "name": "diva-python3.6"
  },
  "language_info": {
   "codemirror_mode": {
    "name": "ipython",
    "version": 3
   },
   "file_extension": ".py",
   "mimetype": "text/x-python",
   "name": "python",
   "nbconvert_exporter": "python",
   "pygments_lexer": "ipython3",
   "version": "3.6.0"
  }
 },
 "nbformat": 4,
 "nbformat_minor": 2
}
