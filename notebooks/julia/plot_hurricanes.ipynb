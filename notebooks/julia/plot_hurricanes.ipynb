{
 "cells": [
  {
   "cell_type": "code",
   "execution_count": null,
   "id": "215c63a1-3869-4bba-a341-cc77c2002a18",
   "metadata": {},
   "outputs": [],
   "source": [
    "using CSV\n",
    "using DataFrames\n",
    "using CairoMakie, GeoMakie"
   ]
  },
  {
   "cell_type": "code",
   "execution_count": null,
   "id": "15d79ca8-0fa0-45e2-86bd-d6ced8fddda5",
   "metadata": {},
   "outputs": [],
   "source": [
    "hurricanefile = \"/home/ctroupin/data/Hurricanes/IBTrACS_ALL_list_v04r00_lines_1_-2296084153425415263.csv\"\n",
    "datahurricanes = DataFrame(CSV.File(hurricanefile));"
   ]
  },
  {
   "cell_type": "code",
   "execution_count": null,
   "id": "33ab3630-1646-4832-9397-361b9c5ccc05",
   "metadata": {},
   "outputs": [],
   "source": [
    "fig = Figure(size = (600, 600))\n",
    "ga = Axis(fig[1, 1])\n",
    "heatmap!(\n",
    "    ga,\n",
    "    lon_landsea,\n",
    "    lat_landsea,\n",
    "    landsea,\n",
    "    colormap = Reverse(:greys),\n",
    "    colorrange = [0, 2],\n",
    ")\n",
    "xlims!(-180, 180.0)\n",
    "ylims!(-90.0, 90.0)\n",
    "\n",
    "hexbin!(\n",
    "    ga,\n",
    "    datahurricanes.LON,\n",
    "    datahurricanes.LAT,\n",
    "    bins = 100,\n",
    "    threshold = 10,\n",
    "    colormap = Reverse(:thermal),\n",
    "    alpha = 0.5,\n",
    ")\n",
    "hidedecorations!(ga)\n",
    "fig"
   ]
  },
  {
   "cell_type": "code",
   "execution_count": null,
   "id": "beda78cf-19eb-4868-b810-f6ba99fcc274",
   "metadata": {},
   "outputs": [],
   "source": [
    "fig = Figure(size = (600, 600))\n",
    "ga = GeoAxis(fig[1, 1], dest = \"+proj=ortho +lon_0=15 +lat_0=15\")\n",
    "heatmap!(\n",
    "    ga,\n",
    "    lon_landsea,\n",
    "    lat_landsea,\n",
    "    landsea,\n",
    "    colormap = Reverse(:greys),\n",
    "    colorrange = [0, 2],\n",
    ")\n",
    "xlims!(-180, 180.0)\n",
    "ylims!(-90.0, 90.0)\n",
    "\n",
    "plot!(ga, datahurricanes.LON, datahurricanes.LAT, color = :black, markersize = 1)\n",
    "hidedecorations!(ga)\n",
    "fig"
   ]
  },
  {
   "cell_type": "code",
   "execution_count": null,
   "id": "2aacb61d-0bc0-4c04-a3c7-4be0bd50ffdc",
   "metadata": {},
   "outputs": [],
   "source": []
  },
  {
   "cell_type": "code",
   "execution_count": null,
   "id": "209619ce-9e05-415e-b9ba-acded1299fd0",
   "metadata": {},
   "outputs": [],
   "source": []
  },
  {
   "cell_type": "code",
   "execution_count": null,
   "id": "d1fbaaae-d037-4999-a224-ef99f61e12ad",
   "metadata": {
    "jupyter": {
     "source_hidden": true
    }
   },
   "outputs": [],
   "source": []
  }
 ],
 "metadata": {
  "kernelspec": {
   "display_name": "Julia 1.11.3",
   "language": "julia",
   "name": "julia-1.11"
  },
  "language_info": {
   "file_extension": ".jl",
   "mimetype": "application/julia",
   "name": "julia",
   "version": "1.11.3"
  }
 },
 "nbformat": 4,
 "nbformat_minor": 5
}
