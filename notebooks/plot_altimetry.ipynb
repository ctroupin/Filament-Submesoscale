{
 "cells": [
  {
   "cell_type": "markdown",
   "metadata": {},
   "source": [
    "# Sea surface height\n",
    "\n",
    "Plot the SSH"
   ]
  },
  {
   "cell_type": "code",
   "execution_count": 13,
   "metadata": {},
   "outputs": [],
   "source": [
    "import sys\n",
    "sys.path.insert(0, '..')\n",
    "import os\n",
    "import glob\n",
    "from filament import filament\n",
    "import datetime\n",
    "import netCDF4\n",
    "import cmocean\n",
    "import logging\n",
    "import numpy as np\n",
    "import matplotlib.pyplot as plt\n",
    "from importlib import reload\n",
    "import cartopy\n",
    "import cartopy.crs as ccrs\n",
    "import cartopy.feature as cfeature\n",
    "reload(filament)\n",
    "plt.style.use(\"filament.mplstyle\")"
   ]
  },
  {
   "cell_type": "code",
   "execution_count": 2,
   "metadata": {},
   "outputs": [],
   "source": [
    "logger = logging.getLogger(\"altimetryPlot\")\n",
    "logger.setLevel(logging.INFO)\n",
    "logging.info(\"Starting\")\n",
    "plotvis = 0"
   ]
  },
  {
   "cell_type": "code",
   "execution_count": 31,
   "metadata": {},
   "outputs": [
    {
     "name": "stderr",
     "output_type": "stream",
     "text": [
      "INFO:altimetryPlot:Found 6 files\n"
     ]
    }
   ],
   "source": [
    "regionname= \"BloomJune2024\"\n",
    "domain = filament.regions[\"canarydomain\"]\n",
    "figdir = f\"../figures/SST/{regionname}/\"\n",
    "datadir = f\"/home/ctroupin/data/SST/{regionname}/\"\n",
    "datafilelist = sorted(glob.glob(os.path.join(datadir, \"nrt_europe_allsat_phy_l4*.nc\")))\n",
    "logger.info(f\"Found {len(datafilelist)} files\")\n",
    "\n",
    "domain = filament.regions[\"canarydomain\"]\n",
    "myproj = ccrs.Mercator(central_longitude=0.5 * (domain[0] + domain[1]), min_latitude=domain[2], \n",
    "                       max_latitude=domain[3])"
   ]
  },
  {
   "cell_type": "code",
   "execution_count": 32,
   "metadata": {},
   "outputs": [],
   "source": [
    "if not(os.path.exists(figdir)):\n",
    "    os.makedirs(figdir)"
   ]
  },
  {
   "cell_type": "code",
   "execution_count": 35,
   "metadata": {},
   "outputs": [
    {
     "name": "stderr",
     "output_type": "stream",
     "text": [
      "/home/ctroupin/Projects/Filaments/Filament-Submesoscale/notebooks/../filament/filament.py:1120: RuntimeWarning: invalid value encountered in sqrt\n",
      "  self.speed = np.ma.masked_greater(self.speed, 1.5)\n",
      "/tmp/ipykernel_737164/3916038956.py:27: MatplotlibDeprecationWarning: Getting the array from a PolyQuadMesh will return the full array in the future (uncompressed). To get this behavior now set the PolyQuadMesh with a 2D array .set_array(data2d).\n",
      "  cb = plt.colorbar(pcm, shrink=.75, extend=\"both\")\n",
      "/home/ctroupin/Projects/Filaments/Filament-Submesoscale/notebooks/../filament/filament.py:1120: RuntimeWarning: invalid value encountered in sqrt\n",
      "  self.speed = np.ma.masked_greater(self.speed, 1.5)\n",
      "/tmp/ipykernel_737164/3916038956.py:27: MatplotlibDeprecationWarning: Getting the array from a PolyQuadMesh will return the full array in the future (uncompressed). To get this behavior now set the PolyQuadMesh with a 2D array .set_array(data2d).\n",
      "  cb = plt.colorbar(pcm, shrink=.75, extend=\"both\")\n",
      "/home/ctroupin/Projects/Filaments/Filament-Submesoscale/notebooks/../filament/filament.py:1120: RuntimeWarning: invalid value encountered in sqrt\n",
      "  self.speed = np.ma.masked_greater(self.speed, 1.5)\n",
      "/tmp/ipykernel_737164/3916038956.py:27: MatplotlibDeprecationWarning: Getting the array from a PolyQuadMesh will return the full array in the future (uncompressed). To get this behavior now set the PolyQuadMesh with a 2D array .set_array(data2d).\n",
      "  cb = plt.colorbar(pcm, shrink=.75, extend=\"both\")\n",
      "/home/ctroupin/Projects/Filaments/Filament-Submesoscale/notebooks/../filament/filament.py:1120: RuntimeWarning: invalid value encountered in sqrt\n",
      "  self.speed = np.ma.masked_greater(self.speed, 1.5)\n",
      "/tmp/ipykernel_737164/3916038956.py:27: MatplotlibDeprecationWarning: Getting the array from a PolyQuadMesh will return the full array in the future (uncompressed). To get this behavior now set the PolyQuadMesh with a 2D array .set_array(data2d).\n",
      "  cb = plt.colorbar(pcm, shrink=.75, extend=\"both\")\n",
      "/home/ctroupin/Projects/Filaments/Filament-Submesoscale/notebooks/../filament/filament.py:1120: RuntimeWarning: invalid value encountered in sqrt\n",
      "  self.speed = np.ma.masked_greater(self.speed, 1.5)\n",
      "/tmp/ipykernel_737164/3916038956.py:27: MatplotlibDeprecationWarning: Getting the array from a PolyQuadMesh will return the full array in the future (uncompressed). To get this behavior now set the PolyQuadMesh with a 2D array .set_array(data2d).\n",
      "  cb = plt.colorbar(pcm, shrink=.75, extend=\"both\")\n",
      "/home/ctroupin/Projects/Filaments/Filament-Submesoscale/notebooks/../filament/filament.py:1120: RuntimeWarning: invalid value encountered in sqrt\n",
      "  self.speed = np.ma.masked_greater(self.speed, 1.5)\n",
      "/tmp/ipykernel_737164/3916038956.py:27: MatplotlibDeprecationWarning: Getting the array from a PolyQuadMesh will return the full array in the future (uncompressed). To get this behavior now set the PolyQuadMesh with a 2D array .set_array(data2d).\n",
      "  cb = plt.colorbar(pcm, shrink=.75, extend=\"both\")\n"
     ]
    }
   ],
   "source": [
    "for datafile in datafilelist:\n",
    "    ssh = filament.Altimetry()\n",
    "    ssh.read_from_aviso(datafile)\n",
    "    ssh.get_speed()\n",
    "    figname = ssh.get_figname()\n",
    "\n",
    "    goodlon = np.where((ssh.lon <= domain[1] + 1) & (ssh.lon >= domain[0] -1.))[0]\n",
    "    goodlat = np.where((ssh.lat <= domain[3] + 1) & (ssh.lat >= domain[2] -1.))[0]\n",
    "    ssh_domain = ssh.sla[goodlat][:,goodlon]\n",
    "    u = ssh.u[goodlat][:,goodlon]\n",
    "    v = ssh.v[goodlat][:,goodlon]\n",
    "\n",
    "    fig = plt.figure()\n",
    "    ax = plt.subplot(111, projection=myproj)\n",
    "    ax.set_extent(domain)\n",
    "    pcm = ax.pcolor(ssh.lon[goodlon], ssh.lat[goodlat], ssh_domain - ssh_domain.mean(), \n",
    "                    transform=filament.datacrs,\n",
    "                    vmin=-.1, vmax=.1, cmap=plt.cm.RdBu_r, zorder=2)\n",
    "    ax.streamplot(ssh.lon[goodlon], ssh.lat[goodlat], u, v, density=5, linewidth=.5, zorder=3, color=\".2\",\n",
    "                 transform=filament.datacrs)\n",
    "    ax.add_feature(filament.coast_f, lw=.25, color=\".5\", zorder=4)\n",
    "    gl = ax.gridlines(crs=ccrs.PlateCarree(), draw_labels=True,\n",
    "                      linewidth=.5, color='.25', linestyle='--', zorder=2)\n",
    "    gl.top_labels = False\n",
    "    gl.right_labels = False\n",
    "    \n",
    "    cb = plt.colorbar(pcm, shrink=.75, extend=\"both\")\n",
    "    cb.set_label(\"m\", rotation=0, ha=\"left\")\n",
    "    ax.set_title(f\"Sea level anomaly and streamlines (CMEMS)\\n {ssh.date[0].strftime('%Y-%m-%d')}\")\n",
    "    plt.savefig(os.path.join(figdir, figname))\n",
    "    plt.close()"
   ]
  },
  {
   "cell_type": "code",
   "execution_count": 29,
   "metadata": {},
   "outputs": [
    {
     "data": {
      "text/plain": [
       "'2024-06-28 00:00:00'"
      ]
     },
     "execution_count": 29,
     "metadata": {},
     "output_type": "execute_result"
    }
   ],
   "source": [
    "ssh.date[0].strftime('%Y-%m-%d %H:%M:%S')"
   ]
  },
  {
   "cell_type": "code",
   "execution_count": null,
   "metadata": {},
   "outputs": [],
   "source": []
  }
 ],
 "metadata": {
  "@webio": {
   "lastCommId": null,
   "lastKernelId": null
  },
  "kernelspec": {
   "display_name": "Filament3.11",
   "language": "python",
   "name": "filament3.11"
  },
  "language_info": {
   "codemirror_mode": {
    "name": "ipython",
    "version": 3
   },
   "file_extension": ".py",
   "mimetype": "text/x-python",
   "name": "python",
   "nbconvert_exporter": "python",
   "pygments_lexer": "ipython3",
   "version": "3.11.0"
  },
  "toc": {
   "base_numbering": 1,
   "nav_menu": {},
   "number_sections": true,
   "sideBar": true,
   "skip_h1_title": false,
   "title_cell": "Table of Contents",
   "title_sidebar": "Contents",
   "toc_cell": false,
   "toc_position": {},
   "toc_section_display": true,
   "toc_window_display": false
  }
 },
 "nbformat": 4,
 "nbformat_minor": 2
}
