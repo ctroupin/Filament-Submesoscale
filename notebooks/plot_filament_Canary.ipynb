{
 "cells": [
  {
   "cell_type": "markdown",
   "metadata": {},
   "source": [
    "# Sea surface temperature Canary\n",
    "\n",
    "Plot the SST in the Canary Current Upwelling System."
   ]
  },
  {
   "cell_type": "code",
   "execution_count": 1,
   "metadata": {},
   "outputs": [
    {
     "data": {
      "image/png": "[encoded data removed]",
      "text/html": [
       "<div style=\"vertical-align: middle;\"><strong>thermal</strong> </div><div class=\"cmap\"><img alt=\"thermal colormap\" title=\"thermal\" style=\"border: 1px solid #555;\" src=\"data:image/png;base64,iVBORw0KGgoAAAANSUhEUgAAAgAAAABACAYAAABsv8+/AAAAFnRFWHRUaXRsZQB0aGVybWFsIGNvbG9ybWFwM2hW5AAAABx0RVh0RGVzY3JpcHRpb24AdGhlcm1hbCBjb2xvcm1hcJRG550AAAAwdEVYdEF1dGhvcgBNYXRwbG90bGliIHYzLjYuMCwgaHR0cHM6Ly9tYXRwbG90bGliLm9yZ+GocwIAAAAydEVYdFNvZnR3YXJlAE1hdHBsb3RsaWIgdjMuNi4wLCBodHRwczovL21hdHBsb3RsaWIub3Jnzw7sJQAAAj5JREFUeJzt1ktyo0AQRdFKtJRegve/NdEDIRwklLA9fedMcP0AWaGIW49/X+sYY9RYxhhjjOrXel239errk3M1Hpf76jR+tHN93+Mwft+32vnpeNu/TO6z7NfP88vt/HK4Ptp4WWubf12Xeq+//xvVrtt8jR+N92+p1sN6vcf7uXWb7+eP++rmPnW6Txu39dn9+3vX5PNU+9y/Pr+fm7zf7f0nn6Pt/z5//Zzb97993t2432/yPd6OJ9/n/rzZ+/f12fve7T+Oz+91t+/5o32z/af1en48X/X5/P36uv2DtvHyvJ7f16/nx3L83sZs/z6e7RuH+32PR3vecX70+errbfzrfccf0tp/MKfzrz/Wyfl9/XSf6/n1/ENr8+15+33qT/vX0/tc32c9rY/L+b7//VgAIIgAAIBAAgAAAgkAAAgkAAAgkAAAgEACAAACCQAACCQAACCQAACAQAIAAAIJAAAIJAAAIJAAAIBAAgAAAgkAAAgkAAAgkAAAgEACAAACCQAACCQAACCQAACAQAIAAAIJAAAIJAAAIJAAAIBAAgAAAgkAAAgkAAAgkAAAgEACAAACCQAACCQAACCQAACAQAIAAAIJAAAIJAAAIJAAAIBAAgAAAgkAAAgkAAAgkAAAgEACAAACCQAACCQAACCQAACAQAIAAAIJAAAIJAAAIJAAAIBAAgAAAgkAAAgkAAAgkAAAgEACAAACCQAACCQAACCQAACAQAIAAAIJAAAIJAAAIJAAAIBAAgAAAv0HXqN1upvFu6oAAAAASUVORK5CYII=\"></div><div style=\"vertical-align: middle; max-width: 514px; display: flex; justify-content: space-between;\"><div style=\"float: left;\"><div title=\"#042333ff\" style=\"display: inline-block; width: 1em; height: 1em; margin: 0; vertical-align: middle; border: 1px solid #555; background-color: #042333ff;\"></div> under</div><div style=\"margin: 0 auto; display: inline-block;\">bad <div title=\"#00000000\" style=\"display: inline-block; width: 1em; height: 1em; margin: 0; vertical-align: middle; border: 1px solid #555; background-color: #00000000;\"></div></div><div style=\"float: right;\">over <div title=\"#e8fa5bff\" style=\"display: inline-block; width: 1em; height: 1em; margin: 0; vertical-align: middle; border: 1px solid #555; background-color: #e8fa5bff;\"></div></div>"
      ],
      "text/plain": [
       "<matplotlib.colors.LinearSegmentedColormap at 0x7a3ce167cd00>"
      ]
     },
     "execution_count": 1,
     "metadata": {},
     "output_type": "execute_result"
    }
   ],
   "source": [
    "import sys\n",
    "sys.path.insert(0, '..')\n",
    "import os\n",
    "import glob\n",
    "from filament import filament\n",
    "import datetime\n",
    "import netCDF4\n",
    "import cmocean\n",
    "import logging\n",
    "import numpy as np\n",
    "import matplotlib.pyplot as plt\n",
    "from importlib import reload\n",
    "import cartopy.crs as ccrs\n",
    "import cartopy.mpl.ticker as cartopyticker\n",
    "reload(filament)\n",
    "plt.style.use(\"filament.mplstyle\")\n",
    "cmap = cmocean.cm.thermal\n",
    "cmap"
   ]
  },
  {
   "cell_type": "code",
   "execution_count": 2,
   "metadata": {},
   "outputs": [],
   "source": [
    "logger = logging.getLogger(\"filamentPlot\")\n",
    "logger.setLevel(logging.INFO)\n",
    "logging.info(\"Starting\")\n",
    "plotvis = 0"
   ]
  },
  {
   "cell_type": "code",
   "execution_count": 9,
   "metadata": {},
   "outputs": [
    {
     "data": {
      "text/plain": [
       "{'mediumdomain': (-19.0, -6.0, 25.0, 35.0),\n",
       " 'smalldomain': (-15.0, -9.0, 27.0, 33.0),\n",
       " 'tinydomain': (-12.0, -9.0, 29.5, 32.0),\n",
       " 'canarydomain': (-19.0, -13.0, 26.0, 30.0),\n",
       " 'medseadomain': (-2.5, 0.0, 36.0, 37.0),\n",
       " 'westmed': (-5.0, 10.0, 35.0, 46.0),\n",
       " 'cretedomain': (23.0, 27.0, 34.0, 36.5),\n",
       " 'sidedomain': (29.9, 33, 34.9, 37.25),\n",
       " 'capeblanc': (-22.5, -15.5, 17.5, 23.75),\n",
       " 'capeghir': (-12.5, -9.25, 29.0, 32),\n",
       " 'alboran': (-5.6, -2.6, 34.8, 37.54),\n",
       " 'bergen': (1.5, 6.5, 58, 62.5),\n",
       " 'galicia': (-12.0, -5.0, 40.5, 46.0),\n",
       " 'mexico': (-100.0, -90.0, 10.0, 20.0)}"
      ]
     },
     "execution_count": 9,
     "metadata": {},
     "output_type": "execute_result"
    }
   ],
   "source": [
    "filament.regions"
   ]
  },
  {
   "cell_type": "code",
   "execution_count": 18,
   "metadata": {},
   "outputs": [
    {
     "name": "stderr",
     "output_type": "stream",
     "text": [
      "INFO:filamentPlot:Processing 7 files\n"
     ]
    }
   ],
   "source": [
    "regionname= \"Canary\"\n",
    "# regionname= \"Mexico\"\n",
    "\n",
    "datadir = f\"/home/ctroupin/data/SST/{regionname}/\"\n",
    "\n",
    "figdir = f\"../figures/SST/{regionname}/\"\n",
    "visibledir = \"/data/Visible/\"\n",
    "datafilelist = sorted(glob.glob(os.path.join(datadir, \"*202507*.nc\")))\n",
    "\n",
    "nfiles = len(datafilelist)\n",
    "\n",
    "logger.info(\"Processing {} files\".format(nfiles))\n",
    "    \n",
    "domain = filament.regions[\"canarydomain\"]\n",
    "myproj = ccrs.Mercator(central_longitude=0.5 * (domain[0] + domain[1]), min_latitude=domain[2], \n",
    "                       max_latitude=domain[3])"
   ]
  },
  {
   "cell_type": "code",
   "execution_count": 19,
   "metadata": {},
   "outputs": [],
   "source": [
    "if not(os.path.exists(figdir)):\n",
    "    os.makedirs(figdir)"
   ]
  },
  {
   "cell_type": "markdown",
   "metadata": {},
   "source": [
    "## Loop on files"
   ]
  },
  {
   "cell_type": "code",
   "execution_count": 20,
   "metadata": {},
   "outputs": [
    {
     "name": "stderr",
     "output_type": "stream",
     "text": [
      "INFO:filamentPlot:Working on /home/ctroupin/data/SST/Canary/JPSS1_VIIRS.20250728T015400.L2.SST3.NRT.nc\n",
      "INFO:filamentPlot:Level-2 data\n",
      "INFO:filamentPlot:Working on /home/ctroupin/data/SST/Canary/JPSS1_VIIRS.20250728T033601.L2.SST3.NRT.nc\n",
      "INFO:filamentPlot:Level-2 data\n",
      "INFO:filamentPlot:Working on /home/ctroupin/data/SST/Canary/SNPP_VIIRS.20250725T023000.L2.SST3.NRT.nc\n",
      "INFO:filamentPlot:Level-2 data\n",
      "INFO:filamentPlot:Working on /home/ctroupin/data/SST/Canary/SNPP_VIIRS.20250727T014800.L2.SST3.NRT.nc\n",
      "INFO:filamentPlot:Level-2 data\n",
      "INFO:filamentPlot:Working on /home/ctroupin/data/SST/Canary/SNPP_VIIRS.20250727T033001.L2.SST3.NRT.nc\n",
      "INFO:filamentPlot:Level-2 data\n",
      "INFO:filamentPlot:Working on /home/ctroupin/data/SST/Canary/SNPP_VIIRS.20250728T031200.L2.SST3.NRT.nc\n",
      "INFO:filamentPlot:Level-2 data\n",
      "INFO:filamentPlot:Working on /home/ctroupin/data/SST/Canary/SNPP_VIIRS.20250729T025400.L2.SST3.NRT.nc\n",
      "INFO:filamentPlot:Level-2 data\n"
     ]
    }
   ],
   "source": [
    "for ifile, datafile in enumerate(datafilelist):\n",
    "    logger.info(\"Working on {}\".format(datafile))\n",
    "    \n",
    "    #chloro = filament.Chloro()=\n",
    "    #chloro.read_from_oceancolorL2(datafile)\n",
    "    \n",
    "    \n",
    "    with netCDF4.Dataset(datafile) as nc:\n",
    "        proclevel = nc.processing_level\n",
    "    \n",
    "    sst = filament.SST()\n",
    "    \n",
    "    # Select the reader according to processing level\n",
    "    if proclevel == \"L3 Mapped\":\n",
    "        logger.info(\"Level-3 data\")\n",
    "        sst.read_from_oceancolorL3(datafile, coordinates)\n",
    "    elif proclevel == \"L2\":\n",
    "        logger.info(\"Level-2 data\")\n",
    "        sst.read_from_oceancolorL2(datafile)\n",
    "        sst.field = np.ma.masked_where(sst.qflag > 2, sst.field)    \n",
    "    titletext = sst.get_title()\n",
    "    \n",
    "    sstmin, sstmax = 20, 24.\n",
    "    \n",
    "    figname = os.path.join(figdir, sst.get_figname())\n",
    "\n",
    "    fig = plt.figure(figsize=(12, 10))\n",
    "    ax = plt.subplot(111, projection=myproj)\n",
    "    ax.set_extent(domain)\n",
    "    ax.set_title(titletext, fontsize=24)\n",
    "    \n",
    "    \n",
    "    iii = 0\n",
    "    #for tlon, tlat in zip(tracklon, tracklat):\n",
    "    #    iii += 1\n",
    "    #    ax.text(tlon, tlat, iii, horizontalalignment='center', verticalalignment='center',\n",
    "    #        fontsize=15)\n",
    "        \n",
    "    #vis.add_to_plot(ax, myproj)\n",
    "    #sst.field[sst.lat.data == -999.] = np.nan\n",
    "    #sst.field[sst.lon.data == -999.] = np.nan\n",
    "    #sst.lat[sst.lat.data == -999.] = np.nan\n",
    "    #sst.lon[sst.lon.data == -999.] = np.nan\n",
    "    \n",
    "    #sst.lat = np.ma.masked_equal(sst.lat, -999.0, copy=True)\n",
    "    #sst.lon = np.ma.masked_equal(sst.lon, -999.0, copy=True)\n",
    "    pcm = ax.pcolormesh(sst.lon.data, sst.lat.data, sst.field, cmap=cmap, \n",
    "                        vmin=sstmin, vmax=sstmax, transform=filament.datacrs)\n",
    "    \n",
    "    cb = plt.colorbar(pcm, extend=\"both\", shrink=0.75)\n",
    "    cb.set_label(\"°C\", rotation=0, ha=\"left\")\n",
    "\n",
    "    iii = 0        \n",
    "    #vis.add_to_plot(ax, myproj)\n",
    "\n",
    "    ax.add_feature(filament.coast_f, linewidth=.2, color=\".5\")\n",
    "    gl = ax.gridlines(crs=ccrs.PlateCarree(), draw_labels=True,\n",
    "                  linewidth=.5, color='.25', linestyle='--', zorder=2)\n",
    "    gl.top_labels = False\n",
    "    gl.right_labels = False\n",
    "\n",
    "    plt.savefig(figname)\n",
    "    # plt.show()\n",
    "    plt.close(fig)"
   ]
  },
  {
   "cell_type": "code",
   "execution_count": null,
   "metadata": {},
   "outputs": [],
   "source": []
  }
 ],
 "metadata": {
  "@webio": {
   "lastCommId": null,
   "lastKernelId": null
  },
  "kernelspec": {
   "display_name": "Filament",
   "language": "python",
   "name": "filament"
  },
  "language_info": {
   "codemirror_mode": {
    "name": "ipython",
    "version": 3
   },
   "file_extension": ".py",
   "mimetype": "text/x-python",
   "name": "python",
   "nbconvert_exporter": "python",
   "pygments_lexer": "ipython3",
   "version": "3.10.12"
  },
  "toc": {
   "base_numbering": 1,
   "nav_menu": {},
   "number_sections": true,
   "sideBar": true,
   "skip_h1_title": false,
   "title_cell": "Table of Contents",
   "title_sidebar": "Contents",
   "toc_cell": false,
   "toc_position": {},
   "toc_section_display": true,
   "toc_window_display": false
  }
 },
 "nbformat": 4,
 "nbformat_minor": 2
}
