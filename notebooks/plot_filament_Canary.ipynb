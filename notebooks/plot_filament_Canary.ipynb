{
 "cells": [
  {
   "cell_type": "markdown",
   "metadata": {},
   "source": [
    "# Sea surface temperature Canary\n",
    "\n",
    "Plot the SST in the Canary Current Upwelling System."
   ]
  },
  {
   "cell_type": "code",
   "execution_count": 10,
   "metadata": {},
   "outputs": [],
   "source": [
    "import sys\n",
    "sys.path.insert(0, '..')\n",
    "import os\n",
    "import glob\n",
    "from filament import filament\n",
    "import datetime\n",
    "import netCDF4\n",
    "import cmocean\n",
    "import logging\n",
    "import numpy as np\n",
    "import matplotlib.pyplot as plt\n",
    "from importlib import reload\n",
    "import cartopy.crs as ccrs\n",
    "import cartopy.mpl.ticker as cartopyticker\n",
    "reload(filament)\n",
    "plt.style.use(\"filament.mplstyle\")"
   ]
  },
  {
   "cell_type": "code",
   "execution_count": 5,
   "metadata": {},
   "outputs": [],
   "source": [
    "logger = logging.getLogger(\"filamentPlot\")\n",
    "logger.setLevel(logging.INFO)\n",
    "logging.info(\"Starting\")\n",
    "plotvis = 0"
   ]
  },
  {
   "cell_type": "code",
   "execution_count": 14,
   "metadata": {},
   "outputs": [
    {
     "name": "stderr",
     "output_type": "stream",
     "text": [
      "INFO:filamentPlot:Processing 26 files\n"
     ]
    }
   ],
   "source": [
    "regionname= \"BloomJune2024\"\n",
    "datadir = f\"/home/ctroupin/data/SST/{regionname}/\"\n",
    "\n",
    "figdir = f\"../figures/SST/{regionname}/\"\n",
    "visibledir = \"/data/Visible/\"\n",
    "datafilelist = sorted(glob.glob(os.path.join(datadir, \"*SST*.nc\")))\n",
    "\n",
    "nfiles = len(datafilelist)\n",
    "\n",
    "logger.info(\"Processing {} files\".format(nfiles))\n",
    "    \n",
    "domain = filament.regions[\"canarydomain\"]\n",
    "myproj = ccrs.Mercator(central_longitude=0.5 * (domain[0] + domain[1]), min_latitude=domain[2], \n",
    "                       max_latitude=domain[3])"
   ]
  },
  {
   "cell_type": "code",
   "execution_count": 15,
   "metadata": {},
   "outputs": [],
   "source": [
    "if not(os.path.exists(figdir)):\n",
    "    os.makedirs(figdir)"
   ]
  },
  {
   "cell_type": "markdown",
   "metadata": {},
   "source": [
    "## Loop on files"
   ]
  },
  {
   "cell_type": "code",
   "execution_count": 20,
   "metadata": {},
   "outputs": [
    {
     "name": "stderr",
     "output_type": "stream",
     "text": [
      "INFO:filamentPlot:Working on /home/ctroupin/data/SST/BloomJune2024/AQUA_MODIS.20240624T041501.L2.SST4.NRT.nc\n",
      "INFO:filamentPlot:Level-2 data\n",
      "INFO:filamentPlot:Working on /home/ctroupin/data/SST/BloomJune2024/AQUA_MODIS.20240624T151001.L2.SST.NRT.nc\n",
      "INFO:filamentPlot:Level-2 data\n",
      "INFO:filamentPlot:Working on /home/ctroupin/data/SST/BloomJune2024/AQUA_MODIS.20240625T031501.L2.SST4.NRT.nc\n",
      "INFO:filamentPlot:Level-2 data\n",
      "INFO:filamentPlot:Working on /home/ctroupin/data/SST/BloomJune2024/AQUA_MODIS.20240625T141501.L2.SST.NRT.nc\n",
      "INFO:filamentPlot:Level-2 data\n",
      "INFO:filamentPlot:Working on /home/ctroupin/data/SST/BloomJune2024/AQUA_MODIS.20240626T145500.L2.SST.NRT.nc\n",
      "INFO:filamentPlot:Level-2 data\n",
      "INFO:filamentPlot:Working on /home/ctroupin/data/SST/BloomJune2024/AQUA_MODIS.20240627T030001.L2.SST4.NRT.nc\n",
      "INFO:filamentPlot:Level-2 data\n",
      "INFO:filamentPlot:Working on /home/ctroupin/data/SST/BloomJune2024/AQUA_MODIS.20240627T140001.L2.SST.NRT.nc\n",
      "INFO:filamentPlot:Level-2 data\n",
      "INFO:filamentPlot:Working on /home/ctroupin/data/SST/BloomJune2024/AQUA_MODIS.20240627T153501.L2.SST.NRT.nc\n",
      "INFO:filamentPlot:Level-2 data\n",
      "INFO:filamentPlot:Working on /home/ctroupin/data/SST/BloomJune2024/AQUA_MODIS.20240628T034001.L2.SST4.NRT.nc\n",
      "INFO:filamentPlot:Level-2 data\n",
      "INFO:filamentPlot:Working on /home/ctroupin/data/SST/BloomJune2024/SNPP_VIIRS.20240624T024800.L2.SST3.NRT.nc\n",
      "INFO:filamentPlot:Level-2 data\n",
      "INFO:filamentPlot:Working on /home/ctroupin/data/SST/BloomJune2024/SNPP_VIIRS.20240624T140600.L2.SST.NRT.nc\n",
      "INFO:filamentPlot:Level-2 data\n",
      "INFO:filamentPlot:Working on /home/ctroupin/data/SST/BloomJune2024/SNPP_VIIRS.20240625T023000.L2.SST3.NRT.nc\n",
      "INFO:filamentPlot:Level-2 data\n",
      "INFO:filamentPlot:Working on /home/ctroupin/data/SST/BloomJune2024/SNPP_VIIRS.20240625T134801.L2.SST.NRT.nc\n",
      "INFO:filamentPlot:Level-2 data\n",
      "INFO:filamentPlot:Working on /home/ctroupin/data/SST/BloomJune2024/SNPP_VIIRS.20240626T133001.L2.SST.NRT.nc\n",
      "INFO:filamentPlot:Level-2 data\n",
      "INFO:filamentPlot:Working on /home/ctroupin/data/SST/BloomJune2024/SNPP_VIIRS.20240627T033600.L2.SST3.NRT.nc\n",
      "INFO:filamentPlot:Level-2 data\n",
      "INFO:filamentPlot:Working on /home/ctroupin/data/SST/BloomJune2024/SNPP_VIIRS.20240627T131200.L2.SST.NRT.nc\n",
      "INFO:filamentPlot:Level-2 data\n",
      "INFO:filamentPlot:Working on /home/ctroupin/data/SST/BloomJune2024/SNPP_VIIRS.20240627T144800.L2.SST.NRT.nc\n",
      "INFO:filamentPlot:Level-2 data\n",
      "INFO:filamentPlot:Working on /home/ctroupin/data/SST/BloomJune2024/SNPP_VIIRS.20240628T031200.L2.SST3.NRT.nc\n",
      "INFO:filamentPlot:Level-2 data\n",
      "INFO:filamentPlot:Working on /home/ctroupin/data/SST/BloomJune2024/SNPP_VIIRS.20240628T031801.L2.SST3.NRT.nc\n",
      "INFO:filamentPlot:Level-2 data\n",
      "INFO:filamentPlot:Working on /home/ctroupin/data/SST/BloomJune2024/TERRA_MODIS.20240624T103001.L2.SST.NRT.nc\n",
      "INFO:filamentPlot:Level-2 data\n",
      "INFO:filamentPlot:Working on /home/ctroupin/data/SST/BloomJune2024/TERRA_MODIS.20240624T230500.L2.SST4.NRT.nc\n",
      "INFO:filamentPlot:Level-2 data\n",
      "INFO:filamentPlot:Working on /home/ctroupin/data/SST/BloomJune2024/TERRA_MODIS.20240625T111000.L2.SST.NRT.nc\n",
      "INFO:filamentPlot:Level-2 data\n",
      "INFO:filamentPlot:Working on /home/ctroupin/data/SST/BloomJune2024/TERRA_MODIS.20240626T115000.L2.SST.NRT.nc\n",
      "INFO:filamentPlot:Level-2 data\n",
      "INFO:filamentPlot:Working on /home/ctroupin/data/SST/BloomJune2024/TERRA_MODIS.20240626T225001.L2.SST4.NRT.nc\n",
      "INFO:filamentPlot:Level-2 data\n",
      "INFO:filamentPlot:Working on /home/ctroupin/data/SST/BloomJune2024/TERRA_MODIS.20240627T105000.L2.SST.NRT.nc\n",
      "INFO:filamentPlot:Level-2 data\n",
      "INFO:filamentPlot:Working on /home/ctroupin/data/SST/BloomJune2024/TERRA_MODIS.20240627T105501.L2.SST.NRT.nc\n",
      "INFO:filamentPlot:Level-2 data\n"
     ]
    }
   ],
   "source": [
    "for ifile, datafile in enumerate(datafilelist[2:3]):\n",
    "    logger.info(\"Working on {}\".format(datafile))\n",
    "    \n",
    "    #chloro = filament.Chloro()=\n",
    "    #chloro.read_from_oceancolorL2(datafile)\n",
    "    \n",
    "    \n",
    "    with netCDF4.Dataset(datafile) as nc:\n",
    "        proclevel = nc.processing_level\n",
    "    \n",
    "    sst = filament.SST()\n",
    "    \n",
    "    # Select the reader according to processing level\n",
    "    if proclevel == \"L3 Mapped\":\n",
    "        logger.info(\"Level-3 data\")\n",
    "        sst.read_from_oceancolorL3(datafile, coordinates)\n",
    "    elif proclevel == \"L2\":\n",
    "        logger.info(\"Level-2 data\")\n",
    "        sst.read_from_oceancolorL2(datafile)\n",
    "        sst.field = np.ma.masked_where(sst.qflag > 2, sst.field)    \n",
    "    titletext = sst.get_title()\n",
    "    \n",
    "\n",
    "    sstmin, sstmax = 17.5, 22.5\n",
    "    \n",
    "    figname = os.path.join(figdir, sst.get_figname())\n",
    "\n",
    "    fig = plt.figure(figsize=(12, 10))\n",
    "    ax = plt.subplot(111, projection=myproj)\n",
    "    ax.set_extent(domain)\n",
    "    ax.set_title(titletext, fontsize=24)\n",
    "    \n",
    "    \n",
    "    iii = 0\n",
    "    #for tlon, tlat in zip(tracklon, tracklat):\n",
    "    #    iii += 1\n",
    "    #    ax.text(tlon, tlat, iii, horizontalalignment='center', verticalalignment='center',\n",
    "    #        fontsize=15)\n",
    "        \n",
    "    #vis.add_to_plot(ax, myproj)\n",
    "    #sst.field[sst.lat.data == -999.] = np.nan\n",
    "    #sst.field[sst.lon.data == -999.] = np.nan\n",
    "    #sst.lat[sst.lat.data == -999.] = np.nan\n",
    "    #sst.lon[sst.lon.data == -999.] = np.nan\n",
    "    \n",
    "    #sst.lat = np.ma.masked_equal(sst.lat, -999.0, copy=True)\n",
    "    #sst.lon = np.ma.masked_equal(sst.lon, -999.0, copy=True)\n",
    "    pcm = ax.pcolormesh(sst.lon.data, sst.lat.data, sst.field, cmap=plt.cm.RdYlBu_r, \n",
    "                        vmin=sstmin, vmax=sstmax, transform=filament.datacrs)\n",
    "    \n",
    "    cb = plt.colorbar(pcm, extend=\"both\", shrink=0.75)\n",
    "    cb.set_label(\"°C\", rotation=0, ha=\"left\")\n",
    "\n",
    "    iii = 0        \n",
    "    #vis.add_to_plot(ax, myproj)\n",
    "\n",
    "    ax.add_feature(filament.coast_f, linewidth=.2, color=\".5\")\n",
    "    gl = ax.gridlines(crs=ccrs.PlateCarree(), draw_labels=True,\n",
    "                  linewidth=.5, color='.25', linestyle='--', zorder=2)\n",
    "    gl.top_labels = False\n",
    "    gl.right_labels = False\n",
    "\n",
    "    plt.savefig(figname)\n",
    "    # plt.show()\n",
    "    plt.close(fig)"
   ]
  },
  {
   "cell_type": "code",
   "execution_count": null,
   "metadata": {},
   "outputs": [],
   "source": []
  }
 ],
 "metadata": {
  "@webio": {
   "lastCommId": null,
   "lastKernelId": null
  },
  "kernelspec": {
   "display_name": "Filament3.11",
   "language": "python",
   "name": "filament3.11"
  },
  "language_info": {
   "codemirror_mode": {
    "name": "ipython",
    "version": 3
   },
   "file_extension": ".py",
   "mimetype": "text/x-python",
   "name": "python",
   "nbconvert_exporter": "python",
   "pygments_lexer": "ipython3",
   "version": "3.11.0"
  },
  "toc": {
   "base_numbering": 1,
   "nav_menu": {},
   "number_sections": true,
   "sideBar": true,
   "skip_h1_title": false,
   "title_cell": "Table of Contents",
   "title_sidebar": "Contents",
   "toc_cell": false,
   "toc_position": {},
   "toc_section_display": true,
   "toc_window_display": false
  }
 },
 "nbformat": 4,
 "nbformat_minor": 2
}
