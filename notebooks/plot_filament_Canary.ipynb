{
 "cells": [
  {
   "cell_type": "markdown",
   "metadata": {},
   "source": [
    "# Sea surface temperature Canary\n",
    "\n",
    "Plot the SST in the Canary Current Upwelling System."
   ]
  },
  {
   "cell_type": "code",
   "execution_count": 2,
   "metadata": {},
   "outputs": [],
   "source": [
    "import sys\n",
    "sys.path.insert(0, '..')\n",
    "import os\n",
    "import glob\n",
    "from filament import filament\n",
    "import datetime\n",
    "import netCDF4\n",
    "import cmocean\n",
    "import logging\n",
    "import numpy as np\n",
    "import matplotlib.pyplot as plt\n",
    "from importlib import reload\n",
    "import cartopy\n",
    "import cartopy.crs as ccrs\n",
    "import cartopy.feature as cfeature\n",
    "import cartopy.mpl.ticker as cartopyticker\n",
    "myproj = ccrs.PlateCarree()\n",
    "coast = cfeature.GSHHSFeature(scale=\"f\")\n",
    "reload(filament)\n",
    "plt.style.use(\"filament.mplstyle\")"
   ]
  },
  {
   "cell_type": "code",
   "execution_count": 3,
   "metadata": {},
   "outputs": [],
   "source": [
    "logger = logging.getLogger(\"filamentPlot\")\n",
    "logger.setLevel(logging.INFO)\n",
    "logging.info(\"Starting\")\n",
    "plotvis = 0"
   ]
  },
  {
   "cell_type": "code",
   "execution_count": 16,
   "metadata": {},
   "outputs": [
    {
     "name": "stderr",
     "output_type": "stream",
     "text": [
      "INFO:filamentPlot:Processing 8 files\n"
     ]
    }
   ],
   "source": [
    "datadir = \"/home/ctroupin/data/SST/Bloom/\"\n",
    "\n",
    "figdir = \"../figures/SST/Bloom/\"\n",
    "visibledir = \"/data/Visible/\"\n",
    "datafilelist = sorted(glob.glob(os.path.join(datadir, \"*2024*SST*\")))\n",
    "nfiles = len(datafilelist)\n",
    "logger.info(\"Processing {} files\".format(nfiles))\n",
    "mediumdomain = (-19., -6., 25., 35.)\n",
    "smalldomain = (-15., -9., 27., 33.)\n",
    "tinydomain = (-12., -9., 29.5, 32.)\n",
    "canarydomain = (-19., -13., 26., 30.)\n",
    "medseadomain = (-2.5, 0., 36., 37.)\n",
    "westmed = (-5., 10., 35., 46.)\n",
    "cretedomain = (23., 27., 34., 36.5)\n",
    "sidedomain = (29.9, 33, 34.9, 37.25)\n",
    "capeblanc = (-22.5, -15.5, 17.5, 23.75)\n",
    "capeghir = ( -12.5, -9.25, 29., 32)\n",
    "alboran = (-5.6, -2.6, 34.8, 37.54)\n",
    "bergen = (1.5, 6.5, 58, 62.5)\n",
    "galicia = (-12., -5., 40.5, 46.)\n",
    "\n",
    "domain = canarydomain"
   ]
  },
  {
   "cell_type": "code",
   "execution_count": 17,
   "metadata": {},
   "outputs": [],
   "source": [
    "if not(os.path.exists(figdir)):\n",
    "    os.makedirs(figdir)"
   ]
  },
  {
   "cell_type": "markdown",
   "metadata": {},
   "source": [
    "## Loop on files"
   ]
  },
  {
   "cell_type": "code",
   "execution_count": 19,
   "metadata": {},
   "outputs": [
    {
     "name": "stderr",
     "output_type": "stream",
     "text": [
      "INFO:filamentPlot:Working on /home/ctroupin/data/SST/Bloom/AQUA_MODIS.20240623T033500.L2.SST4.NRT.nc\n",
      "INFO:filamentPlot:Level-2 data\n",
      "INFO:filamentPlot:Working on /home/ctroupin/data/SST/Bloom/AQUA_MODIS.20240623T143000.L2.SST.NRT.nc\n",
      "INFO:filamentPlot:Level-2 data\n",
      "INFO:filamentPlot:Working on /home/ctroupin/data/SST/Bloom/SNPP_VIIRS.20240623T031200.L2.SST3.NRT.nc\n",
      "INFO:filamentPlot:Level-2 data\n",
      "INFO:filamentPlot:Working on /home/ctroupin/data/SST/Bloom/SNPP_VIIRS.20240624T024800.L2.SST3.NRT.nc\n",
      "INFO:filamentPlot:Level-2 data\n",
      "INFO:filamentPlot:Working on /home/ctroupin/data/SST/Bloom/SNPP_VIIRS.20240624T140600.L2.SST.NRT.nc\n",
      "INFO:filamentPlot:Level-2 data\n",
      "INFO:filamentPlot:Working on /home/ctroupin/data/SST/Bloom/TERRA_MODIS.20240623T113001.L2.SST.NRT.nc\n",
      "INFO:filamentPlot:Level-2 data\n",
      "INFO:filamentPlot:Working on /home/ctroupin/data/SST/Bloom/TERRA_MODIS.20240623T222500.L2.SST4.NRT.nc\n",
      "INFO:filamentPlot:Level-2 data\n",
      "INFO:filamentPlot:Working on /home/ctroupin/data/SST/Bloom/TERRA_MODIS.20240624T103001.L2.SST.NRT.nc\n",
      "INFO:filamentPlot:Level-2 data\n"
     ]
    }
   ],
   "source": [
    "for ifile, datafile in enumerate(datafilelist):\n",
    "    logger.info(\"Working on {}\".format(datafile))\n",
    "    \n",
    "    #chloro = filament.Chloro()=\n",
    "    #chloro.read_from_oceancolorL2(datafile)\n",
    "    \n",
    "    \n",
    "    with netCDF4.Dataset(datafile) as nc:\n",
    "        proclevel = nc.processing_level\n",
    "    sst = filament.SST()\n",
    "    \n",
    "    # Select the reader according to processing level\n",
    "    if proclevel == \"L3 Mapped\":\n",
    "        logger.info(\"Level-3 data\")\n",
    "        sst.read_from_oceancolorL3(datafile, coordinates)\n",
    "    elif proclevel == \"L2\":\n",
    "        logger.info(\"Level-2 data\")\n",
    "        sst.read_from_oceancolorL2(datafile)\n",
    "        sst.field = np.ma.masked_where(sst.qflag > 2, sst.field)\n",
    "        \n",
    "    # Compute min and max values in the region of interest \n",
    "    # (to adapt the colorbar)\n",
    "    #sstmin, sstmax = get_sst_limits(sst, [-18., -15., 27., 29.])\n",
    "    sstmin, sstmax = 17.5, 22.5\n",
    "    \n",
    "    figname = os.path.join(figdir, sst.get_figname())\n",
    "\n",
    "    fig = plt.figure(figsize=(12, 10))\n",
    "    ax = plt.subplot(111, projection=myproj)\n",
    "    ax.set_extent(domain)\n",
    "    plt.title(f\"VIIRS | {sst.date.strftime('%Y-%m-%d %H:%M:%S')}\", fontsize=24)\n",
    "\n",
    "    iii = 0        \n",
    "    #vis.add_to_plot(ax, myproj)\n",
    "\n",
    "    sst.add_to_plot(fig, ax, domain=domain, cmap=plt.cm.RdYlBu_r,\n",
    "                    clim=[sstmin, sstmax], vis=False,\n",
    "                    cbarloc=[0.65, 0.25, 0.2, 0.015], alpha=1)\n",
    "    \n",
    "    ax.add_feature(coast, linewidth=.2, color=\".5\")\n",
    "    filament.decorate_map(ax, domain, np.arange(domain[0], domain[1], 1.), \n",
    "                              np.arange(domain[2], domain[3], 1.))\n",
    "    plt.savefig(figname)\n",
    "    # plt.show()\n",
    "    plt.close(fig)"
   ]
  },
  {
   "cell_type": "raw",
   "metadata": {},
   "source": [
    "def get_sst_limits(sst, domain=[-180., 180., -90., 90.]):\n",
    "    valex = -32767.0\n",
    "    \n",
    "    goodlon = np.where( (sst.lon[:] <= domain[1]) & (sst.lon[:] >= domain[0]) )\n",
    "    goodlat = np.where( (sst.lat[:] <= domain[3]) & (sst.lat[:] >= domain[2]) )\n",
    "    goodcords = np.where( (sst.lon[:] <= domain[1]) \n",
    "                         & (sst.lon[:] >= domain[0]) \n",
    "                         & (sst.lat[:] <= domain[3]) \n",
    "                         & (sst.lat[:] >= domain[2]))\n",
    "    sstdomain = sst.field[goodcords]\n",
    "    goodvals = (sstdomain > 10.)\n",
    "    sstmin = np.ceil(np.percentile(sstdomain[goodvals], 1.))\n",
    "    sstmax = np.floor(np.percentile(sstdomain[goodvals], 99.))\n",
    "\n",
    "    return sstmin, sstmax"
   ]
  },
  {
   "cell_type": "code",
   "execution_count": null,
   "metadata": {},
   "outputs": [],
   "source": []
  }
 ],
 "metadata": {
  "@webio": {
   "lastCommId": null,
   "lastKernelId": null
  },
  "kernelspec": {
   "display_name": "Filament",
   "language": "python",
   "name": "filament"
  },
  "language_info": {
   "codemirror_mode": {
    "name": "ipython",
    "version": 3
   },
   "file_extension": ".py",
   "mimetype": "text/x-python",
   "name": "python",
   "nbconvert_exporter": "python",
   "pygments_lexer": "ipython3",
   "version": "3.10.12"
  },
  "toc": {
   "base_numbering": 1,
   "nav_menu": {},
   "number_sections": true,
   "sideBar": true,
   "skip_h1_title": false,
   "title_cell": "Table of Contents",
   "title_sidebar": "Contents",
   "toc_cell": false,
   "toc_position": {},
   "toc_section_display": true,
   "toc_window_display": false
  }
 },
 "nbformat": 4,
 "nbformat_minor": 2
}
