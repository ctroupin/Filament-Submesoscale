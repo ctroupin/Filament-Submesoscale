{
 "cells": [
  {
   "cell_type": "markdown",
   "metadata": {},
   "source": [
    "# Sea surface temperature Canary\n",
    "\n",
    "Plot the SST in the Canary Current Upwelling System."
   ]
  },
  {
   "cell_type": "code",
   "execution_count": 1,
   "metadata": {},
   "outputs": [],
   "source": [
    "import sys\n",
    "sys.path.insert(0, '..')\n",
    "import os\n",
    "import glob\n",
    "from filament import filament\n",
    "import datetime\n",
    "import netCDF4\n",
    "import cmocean\n",
    "import logging\n",
    "import numpy as np\n",
    "import matplotlib.pyplot as plt\n",
    "from importlib import reload\n",
    "import cartopy\n",
    "import cartopy.crs as ccrs\n",
    "import cartopy.feature as cfeature\n",
    "import cartopy.mpl.ticker as cartopyticker\n",
    "myproj = ccrs.PlateCarree()\n",
    "coast = cfeature.GSHHSFeature(scale=\"f\")\n",
    "reload(filament)\n",
    "plt.style.use(\"filament.mplstyle\")"
   ]
  },
  {
   "cell_type": "code",
   "execution_count": 2,
   "metadata": {},
   "outputs": [],
   "source": [
    "logger = logging.getLogger(\"filamentPlot\")\n",
    "logger.setLevel(logging.INFO)\n",
    "logging.info(\"Starting\")\n",
    "plotvis = 0"
   ]
  },
  {
   "cell_type": "code",
   "execution_count": 3,
   "metadata": {},
   "outputs": [
    {
     "name": "stderr",
     "output_type": "stream",
     "text": [
      "INFO:filamentPlot:Processing 15 files\n"
     ]
    }
   ],
   "source": [
    "regionname= \"BloomJune2024\"\n",
    "datadir = f\"/home/ctroupin/data/SST/{regionname}/\"\n",
    "\n",
    "figdir = f\"../figures/SST/{regionname}/\"\n",
    "visibledir = \"/data/Visible/\"\n",
    "datafilelist = sorted(glob.glob(os.path.join(datadir, \"*SST*.nc\")))\n",
    "nfiles = len(datafilelist)\n",
    "logger.info(\"Processing {} files\".format(nfiles))\n",
    "mediumdomain = (-19., -6., 25., 35.)\n",
    "smalldomain = (-15., -9., 27., 33.)\n",
    "tinydomain = (-12., -9., 29.5, 32.)\n",
    "canarydomain = (-19., -13., 26., 30.)\n",
    "smallmedseadomain = (-2.5, 0., 36., 37.)\n",
    "medseadomain = (-0.5, 5.5, 37.5, 41.)\n",
    "medseadomain = (1., 2., 39.5, 40.)\n",
    "capeghirdomain = (-13.5, -8.5, 28.5, 33.0)\n",
    "gulflion = (1.5, 7.7, 41., 44.0)\n",
    "\n",
    "domain = canarydomain\n",
    "\n",
    "myproj = ccrs.Mercator(central_longitude=0.5 * (domain[0] + domain[1]), min_latitude=domain[2], \n",
    "                       max_latitude=domain[3])"
   ]
  },
  {
   "cell_type": "code",
   "execution_count": 4,
   "metadata": {},
   "outputs": [],
   "source": [
    "if not(os.path.exists(figdir)):\n",
    "    os.makedirs(figdir)"
   ]
  },
  {
   "cell_type": "markdown",
   "metadata": {},
   "source": [
    "## Loop on files"
   ]
  },
  {
   "cell_type": "code",
   "execution_count": 6,
   "metadata": {},
   "outputs": [
    {
     "name": "stderr",
     "output_type": "stream",
     "text": [
      "INFO:filamentPlot:Working on /home/ctroupin/data/SST/BloomJune2024/AQUA_MODIS.20240624T041501.L2.SST4.NRT.nc\n",
      "INFO:filamentPlot:Level-2 data\n",
      "INFO:filamentPlot:Working on /home/ctroupin/data/SST/BloomJune2024/AQUA_MODIS.20240624T151001.L2.SST.NRT.nc\n",
      "INFO:filamentPlot:Level-2 data\n",
      "INFO:filamentPlot:Working on /home/ctroupin/data/SST/BloomJune2024/AQUA_MODIS.20240625T031501.L2.SST4.NRT.nc\n",
      "INFO:filamentPlot:Level-2 data\n",
      "INFO:filamentPlot:Working on /home/ctroupin/data/SST/BloomJune2024/AQUA_MODIS.20240625T141501.L2.SST.NRT.nc\n",
      "INFO:filamentPlot:Level-2 data\n",
      "INFO:filamentPlot:Working on /home/ctroupin/data/SST/BloomJune2024/AQUA_MODIS.20240626T145500.L2.SST.NRT.nc\n",
      "INFO:filamentPlot:Level-2 data\n",
      "INFO:filamentPlot:Working on /home/ctroupin/data/SST/BloomJune2024/AQUA_MODIS.20240627T030001.L2.SST4.NRT.nc\n",
      "INFO:filamentPlot:Level-2 data\n",
      "INFO:filamentPlot:Working on /home/ctroupin/data/SST/BloomJune2024/SNPP_VIIRS.20240624T024800.L2.SST3.NRT.nc\n",
      "INFO:filamentPlot:Level-2 data\n",
      "INFO:filamentPlot:Working on /home/ctroupin/data/SST/BloomJune2024/SNPP_VIIRS.20240624T140600.L2.SST.NRT.nc\n",
      "INFO:filamentPlot:Level-2 data\n",
      "INFO:filamentPlot:Working on /home/ctroupin/data/SST/BloomJune2024/SNPP_VIIRS.20240625T023000.L2.SST3.NRT.nc\n",
      "INFO:filamentPlot:Level-2 data\n",
      "INFO:filamentPlot:Working on /home/ctroupin/data/SST/BloomJune2024/SNPP_VIIRS.20240625T134801.L2.SST.NRT.nc\n",
      "INFO:filamentPlot:Level-2 data\n",
      "INFO:filamentPlot:Working on /home/ctroupin/data/SST/BloomJune2024/SNPP_VIIRS.20240626T133001.L2.SST.NRT.nc\n",
      "INFO:filamentPlot:Level-2 data\n",
      "INFO:filamentPlot:Working on /home/ctroupin/data/SST/BloomJune2024/TERRA_MODIS.20240624T103001.L2.SST.NRT.nc\n",
      "INFO:filamentPlot:Level-2 data\n",
      "INFO:filamentPlot:Working on /home/ctroupin/data/SST/BloomJune2024/TERRA_MODIS.20240624T230500.L2.SST4.NRT.nc\n",
      "INFO:filamentPlot:Level-2 data\n",
      "INFO:filamentPlot:Working on /home/ctroupin/data/SST/BloomJune2024/TERRA_MODIS.20240625T111000.L2.SST.NRT.nc\n",
      "INFO:filamentPlot:Level-2 data\n",
      "INFO:filamentPlot:Working on /home/ctroupin/data/SST/BloomJune2024/TERRA_MODIS.20240626T115000.L2.SST.NRT.nc\n",
      "INFO:filamentPlot:Level-2 data\n"
     ]
    }
   ],
   "source": [
    "for ifile, datafile in enumerate(datafilelist):\n",
    "    logger.info(\"Working on {}\".format(datafile))\n",
    "    \n",
    "    #chloro = filament.Chloro()\n",
    "    #chloro.read_from_oceancolorL2(datafile)\n",
    "    \n",
    "    \n",
    "    with netCDF4.Dataset(datafile) as nc:\n",
    "        proclevel = nc.processing_level\n",
    "    \n",
    "    sst = filament.SST()\n",
    "    \n",
    "    # Select the reader according to processing level\n",
    "    if proclevel == \"L3 Mapped\":\n",
    "        logger.info(\"Level-3 data\")\n",
    "        sst.read_from_oceancolorL3(datafile, coordinates)\n",
    "    elif proclevel == \"L2\":\n",
    "        logger.info(\"Level-2 data\")\n",
    "        sst.read_from_oceancolorL2(datafile)\n",
    "        sst.field = np.ma.masked_where(sst.qflag > 2, sst.field)\n",
    "    \n",
    "    titletext = sst.get_title()\n",
    "    \n",
    "    # Compute min and max values in the region of interest \n",
    "    # (to adapt the colorbar)\n",
    "    #sstmin, sstmax = get_sst_limits(sst, [-18., -15., 27., 29.])\n",
    "    sstmin, sstmax = 17.5, 22.5\n",
    "    \n",
    "    figname = os.path.join(figdir, sst.get_figname())\n",
    "\n",
    "    fig = plt.figure(figsize=(12, 10))\n",
    "    ax = plt.subplot(111, projection=myproj)\n",
    "    ax.set_extent(domain)\n",
    "    plt.title(titletext, fontsize=24)\n",
    "    \n",
    "    \n",
    "    iii = 0\n",
    "    #for tlon, tlat in zip(tracklon, tracklat):\n",
    "    #    iii += 1\n",
    "    #    ax.text(tlon, tlat, iii, horizontalalignment='center', verticalalignment='center',\n",
    "    #        fontsize=15)\n",
    "        \n",
    "    #vis.add_to_plot(ax, myproj)\n",
    "    #sst.field[sst.lat.data == -999.] = np.nan\n",
    "    #sst.field[sst.lon.data == -999.] = np.nan\n",
    "    #sst.lat[sst.lat.data == -999.] = np.nan\n",
    "    #sst.lon[sst.lon.data == -999.] = np.nan\n",
    "    \n",
    "    #sst.lat = np.ma.masked_equal(sst.lat, -999.0, copy=True)\n",
    "    #sst.lon = np.ma.masked_equal(sst.lon, -999.0, copy=True)\n",
    "    sst.add_to_plot(fig, ax, domain=domain, cmap=plt.cm.RdYlBu_r,\n",
    "                    clim=[sstmin, sstmax], vis=False,\n",
    "                    cbarloc=[0.6, 0.25, 0.2, 0.015], alpha=1)\n",
    "    \n",
    "    ax.add_feature(coast, linewidth=.2, color=\".5\")\n",
    "    gl = ax.gridlines(crs=ccrs.PlateCarree(), draw_labels=True,\n",
    "                  linewidth=1, color='gray', alpha=0.5, linestyle='--')\n",
    "    gl.top_labels = False\n",
    "    gl.right_labels = False\n",
    "    \n",
    "    plt.savefig(figname)\n",
    "    plt.close()"
   ]
  },
  {
   "cell_type": "code",
   "execution_count": null,
   "metadata": {},
   "outputs": [],
   "source": []
  }
 ],
 "metadata": {
  "@webio": {
   "lastCommId": null,
   "lastKernelId": null
  },
  "kernelspec": {
   "display_name": "Rando GC",
   "language": "python",
   "name": "randogc"
  },
  "language_info": {
   "codemirror_mode": {
    "name": "ipython",
    "version": 3
   },
   "file_extension": ".py",
   "mimetype": "text/x-python",
   "name": "python",
   "nbconvert_exporter": "python",
   "pygments_lexer": "ipython3",
   "version": "3.10.12"
  }
 },
 "nbformat": 4,
 "nbformat_minor": 2
}
