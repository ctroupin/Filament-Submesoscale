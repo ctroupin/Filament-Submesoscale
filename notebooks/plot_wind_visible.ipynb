{
 "cells": [
  {
   "cell_type": "markdown",
   "metadata": {},
   "source": [
    "# Plot wind visible\n",
    "Plotting wind vectors measured by satellite on top of a true color image."
   ]
  },
  {
   "cell_type": "code",
   "execution_count": 30,
   "metadata": {},
   "outputs": [],
   "source": [
    "import sys\n",
    "sys.path.insert(0, '..')\n",
    "import datetime\n",
    "import os\n",
    "import glob\n",
    "import numpy as np\n",
    "import matplotlib.pyplot as plt\n",
    "from filament import filament\n",
    "import logging\n",
    "import cmocean\n",
    "import copy\n",
    "import cartopy.crs as ccrs\n",
    "import cartopy.feature as cfeature\n",
    "import cartopy.feature as cf\n",
    "coast = cf.GSHHSFeature(scale='f')\n",
    "myproj = ccrs.PlateCarree()\n",
    "coast = cfeature.GSHHSFeature(scale=\"f\")\n",
    "from importlib import reload\n",
    "reload(filament)\n",
    "plt.style.use(\"./filament.mplstyle\")"
   ]
  },
  {
   "cell_type": "code",
   "execution_count": 2,
   "metadata": {},
   "outputs": [
    {
     "name": "stderr",
     "output_type": "stream",
     "text": [
      "INFO:root:Starting\n"
     ]
    }
   ],
   "source": [
    "logger = logging.getLogger()\n",
    "logger.setLevel(logging.INFO)\n",
    "logging.info(\"Starting\")"
   ]
  },
  {
   "cell_type": "markdown",
   "metadata": {},
   "source": [
    "## Input parameters\n",
    "We set the date of interest and the domain coordinates are taken from the geoTIFF file."
   ]
  },
  {
   "cell_type": "code",
   "execution_count": 3,
   "metadata": {},
   "outputs": [],
   "source": [
    "year, month, day = 2023, 4, 6\n",
    "figdir = \"../figures/wind/Canary/\"\n",
    "visibledir = \"/home/ctroupin/data/Visible/Canarias/\"\n",
    "#satellite = \"VIIRS\"\n",
    "satellite = \"TERRA\"\n",
    "#satellite = \"AQUA\"\n",
    "#satellite = \"NOAA\"\n",
    "#satellite = \"Sentinel-2\"\n",
    "os.path.isdir(visibledir)\n",
    "if not(os.path.exists(figdir)):\n",
    "    os.mkdir(figdir)"
   ]
  },
  {
   "cell_type": "markdown",
   "metadata": {},
   "source": [
    "## Data"
   ]
  },
  {
   "cell_type": "code",
   "execution_count": 4,
   "metadata": {},
   "outputs": [],
   "source": [
    "datewind = datetime.datetime(year, month, day)\n",
    "dayofyear = datewind.timetuple().tm_yday"
   ]
  },
  {
   "cell_type": "markdown",
   "metadata": {},
   "source": [
    "### Visible image"
   ]
  },
  {
   "cell_type": "code",
   "execution_count": 5,
   "metadata": {},
   "outputs": [
    {
     "name": "stdout",
     "output_type": "stream",
     "text": [
      "Reading geoTIFF file TERRA-2023-04-06T00_00_00Z.tiff\n"
     ]
    },
    {
     "data": {
      "text/plain": [
       "[-20.5149, -11.2726, 25.118034545886832, 30.857665454113175]"
      ]
     },
     "execution_count": 5,
     "metadata": {},
     "output_type": "execute_result"
    }
   ],
   "source": [
    "visibleim = datewind.strftime(\"{}-%Y-%m-%dT00_00_00Z.tiff\".format(satellite))\n",
    "#visibleim = datewind.strftime(\"Sentinel-3_OLCI_%Y-%m-%d.tiff\")\n",
    "#visibleim = datewind.strftime(\"Sentinel-2-L1C_%Y-%m-%d.tiff\")\n",
    "#visibleim = datewind.strftime(\"AQUA-%Y-%m-%dT00_00_00Z.tiff\")\n",
    "#visibleim = \"2022-10-10-00 00_2022-10-10-23 59_Sentinel-2_L2A_True_color.tiff\"\n",
    "vis = filament.Visible()\n",
    "if os.path.exists(os.path.join(visibledir, visibleim)):\n",
    "    print(\"Reading geoTIFF file {}\".format(visibleim))\n",
    "    vis.read_geotiff(os.path.join(visibledir, visibleim))\n",
    "    extent2 = copy.deepcopy(vis.extent)\n",
    "    extent2[0] -= 360.\n",
    "    extent2[1] -= 360.\n",
    "else:\n",
    "    logger.warning(\"No visible image, specify domain coordinates\")\n",
    "    vis.extent = (-19., -6., 25., 35.)\n",
    "vis.extent"
   ]
  },
  {
   "cell_type": "markdown",
   "metadata": {},
   "source": [
    "### Scatterometer wind\n",
    "The wind (netCDF) are read from the JPL OPEnDAP server.      \n",
    "The files are sorted by years and days of year.\n",
    "\n",
    "With these pieces of information we can create a list of files URLs."
   ]
  },
  {
   "cell_type": "code",
   "execution_count": 6,
   "metadata": {},
   "outputs": [
    {
     "name": "stderr",
     "output_type": "stream",
     "text": [
      "INFO:Filament:Found 29 files\n"
     ]
    },
    {
     "data": {
      "text/plain": [
       "['https://opendap.jpl.nasa.gov:443/opendap/OceanWinds/ascat/preview/L2/metop_b/coastal_opt/2023/096/ascat_20230406_001200_metopb_54730_eps_o_coa_3301_ovw.l2.nc.gz',\n",
       " 'https://opendap.jpl.nasa.gov:443/opendap/OceanWinds/ascat/preview/L2/metop_b/coastal_opt/2023/096/ascat_20230406_015400_metopb_54731_eps_o_coa_3301_ovw.l2.nc.gz',\n",
       " 'https://opendap.jpl.nasa.gov:443/opendap/OceanWinds/ascat/preview/L2/metop_b/coastal_opt/2023/096/ascat_20230406_033600_metopb_54732_eps_o_coa_3301_ovw.l2.nc.gz',\n",
       " 'https://opendap.jpl.nasa.gov:443/opendap/OceanWinds/ascat/preview/L2/metop_b/coastal_opt/2023/096/ascat_20230406_051800_metopb_54733_eps_o_coa_3301_ovw.l2.nc.gz',\n",
       " 'https://opendap.jpl.nasa.gov:443/opendap/OceanWinds/ascat/preview/L2/metop_b/coastal_opt/2023/096/ascat_20230406_065700_metopb_54734_eps_o_coa_3301_ovw.l2.nc.gz',\n",
       " 'https://opendap.jpl.nasa.gov:443/opendap/OceanWinds/ascat/preview/L2/metop_b/coastal_opt/2023/096/ascat_20230406_083900_metopb_54735_eps_o_coa_3301_ovw.l2.nc.gz',\n",
       " 'https://opendap.jpl.nasa.gov:443/opendap/OceanWinds/ascat/preview/L2/metop_b/coastal_opt/2023/096/ascat_20230406_102100_metopb_54736_eps_o_coa_3301_ovw.l2.nc.gz',\n",
       " 'https://opendap.jpl.nasa.gov:443/opendap/OceanWinds/ascat/preview/L2/metop_b/coastal_opt/2023/096/ascat_20230406_120300_metopb_54737_eps_o_coa_3301_ovw.l2.nc.gz',\n",
       " 'https://opendap.jpl.nasa.gov:443/opendap/OceanWinds/ascat/preview/L2/metop_b/coastal_opt/2023/096/ascat_20230406_134500_metopb_54738_eps_o_coa_3301_ovw.l2.nc.gz',\n",
       " 'https://opendap.jpl.nasa.gov:443/opendap/OceanWinds/ascat/preview/L2/metop_b/coastal_opt/2023/096/ascat_20230406_152400_metopb_54739_eps_o_coa_3301_ovw.l2.nc.gz',\n",
       " 'https://opendap.jpl.nasa.gov:443/opendap/OceanWinds/ascat/preview/L2/metop_b/coastal_opt/2023/096/ascat_20230406_170600_metopb_54740_eps_o_coa_3301_ovw.l2.nc.gz',\n",
       " 'https://opendap.jpl.nasa.gov:443/opendap/OceanWinds/ascat/preview/L2/metop_b/coastal_opt/2023/096/ascat_20230406_184800_metopb_54741_eps_o_coa_3301_ovw.l2.nc.gz',\n",
       " 'https://opendap.jpl.nasa.gov:443/opendap/OceanWinds/ascat/preview/L2/metop_b/coastal_opt/2023/096/ascat_20230406_203000_metopb_54742_eps_o_coa_3301_ovw.l2.nc.gz',\n",
       " 'https://opendap.jpl.nasa.gov:443/opendap/OceanWinds/ascat/preview/L2/metop_b/coastal_opt/2023/096/ascat_20230406_220900_metopb_54743_eps_o_coa_3301_ovw.l2.nc.gz',\n",
       " 'https://opendap.jpl.nasa.gov:443/opendap/OceanWinds/ascat/preview/L2/metop_b/coastal_opt/2023/096/ascat_20230406_235100_metopb_54744_eps_o_coa_3301_ovw.l2.nc.gz',\n",
       " 'https://opendap.jpl.nasa.gov:443/opendap/OceanWinds/ascat/preview/L2/metop_c/coastal_opt/2023/096/ascat_20230406_010600_metopc_22888_eps_o_coa_3301_ovw.l2.nc.gz',\n",
       " 'https://opendap.jpl.nasa.gov:443/opendap/OceanWinds/ascat/preview/L2/metop_c/coastal_opt/2023/096/ascat_20230406_024800_metopc_22889_eps_o_coa_3301_ovw.l2.nc.gz',\n",
       " 'https://opendap.jpl.nasa.gov:443/opendap/OceanWinds/ascat/preview/L2/metop_c/coastal_opt/2023/096/ascat_20230406_042700_metopc_22890_eps_o_coa_3301_ovw.l2.nc.gz',\n",
       " 'https://opendap.jpl.nasa.gov:443/opendap/OceanWinds/ascat/preview/L2/metop_c/coastal_opt/2023/096/ascat_20230406_060900_metopc_22891_eps_o_coa_3301_ovw.l2.nc.gz',\n",
       " 'https://opendap.jpl.nasa.gov:443/opendap/OceanWinds/ascat/preview/L2/metop_c/coastal_opt/2023/096/ascat_20230406_075100_metopc_22892_eps_o_coa_3301_ovw.l2.nc.gz',\n",
       " 'https://opendap.jpl.nasa.gov:443/opendap/OceanWinds/ascat/preview/L2/metop_c/coastal_opt/2023/096/ascat_20230406_093300_metopc_22893_eps_o_coa_3301_ovw.l2.nc.gz',\n",
       " 'https://opendap.jpl.nasa.gov:443/opendap/OceanWinds/ascat/preview/L2/metop_c/coastal_opt/2023/096/ascat_20230406_111500_metopc_22894_eps_o_coa_3301_ovw.l2.nc.gz',\n",
       " 'https://opendap.jpl.nasa.gov:443/opendap/OceanWinds/ascat/preview/L2/metop_c/coastal_opt/2023/096/ascat_20230406_125400_metopc_22895_eps_o_coa_3301_ovw.l2.nc.gz',\n",
       " 'https://opendap.jpl.nasa.gov:443/opendap/OceanWinds/ascat/preview/L2/metop_c/coastal_opt/2023/096/ascat_20230406_143600_metopc_22896_eps_o_coa_3301_ovw.l2.nc.gz',\n",
       " 'https://opendap.jpl.nasa.gov:443/opendap/OceanWinds/ascat/preview/L2/metop_c/coastal_opt/2023/096/ascat_20230406_161800_metopc_22897_eps_o_coa_3301_ovw.l2.nc.gz',\n",
       " 'https://opendap.jpl.nasa.gov:443/opendap/OceanWinds/ascat/preview/L2/metop_c/coastal_opt/2023/096/ascat_20230406_180000_metopc_22898_eps_o_coa_3301_ovw.l2.nc.gz',\n",
       " 'https://opendap.jpl.nasa.gov:443/opendap/OceanWinds/ascat/preview/L2/metop_c/coastal_opt/2023/096/ascat_20230406_194200_metopc_22899_eps_o_coa_3301_ovw.l2.nc.gz',\n",
       " 'https://opendap.jpl.nasa.gov:443/opendap/OceanWinds/ascat/preview/L2/metop_c/coastal_opt/2023/096/ascat_20230406_212100_metopc_22900_eps_o_coa_3301_ovw.l2.nc.gz',\n",
       " 'https://opendap.jpl.nasa.gov:443/opendap/OceanWinds/ascat/preview/L2/metop_c/coastal_opt/2023/096/ascat_20230406_230300_metopc_22901_eps_o_coa_3301_ovw.l2.nc.gz']"
      ]
     },
     "execution_count": 6,
     "metadata": {},
     "output_type": "execute_result"
    }
   ],
   "source": [
    "filelist1 = filament.get_filelist_url(year, dayofyear)\n",
    "filelist1"
   ]
  },
  {
   "cell_type": "code",
   "execution_count": 17,
   "metadata": {},
   "outputs": [
    {
     "data": {
      "text/plain": [
       "['/home/ctroupin/data/Wind/Canary/ascat_20230406_102100_metopb_54736_eps_o_coa_3301_ovw.l2.nc.gz']"
      ]
     },
     "execution_count": 17,
     "metadata": {},
     "output_type": "execute_result"
    }
   ],
   "source": [
    "#filelist2 = [\"/data/Wind/ASCAT/GranCanaria/ascat_20170904_212400_metopa_56447_eps_o_coa_2401_ovw.l2.nc.gz\"]\n",
    "filelist2 = sorted(glob.glob(\"/home/ctroupin/data/Wind/Canary/*\"))\n",
    "filelist2"
   ]
  },
  {
   "cell_type": "code",
   "execution_count": 23,
   "metadata": {},
   "outputs": [
    {
     "data": {
      "text/plain": [
       "'metopb'"
      ]
     },
     "execution_count": 23,
     "metadata": {},
     "output_type": "execute_result"
    }
   ],
   "source": [
    "windsatname"
   ]
  },
  {
   "cell_type": "code",
   "execution_count": null,
   "metadata": {
    "scrolled": true
   },
   "outputs": [
    {
     "name": "stderr",
     "output_type": "stream",
     "text": [
      "INFO:root:Working on https://opendap.jpl.nasa.gov:443/opendap/OceanWinds/ascat/preview/L2/metop_b/coastal_opt/2023/096/ascat_20230406_001200_metopb_54730_eps_o_coa_3301_ovw.l2.nc.gz\n",
      "INFO:Filament:No data in the region of interest\n",
      "INFO:root:Working on https://opendap.jpl.nasa.gov:443/opendap/OceanWinds/ascat/preview/L2/metop_b/coastal_opt/2023/096/ascat_20230406_015400_metopb_54731_eps_o_coa_3301_ovw.l2.nc.gz\n",
      "INFO:Filament:No data in the region of interest\n",
      "INFO:root:Working on https://opendap.jpl.nasa.gov:443/opendap/OceanWinds/ascat/preview/L2/metop_b/coastal_opt/2023/096/ascat_20230406_033600_metopb_54732_eps_o_coa_3301_ovw.l2.nc.gz\n",
      "INFO:Filament:No data in the region of interest\n",
      "INFO:root:Working on https://opendap.jpl.nasa.gov:443/opendap/OceanWinds/ascat/preview/L2/metop_b/coastal_opt/2023/096/ascat_20230406_051800_metopb_54733_eps_o_coa_3301_ovw.l2.nc.gz\n",
      "INFO:Filament:No data in the region of interest\n",
      "INFO:root:Working on https://opendap.jpl.nasa.gov:443/opendap/OceanWinds/ascat/preview/L2/metop_b/coastal_opt/2023/096/ascat_20230406_065700_metopb_54734_eps_o_coa_3301_ovw.l2.nc.gz\n",
      "INFO:Filament:No data in the region of interest\n",
      "INFO:root:Working on https://opendap.jpl.nasa.gov:443/opendap/OceanWinds/ascat/preview/L2/metop_b/coastal_opt/2023/096/ascat_20230406_083900_metopb_54735_eps_o_coa_3301_ovw.l2.nc.gz\n"
     ]
    }
   ],
   "source": [
    "reload(filament)\n",
    "\n",
    "imcount = 0\n",
    "for ifile, dataurl in enumerate(filelist1):\n",
    "\n",
    "    logger.info(\"Working on {}\".format(dataurl))\n",
    "    wind = filament.Wind()\n",
    "    res = wind.read_ascat(dataurl, vis.extent)\n",
    "    #res = wind.read_ascat(dataurl, extent2)\n",
    "        \n",
    "    if res:\n",
    "        imcount += 1\n",
    "        # filelistclean.append(dataurl)\n",
    "        mm = str(month).zfill(2)\n",
    "        dd = str(day).zfill(2)\n",
    "        \n",
    "        windfilename = os.path.basename(dataurl)\n",
    "        windsatname = windfilename.split(\"_\")[3]\n",
    "        \n",
    "        fname = \"\".join((satellite, \"-\", dataurl.split(\"/\")[-1].split(\".\")[0], \".jpg\"))\n",
    "        logger.info(\"Saving figure as {}\".format(fname))\n",
    "        figname = os.path.join(figdir, fname)\n",
    "        \n",
    "        fig = plt.figure(figsize=(8, 8))\n",
    "        ax = plt.subplot(111, projection=myproj)\n",
    "        \n",
    "        ax.add_feature(coast, zorder=10, linewidth=.25)\n",
    "        \n",
    "        #ax.add_wms(wms='http://ows.emodnet-bathymetry.eu/wms',\n",
    "        #       layers=['coastlines'],\n",
    "        #       transform=myproj, zorder=3)\n",
    "\n",
    "        vis.add_to_plot(ax, myproj)\n",
    "        wind.add_to_plot(fig, ax, domain=vis.extent, cmap=plt.cm.RdYlBu_r,\n",
    "                         visname=satellite,\n",
    "                         clim=[3., 12.], quivscale=500, quivwidth=0.001,\n",
    "                         #date=wind.time.strftime(\"%Y-%m-%d %H:%M:%S\"),\n",
    "                         )\n",
    "        \n",
    "        \n",
    "        filament.add_vis_wind_caption(ax, visname=\"TERRA\", satname=windsatname, date=wind.time)\n",
    "        \n",
    "        #filament.decorate_map(ax, [7.5, 10, 41.75, 43.5], \n",
    "        #                      np.arange(7., 10., .5), \n",
    "        #                      np.arange(40., 44., 0.25))\n",
    "        \n",
    "        \n",
    "        #plt.show()\n",
    "        plt.savefig(figname, dpi=300, bbox_inches=\"tight\")\n",
    "        plt.close()\n",
    "        fig.clf()\n",
    "logger.info(\"Found {} good swaths\".format(imcount))\n",
    "logger.info(\"Figures printed in {}\".format(figdir))"
   ]
  },
  {
   "cell_type": "code",
   "execution_count": 28,
   "metadata": {},
   "outputs": [
    {
     "data": {
      "text/plain": [
       "cftime.DatetimeGregorian(2023, 4, 6, 10, 21, 0, 0, has_year_zero=False)"
      ]
     },
     "execution_count": 28,
     "metadata": {},
     "output_type": "execute_result"
    }
   ],
   "source": [
    "wind.time"
   ]
  },
  {
   "cell_type": "markdown",
   "metadata": {},
   "source": [
    "## Storm plot: 2 swaths combined "
   ]
  },
  {
   "cell_type": "code",
   "execution_count": null,
   "metadata": {},
   "outputs": [],
   "source": [
    "filelist = sorted(glob.glob(os.path.join(\"/data/Wind/Storm/\", \"*gz\")))\n",
    "filelist\n",
    "\n",
    "fig = plt.figure(figsize=(8, 8))\n",
    "ax = plt.subplot(111, projection=myproj)\n",
    "\n",
    "for ifile, dataurl in enumerate(filelist):\n",
    "\n",
    "    logger.info(\"Working on {}\".format(dataurl))\n",
    "    wind = filament.Wind()\n",
    "    res = wind.read_ascat(dataurl, extent2)\n",
    "\n",
    "    mm = str(month).zfill(2)\n",
    "    dd = str(day).zfill(2)\n",
    "    \n",
    "    if ifile > 0:\n",
    "        cbarplot = False\n",
    "        print(\"Not ploting colorbar\")\n",
    "    else:\n",
    "        cbarplot = True\n",
    "        \n",
    "    wind.add_to_plot(fig, ax, domain=vis.extent, cmap=plt.cm.inferno_r,\n",
    "                         clim=[10, 35.], vis=True, quivscale=500, quivwidth=0.001,\n",
    "                         date=wind.time.strftime(\"%Y-%m-%d\"),\n",
    "                         cbarloc='upper right', cbarplot=cbarplot)\n",
    "    \n",
    "vis.add_to_plot(ax, myproj)\n",
    "      \n",
    "fname = \"\".join((satellite, \"-\", dataurl.split(\"/\")[-1].split(\".\")[0], \".jpg\"))\n",
    "logger.info(\"Saving figure as {}\".format(fname))\n",
    "figname = os.path.join(figdir, fname)\n",
    "       \n",
    "#plt.show()\n",
    "plt.savefig(figname, dpi=300, bbox_inches=\"tight\")\n",
    "plt.close()\n",
    "logger.info(\"Figures printer in {}\".format(figdir))"
   ]
  },
  {
   "cell_type": "markdown",
   "metadata": {},
   "source": [
    "### Specific plot Canary Islands"
   ]
  },
  {
   "cell_type": "code",
   "execution_count": null,
   "metadata": {},
   "outputs": [],
   "source": [
    "places = {\"Cruz Tejeda\": (-15.599804, 28.005904),\n",
    "          \"Teide\": (-16.642337, 28.272777),\n",
    "          \"El Hierro\": (-18.040556, 27.729444),\n",
    "          \"La Gomera\": (-17.248383, 28.109636)}"
   ]
  },
  {
   "cell_type": "code",
   "execution_count": null,
   "metadata": {},
   "outputs": [],
   "source": [
    "fig = plt.figure(figsize=(8, 8))\n",
    "ax = plt.subplot(111, projection=myproj)\n",
    "vis.add_to_plot(ax, myproj)\n",
    "filament.decorate_map(ax, vis.extent, \n",
    "                      np.arange(-19., -13., 2.), \n",
    "                      np.arange(27., 29.5, 1.))\n",
    "ax.plot((places[\"Cruz Tejeda\"][0], places[\"El Hierro\"][0]),\n",
    "        (places[\"Cruz Tejeda\"][1], places[\"El Hierro\"][1]), label=\"X km\")\n",
    "ax.plot((places[\"Cruz Tejeda\"][0], places[\"La Gomera\"][0]),\n",
    "        (places[\"Cruz Tejeda\"][1], places[\"La Gomera\"][1]))\n",
    "ax.plot((places[\"Cruz Tejeda\"][0], places[\"Teide\"][0]),\n",
    "        (places[\"Cruz Tejeda\"][1], places[\"Teide\"][1]))\n",
    "\n",
    "plt.legend()\n",
    "    \n",
    "plt.show()\n",
    "#plt.savefig(figname, dpi=300, bbox_inches=\"tight\")\n",
    "plt.close()"
   ]
  },
  {
   "cell_type": "markdown",
   "metadata": {},
   "source": [
    "## Fuerteventura - Lanzarote"
   ]
  },
  {
   "cell_type": "code",
   "execution_count": null,
   "metadata": {},
   "outputs": [],
   "source": [
    "dataurl = \"/data/Wind/ASCAT/GranCanaria/ascat_20200329_104200_metopb_39066_eps_o_coa_3202_ovw.l2.nc.gz\"\n",
    "\n",
    "logger.info(\"Working on {}\".format(dataurl))\n",
    "wind = filament.Wind()\n",
    "res = wind.read_ascat(dataurl, vis.extent)\n",
    "\n",
    "\n",
    "# filelistclean.append(dataurl)\n",
    "mm = str(month).zfill(2)\n",
    "dd = str(day).zfill(2)\n",
    "\n",
    "fname = \"\".join((\"aqua-\", dataurl.split(\"/\")[-1].split(\".\")[0], \".jpg\"))\n",
    "logger.info(\"Saving figure as {}\".format(fname))\n",
    "figname = os.path.join(figdir, fname)\n",
    "\n",
    "fig = plt.figure(figsize=(8, 8))\n",
    "ax = plt.subplot(111, projection=myproj)\n",
    "vis.add_to_plot(ax, myproj)\n",
    "wind.add_to_plot(fig, ax, domain=vis.extent, cmap=plt.cm.hot,\n",
    "                 clim=[0, 5], vis=True, quivscale=250, quivwidth=0.001,\n",
    "                 date=wind.time.strftime(\"%Y-%m-%d %H:%M\"))\n",
    "\n",
    "\n",
    "ax.plot([-15.570852, -13.976249], [28.038895, 28.596877])\n",
    "ax.plot([-15.570852, -13.784467], [28.038895, 28.918923])\n",
    "\n",
    " \n",
    "#filament.decorate_map(ax, [7.5, 10, 41.75, 43.5], \n",
    "#                      np.arange(7., 10., .5), \n",
    "#                      np.arange(40., 44., 0.25))\n",
    "\n",
    "\n",
    "plt.show()\n",
    "# plt.savefig(figname, dpi=300, bbox_inches=\"tight\")\n",
    "plt.close()\n"
   ]
  },
  {
   "cell_type": "code",
   "execution_count": null,
   "metadata": {},
   "outputs": [],
   "source": []
  }
 ],
 "metadata": {
  "@webio": {
   "lastCommId": null,
   "lastKernelId": null
  },
  "kernelspec": {
   "display_name": "Filament3.11",
   "language": "python",
   "name": "filament3.11"
  },
  "language_info": {
   "codemirror_mode": {
    "name": "ipython",
    "version": 3
   },
   "file_extension": ".py",
   "mimetype": "text/x-python",
   "name": "python",
   "nbconvert_exporter": "python",
   "pygments_lexer": "ipython3",
   "version": "3.11.0"
  }
 },
 "nbformat": 4,
 "nbformat_minor": 2
}
