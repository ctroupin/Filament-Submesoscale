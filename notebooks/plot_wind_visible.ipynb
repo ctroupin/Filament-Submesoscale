{
 "cells": [
  {
   "cell_type": "markdown",
   "metadata": {},
   "source": [
    "# Plot wind visible\n",
    "Plotting wind vectors measured by satellite on top of a true color image."
   ]
  },
  {
   "cell_type": "code",
   "execution_count": 1,
   "metadata": {},
   "outputs": [],
   "source": [
    "import sys\n",
    "sys.path.insert(0, '..')\n",
    "import datetime\n",
    "import os\n",
    "import glob\n",
    "import numpy as np\n",
    "import matplotlib.pyplot as plt\n",
    "from filament import filament\n",
    "import logging\n",
    "import cmocean\n",
    "import copy\n",
    "import cartopy.crs as ccrs\n",
    "import cartopy.feature as cfeature\n",
    "import cartopy.feature as cf\n",
    "coast = cf.GSHHSFeature(scale='f')\n",
    "myproj = ccrs.PlateCarree()\n",
    "coast = cfeature.GSHHSFeature(scale=\"f\")\n",
    "from importlib import reload\n",
    "reload(filament)\n",
    "plt.style.use(\"./filament.mplstyle\")"
   ]
  },
  {
   "cell_type": "code",
   "execution_count": 2,
   "metadata": {},
   "outputs": [
    {
     "name": "stderr",
     "output_type": "stream",
     "text": [
      "INFO:root:Starting\n"
     ]
    }
   ],
   "source": [
    "logger = logging.getLogger()\n",
    "logger.setLevel(logging.INFO)\n",
    "logging.info(\"Starting\")"
   ]
  },
  {
   "cell_type": "markdown",
   "metadata": {},
   "source": [
    "## Input parameters\n",
    "We set the date of interest and the domain coordinates are taken from the geoTIFF file."
   ]
  },
  {
   "cell_type": "code",
   "execution_count": 3,
   "metadata": {},
   "outputs": [],
   "source": [
    "year, month, day = 2023, 3, 19\n",
    "figdir = \"../figures/wind/Canary/\"\n",
    "visibledir = \"/home/ctroupin/data/Visible/CanaryIslands/\"\n",
    "satellite = \"VIIRS\"\n",
    "#satellite = \"TERRA\"\n",
    "#satellite = \"AQUA\"\n",
    "#satellite = \"NOAA\"\n",
    "#satellite = \"Sentinel-2\"\n",
    "os.path.isdir(visibledir)\n",
    "if not(os.path.exists(figdir)):\n",
    "    os.mkdir(figdir)"
   ]
  },
  {
   "cell_type": "markdown",
   "metadata": {},
   "source": [
    "## Data"
   ]
  },
  {
   "cell_type": "code",
   "execution_count": 4,
   "metadata": {},
   "outputs": [],
   "source": [
    "datewind = datetime.datetime(year, month, day)\n",
    "dayofyear = datewind.timetuple().tm_yday"
   ]
  },
  {
   "cell_type": "markdown",
   "metadata": {},
   "source": [
    "### Visible image"
   ]
  },
  {
   "cell_type": "code",
   "execution_count": 5,
   "metadata": {},
   "outputs": [
    {
     "name": "stdout",
     "output_type": "stream",
     "text": [
      "Reading geoTIFF file VIIRS-2023-03-19T00_00_00Z.tiff\n"
     ]
    },
    {
     "data": {
      "text/plain": [
       "[-23.053400000000003,\n",
       " -13.010000000000002,\n",
       " 23.18461658643326,\n",
       " 29.658983413566737]"
      ]
     },
     "execution_count": 5,
     "metadata": {},
     "output_type": "execute_result"
    }
   ],
   "source": [
    "visibleim = datewind.strftime(\"{}-%Y-%m-%dT00_00_00Z.tiff\".format(satellite))\n",
    "#visibleim = datewind.strftime(\"Sentinel-3_OLCI_%Y-%m-%d.tiff\")\n",
    "#visibleim = datewind.strftime(\"Sentinel-2-L1C_%Y-%m-%d.tiff\")\n",
    "#visibleim = datewind.strftime(\"AQUA-%Y-%m-%dT00_00_00Z.tiff\")\n",
    "#visibleim = \"2022-10-10-00 00_2022-10-10-23 59_Sentinel-2_L2A_True_color.tiff\"\n",
    "vis = filament.Visible()\n",
    "if os.path.exists(os.path.join(visibledir, visibleim)):\n",
    "    print(\"Reading geoTIFF file {}\".format(visibleim))\n",
    "    vis.read_geotiff(os.path.join(visibledir, visibleim))\n",
    "    extent2 = copy.deepcopy(vis.extent)\n",
    "    extent2[0] -= 360.\n",
    "    extent2[1] -= 360.\n",
    "else:\n",
    "    logger.warning(\"No visible image, specify domain coordinates\")\n",
    "    vis.extent = (-19., -6., 25., 35.)\n",
    "vis.extent"
   ]
  },
  {
   "cell_type": "markdown",
   "metadata": {},
   "source": [
    "### Scatterometer wind\n",
    "The wind (netCDF) are read from the JPL OPEnDAP server.      \n",
    "The files are sorted by years and days of year.\n",
    "\n",
    "With these pieces of information we can create a list of files URLs."
   ]
  },
  {
   "cell_type": "code",
   "execution_count": 18,
   "metadata": {},
   "outputs": [],
   "source": [
    "vis.extent[0] += 360.\n",
    "vis.extent[1] += 360."
   ]
  },
  {
   "cell_type": "code",
   "execution_count": 19,
   "metadata": {},
   "outputs": [
    {
     "name": "stderr",
     "output_type": "stream",
     "text": [
      "WARNING:Filament:No variable `speed`  in the netCDF file\n"
     ]
    }
   ],
   "source": [
    "wind = filament.Wind()\n",
    "wind.read_from_ccmp(\"/data/Winds/CCMP_RT_Wind_Analysis_20230430_V02.1_L3.0_RSS.nc\", vis.extent)\n",
    "wind.compute_speed()"
   ]
  },
  {
   "cell_type": "code",
   "execution_count": null,
   "metadata": {},
   "outputs": [],
   "source": [
    "fig = plt.figure(figsize=(8, 8))\n",
    "ax = plt.subplot(111, projection=myproj)\n",
    "\n",
    "ax.add_feature(coast, zorder=10, linewidth=.25)\n",
    "\n",
    "#ax.add_wms(wms='http://ows.emodnet-bathymetry.eu/wms',\n",
    "#       layers=['coastlines'],\n",
    "#       transform=myproj, zorder=3)\n",
    "\n",
    "vis.add_to_plot(ax, myproj)\n",
    "wind.add_to_plot(fig, ax, domain=vis.extent, cmap=plt.cm.RdYlBu_r,\n",
    "                 visname=satellite,\n",
    "                 clim=[3., 10.], quivscale=500, quivwidth=0.001,\n",
    "                 #date=wind.time.strftime(\"%Y-%m-%d %H:%M:%S\"),\n",
    "                 )"
   ]
  },
  {
   "cell_type": "code",
   "execution_count": 13,
   "metadata": {},
   "outputs": [
    {
     "name": "stderr",
     "output_type": "stream",
     "text": [
      "INFO:Filament:Found 0 files\n"
     ]
    },
    {
     "data": {
      "text/plain": [
       "[]"
      ]
     },
     "execution_count": 13,
     "metadata": {},
     "output_type": "execute_result"
    }
   ],
   "source": [
    "filelist1 = filament.get_filelist_url(year, dayofyear)\n",
    "filelist1"
   ]
  },
  {
   "cell_type": "code",
   "execution_count": 40,
   "metadata": {},
   "outputs": [
    {
     "data": {
      "text/plain": [
       "['/home/ctroupin/data/Wind/Canary/ascat_20230403_103600_metopc_22851_eps_o_coa_3301_ovw.l2.nc.gz',\n",
       " '/home/ctroupin/data/Wind/Canary/ascat_20230406_102100_metopb_54736_eps_o_coa_3301_ovw.l2.nc.gz']"
      ]
     },
     "execution_count": 40,
     "metadata": {},
     "output_type": "execute_result"
    }
   ],
   "source": [
    "#filelist2 = [\"/data/Wind/ASCAT/GranCanaria/ascat_20170904_212400_metopa_56447_eps_o_coa_2401_ovw.l2.nc.gz\"]\n",
    "filelist2 = sorted(glob.glob(\"/home/ctroupin/data/Wind/Canary/*\"))\n",
    "filelist2"
   ]
  },
  {
   "cell_type": "code",
   "execution_count": 7,
   "metadata": {
    "scrolled": true
   },
   "outputs": [
    {
     "name": "stderr",
     "output_type": "stream",
     "text": [
      "INFO:root:Working on https://opendap.jpl.nasa.gov:443/opendap/OceanWinds/ascat/preview/L2/metop_b/coastal_opt/2023/100/ascat_20230410_003000_metopb_54787_eps_o_coa_3301_ovw.l2.nc.gz\n",
      "INFO:Filament:No data in the region of interest\n",
      "INFO:root:Working on https://opendap.jpl.nasa.gov:443/opendap/OceanWinds/ascat/preview/L2/metop_b/coastal_opt/2023/100/ascat_20230410_021200_metopb_54788_eps_o_coa_3301_ovw.l2.nc.gz\n",
      "INFO:Filament:No data in the region of interest\n",
      "INFO:root:Working on https://opendap.jpl.nasa.gov:443/opendap/OceanWinds/ascat/preview/L2/metop_b/coastal_opt/2023/100/ascat_20230410_035400_metopb_54789_eps_o_coa_3301_ovw.l2.nc.gz\n",
      "INFO:Filament:No data in the region of interest\n",
      "INFO:root:Working on https://opendap.jpl.nasa.gov:443/opendap/OceanWinds/ascat/preview/L2/metop_b/coastal_opt/2023/100/ascat_20230410_053300_metopb_54790_eps_o_coa_3301_ovw.l2.nc.gz\n",
      "INFO:Filament:No data in the region of interest\n",
      "INFO:root:Working on https://opendap.jpl.nasa.gov:443/opendap/OceanWinds/ascat/preview/L2/metop_b/coastal_opt/2023/100/ascat_20230410_071500_metopb_54791_eps_o_coa_3301_ovw.l2.nc.gz\n",
      "INFO:Filament:No data in the region of interest\n",
      "INFO:root:Working on https://opendap.jpl.nasa.gov:443/opendap/OceanWinds/ascat/preview/L2/metop_b/coastal_opt/2023/100/ascat_20230410_085700_metopb_54792_eps_o_coa_3301_ovw.l2.nc.gz\n",
      "INFO:Filament:No data in the region of interest\n",
      "INFO:root:Working on https://opendap.jpl.nasa.gov:443/opendap/OceanWinds/ascat/preview/L2/metop_b/coastal_opt/2023/100/ascat_20230410_103900_metopb_54793_eps_o_coa_3301_ovw.l2.nc.gz\n",
      "INFO:Filament:Subsetting data to region of interest\n",
      "INFO:root:Saving figure as TERRA-ascat_20230410_103900_metopb_54793_eps_o_coa_3301_ovw.jpg\n",
      "INFO:root:Working on https://opendap.jpl.nasa.gov:443/opendap/OceanWinds/ascat/preview/L2/metop_b/coastal_opt/2023/100/ascat_20230410_122100_metopb_54794_eps_o_coa_3301_ovw.l2.nc.gz\n",
      "INFO:Filament:No data in the region of interest\n",
      "INFO:root:Working on https://opendap.jpl.nasa.gov:443/opendap/OceanWinds/ascat/preview/L2/metop_b/coastal_opt/2023/100/ascat_20230410_140000_metopb_54795_eps_o_coa_3301_ovw.l2.nc.gz\n",
      "INFO:Filament:No data in the region of interest\n",
      "INFO:root:Working on https://opendap.jpl.nasa.gov:443/opendap/OceanWinds/ascat/preview/L2/metop_b/coastal_opt/2023/100/ascat_20230410_154200_metopb_54796_eps_o_coa_3301_ovw.l2.nc.gz\n",
      "INFO:Filament:No data in the region of interest\n",
      "INFO:root:Working on https://opendap.jpl.nasa.gov:443/opendap/OceanWinds/ascat/preview/L2/metop_b/coastal_opt/2023/100/ascat_20230410_172400_metopb_54797_eps_o_coa_3301_ovw.l2.nc.gz\n",
      "INFO:Filament:No data in the region of interest\n",
      "INFO:root:Working on https://opendap.jpl.nasa.gov:443/opendap/OceanWinds/ascat/preview/L2/metop_b/coastal_opt/2023/100/ascat_20230410_190600_metopb_54798_eps_o_coa_3301_ovw.l2.nc.gz\n",
      "INFO:Filament:No data in the region of interest\n",
      "INFO:root:Working on https://opendap.jpl.nasa.gov:443/opendap/OceanWinds/ascat/preview/L2/metop_b/coastal_opt/2023/100/ascat_20230410_204800_metopb_54799_eps_o_coa_3301_ovw.l2.nc.gz\n",
      "INFO:Filament:No data in the region of interest\n",
      "INFO:root:Working on https://opendap.jpl.nasa.gov:443/opendap/OceanWinds/ascat/preview/L2/metop_b/coastal_opt/2023/100/ascat_20230410_222700_metopb_54800_eps_o_coa_3301_ovw.l2.nc.gz\n",
      "INFO:Filament:Subsetting data to region of interest\n",
      "INFO:root:Saving figure as TERRA-ascat_20230410_222700_metopb_54800_eps_o_coa_3301_ovw.jpg\n",
      "INFO:root:Working on https://opendap.jpl.nasa.gov:443/opendap/OceanWinds/ascat/preview/L2/metop_c/coastal_opt/2023/100/ascat_20230410_012400_metopc_22945_eps_o_coa_3301_ovw.l2.nc.gz\n",
      "INFO:Filament:No data in the region of interest\n",
      "INFO:root:Working on https://opendap.jpl.nasa.gov:443/opendap/OceanWinds/ascat/preview/L2/metop_c/coastal_opt/2023/100/ascat_20230410_030600_metopc_22946_eps_o_coa_3301_ovw.l2.nc.gz\n",
      "INFO:Filament:No data in the region of interest\n",
      "INFO:root:Working on https://opendap.jpl.nasa.gov:443/opendap/OceanWinds/ascat/preview/L2/metop_c/coastal_opt/2023/100/ascat_20230410_044500_metopc_22947_eps_o_coa_3301_ovw.l2.nc.gz\n",
      "INFO:Filament:No data in the region of interest\n",
      "INFO:root:Working on https://opendap.jpl.nasa.gov:443/opendap/OceanWinds/ascat/preview/L2/metop_c/coastal_opt/2023/100/ascat_20230410_062700_metopc_22948_eps_o_coa_3301_ovw.l2.nc.gz\n",
      "INFO:Filament:No data in the region of interest\n",
      "INFO:root:Working on https://opendap.jpl.nasa.gov:443/opendap/OceanWinds/ascat/preview/L2/metop_c/coastal_opt/2023/100/ascat_20230410_080900_metopc_22949_eps_o_coa_3301_ovw.l2.nc.gz\n",
      "INFO:Filament:No data in the region of interest\n",
      "INFO:root:Working on https://opendap.jpl.nasa.gov:443/opendap/OceanWinds/ascat/preview/L2/metop_c/coastal_opt/2023/100/ascat_20230410_095100_metopc_22950_eps_o_coa_3301_ovw.l2.nc.gz\n",
      "INFO:Filament:Subsetting data to region of interest\n",
      "INFO:root:Saving figure as TERRA-ascat_20230410_095100_metopc_22950_eps_o_coa_3301_ovw.jpg\n",
      "INFO:root:Working on https://opendap.jpl.nasa.gov:443/opendap/OceanWinds/ascat/preview/L2/metop_c/coastal_opt/2023/100/ascat_20230410_113000_metopc_22951_eps_o_coa_3301_ovw.l2.nc.gz\n",
      "INFO:Filament:No data in the region of interest\n",
      "INFO:root:Working on https://opendap.jpl.nasa.gov:443/opendap/OceanWinds/ascat/preview/L2/metop_c/coastal_opt/2023/100/ascat_20230410_131200_metopc_22952_eps_o_coa_3301_ovw.l2.nc.gz\n",
      "INFO:Filament:No data in the region of interest\n",
      "INFO:root:Working on https://opendap.jpl.nasa.gov:443/opendap/OceanWinds/ascat/preview/L2/metop_c/coastal_opt/2023/100/ascat_20230410_145400_metopc_22953_eps_o_coa_3301_ovw.l2.nc.gz\n",
      "INFO:Filament:No data in the region of interest\n",
      "INFO:root:Working on https://opendap.jpl.nasa.gov:443/opendap/OceanWinds/ascat/preview/L2/metop_c/coastal_opt/2023/100/ascat_20230410_163600_metopc_22954_eps_o_coa_3301_ovw.l2.nc.gz\n",
      "INFO:Filament:No data in the region of interest\n",
      "INFO:root:Working on https://opendap.jpl.nasa.gov:443/opendap/OceanWinds/ascat/preview/L2/metop_c/coastal_opt/2023/100/ascat_20230410_181800_metopc_22955_eps_o_coa_3301_ovw.l2.nc.gz\n",
      "INFO:Filament:No data in the region of interest\n",
      "INFO:root:Working on https://opendap.jpl.nasa.gov:443/opendap/OceanWinds/ascat/preview/L2/metop_c/coastal_opt/2023/100/ascat_20230410_195700_metopc_22956_eps_o_coa_3301_ovw.l2.nc.gz\n",
      "INFO:Filament:No data in the region of interest\n",
      "INFO:root:Working on https://opendap.jpl.nasa.gov:443/opendap/OceanWinds/ascat/preview/L2/metop_c/coastal_opt/2023/100/ascat_20230410_213900_metopc_22957_eps_o_coa_3301_ovw.l2.nc.gz\n",
      "INFO:Filament:Subsetting data to region of interest\n",
      "INFO:root:Saving figure as TERRA-ascat_20230410_213900_metopc_22957_eps_o_coa_3301_ovw.jpg\n",
      "INFO:root:Working on https://opendap.jpl.nasa.gov:443/opendap/OceanWinds/ascat/preview/L2/metop_c/coastal_opt/2023/100/ascat_20230410_232100_metopc_22958_eps_o_coa_3301_ovw.l2.nc.gz\n",
      "INFO:Filament:No data in the region of interest\n",
      "INFO:root:Found 4 good swaths\n",
      "INFO:root:Figures printed in ../figures/wind/Canary/\n"
     ]
    }
   ],
   "source": [
    "reload(filament)\n",
    "\n",
    "imcount = 0\n",
    "for ifile, dataurl in enumerate(filelist1):\n",
    "\n",
    "    logger.info(\"Working on {}\".format(dataurl))\n",
    "    wind = filament.Wind()\n",
    "    res = wind.read_ascat(dataurl, vis.extent)\n",
    "    #res = wind.read_ascat(dataurl, extent2)\n",
    "        \n",
    "    if res:\n",
    "        imcount += 1\n",
    "        # filelistclean.append(dataurl)\n",
    "        mm = str(month).zfill(2)\n",
    "        dd = str(day).zfill(2)\n",
    "        \n",
    "        windfilename = os.path.basename(dataurl)\n",
    "        windsatname = windfilename.split(\"_\")[3]\n",
    "        \n",
    "        fname = \"\".join((satellite, \"-\", dataurl.split(\"/\")[-1].split(\".\")[0], \".jpg\"))\n",
    "        logger.info(\"Saving figure as {}\".format(fname))\n",
    "        figname = os.path.join(figdir, fname)\n",
    "        \n",
    "        fig = plt.figure(figsize=(8, 8))\n",
    "        ax = plt.subplot(111, projection=myproj)\n",
    "        \n",
    "        ax.add_feature(coast, zorder=10, linewidth=.25)\n",
    "        \n",
    "        #ax.add_wms(wms='http://ows.emodnet-bathymetry.eu/wms',\n",
    "        #       layers=['coastlines'],\n",
    "        #       transform=myproj, zorder=3)\n",
    "\n",
    "        vis.add_to_plot(ax, myproj)\n",
    "        wind.add_to_plot(fig, ax, domain=vis.extent, cmap=plt.cm.RdYlBu_r,\n",
    "                         visname=satellite,\n",
    "                         clim=[3., 10.], quivscale=500, quivwidth=0.001,\n",
    "                         #date=wind.time.strftime(\"%Y-%m-%d %H:%M:%S\"),\n",
    "                         )\n",
    "        \n",
    "        \n",
    "        filament.add_vis_wind_caption(ax, visname=\"TERRA\", satname=windsatname, date=wind.time)\n",
    "        \n",
    "        #filament.decorate_map(ax, [7.5, 10, 41.75, 43.5], \n",
    "        #                      np.arange(7., 10., .5), \n",
    "        #                      np.arange(40., 44., 0.25))\n",
    "        \n",
    "        \n",
    "        #plt.show()\n",
    "        plt.savefig(figname, dpi=300, bbox_inches=\"tight\")\n",
    "        plt.close()\n",
    "        fig.clf()\n",
    "logger.info(\"Found {} good swaths\".format(imcount))\n",
    "logger.info(\"Figures printed in {}\".format(figdir))"
   ]
  },
  {
   "cell_type": "markdown",
   "metadata": {},
   "source": [
    "## Storm plot: 2 swaths combined "
   ]
  },
  {
   "cell_type": "code",
   "execution_count": null,
   "metadata": {},
   "outputs": [],
   "source": [
    "filelist = sorted(glob.glob(os.path.join(\"/data/Wind/Storm/\", \"*gz\")))\n",
    "filelist\n",
    "\n",
    "fig = plt.figure(figsize=(8, 8))\n",
    "ax = plt.subplot(111, projection=myproj)\n",
    "\n",
    "for ifile, dataurl in enumerate(filelist):\n",
    "\n",
    "    logger.info(\"Working on {}\".format(dataurl))\n",
    "    wind = filament.Wind()\n",
    "    res = wind.read_ascat(dataurl, extent2)\n",
    "\n",
    "    mm = str(month).zfill(2)\n",
    "    dd = str(day).zfill(2)\n",
    "    \n",
    "    if ifile > 0:\n",
    "        cbarplot = False\n",
    "        print(\"Not ploting colorbar\")\n",
    "    else:\n",
    "        cbarplot = True\n",
    "        \n",
    "    wind.add_to_plot(fig, ax, domain=vis.extent, cmap=plt.cm.inferno_r,\n",
    "                         clim=[10, 35.], vis=True, quivscale=500, quivwidth=0.001,\n",
    "                         date=wind.time.strftime(\"%Y-%m-%d\"),\n",
    "                         cbarloc='upper right', cbarplot=cbarplot)\n",
    "    \n",
    "vis.add_to_plot(ax, myproj)\n",
    "      \n",
    "fname = \"\".join((satellite, \"-\", dataurl.split(\"/\")[-1].split(\".\")[0], \".jpg\"))\n",
    "logger.info(\"Saving figure as {}\".format(fname))\n",
    "figname = os.path.join(figdir, fname)\n",
    "       \n",
    "#plt.show()\n",
    "plt.savefig(figname, dpi=300, bbox_inches=\"tight\")\n",
    "plt.close()\n",
    "logger.info(\"Figures printer in {}\".format(figdir))"
   ]
  },
  {
   "cell_type": "markdown",
   "metadata": {},
   "source": [
    "### Specific plot Canary Islands"
   ]
  },
  {
   "cell_type": "code",
   "execution_count": null,
   "metadata": {},
   "outputs": [],
   "source": [
    "places = {\"Cruz Tejeda\": (-15.599804, 28.005904),\n",
    "          \"Teide\": (-16.642337, 28.272777),\n",
    "          \"El Hierro\": (-18.040556, 27.729444),\n",
    "          \"La Gomera\": (-17.248383, 28.109636)}"
   ]
  },
  {
   "cell_type": "code",
   "execution_count": null,
   "metadata": {},
   "outputs": [],
   "source": [
    "fig = plt.figure(figsize=(8, 8))\n",
    "ax = plt.subplot(111, projection=myproj)\n",
    "vis.add_to_plot(ax, myproj)\n",
    "filament.decorate_map(ax, vis.extent, \n",
    "                      np.arange(-19., -13., 2.), \n",
    "                      np.arange(27., 29.5, 1.))\n",
    "ax.plot((places[\"Cruz Tejeda\"][0], places[\"El Hierro\"][0]),\n",
    "        (places[\"Cruz Tejeda\"][1], places[\"El Hierro\"][1]), label=\"X km\")\n",
    "ax.plot((places[\"Cruz Tejeda\"][0], places[\"La Gomera\"][0]),\n",
    "        (places[\"Cruz Tejeda\"][1], places[\"La Gomera\"][1]))\n",
    "ax.plot((places[\"Cruz Tejeda\"][0], places[\"Teide\"][0]),\n",
    "        (places[\"Cruz Tejeda\"][1], places[\"Teide\"][1]))\n",
    "\n",
    "plt.legend()\n",
    "    \n",
    "plt.show()\n",
    "#plt.savefig(figname, dpi=300, bbox_inches=\"tight\")\n",
    "plt.close()"
   ]
  },
  {
   "cell_type": "markdown",
   "metadata": {},
   "source": [
    "## Fuerteventura - Lanzarote"
   ]
  },
  {
   "cell_type": "code",
   "execution_count": null,
   "metadata": {},
   "outputs": [],
   "source": [
    "dataurl = \"/data/Wind/ASCAT/GranCanaria/ascat_20200329_104200_metopb_39066_eps_o_coa_3202_ovw.l2.nc.gz\"\n",
    "\n",
    "logger.info(\"Working on {}\".format(dataurl))\n",
    "wind = filament.Wind()\n",
    "res = wind.read_ascat(dataurl, vis.extent)\n",
    "\n",
    "\n",
    "# filelistclean.append(dataurl)\n",
    "mm = str(month).zfill(2)\n",
    "dd = str(day).zfill(2)\n",
    "\n",
    "fname = \"\".join((\"aqua-\", dataurl.split(\"/\")[-1].split(\".\")[0], \".jpg\"))\n",
    "logger.info(\"Saving figure as {}\".format(fname))\n",
    "figname = os.path.join(figdir, fname)\n",
    "\n",
    "fig = plt.figure(figsize=(8, 8))\n",
    "ax = plt.subplot(111, projection=myproj)\n",
    "vis.add_to_plot(ax, myproj)\n",
    "wind.add_to_plot(fig, ax, domain=vis.extent, cmap=plt.cm.hot,\n",
    "                 clim=[0, 5], vis=True, quivscale=250, quivwidth=0.001,\n",
    "                 date=wind.time.strftime(\"%Y-%m-%d %H:%M\"))\n",
    "\n",
    "\n",
    "ax.plot([-15.570852, -13.976249], [28.038895, 28.596877])\n",
    "ax.plot([-15.570852, -13.784467], [28.038895, 28.918923])\n",
    "\n",
    " \n",
    "#filament.decorate_map(ax, [7.5, 10, 41.75, 43.5], \n",
    "#                      np.arange(7., 10., .5), \n",
    "#                      np.arange(40., 44., 0.25))\n",
    "\n",
    "\n",
    "plt.show()\n",
    "# plt.savefig(figname, dpi=300, bbox_inches=\"tight\")\n",
    "plt.close()\n"
   ]
  },
  {
   "cell_type": "code",
   "execution_count": null,
   "metadata": {},
   "outputs": [],
   "source": []
  }
 ],
 "metadata": {
  "@webio": {
   "lastCommId": null,
   "lastKernelId": null
  },
  "kernelspec": {
   "display_name": "Filament",
   "language": "python",
   "name": "filament"
  },
  "language_info": {
   "codemirror_mode": {
    "name": "ipython",
    "version": 3
   },
   "file_extension": ".py",
   "mimetype": "text/x-python",
   "name": "python",
   "nbconvert_exporter": "python",
   "pygments_lexer": "ipython3",
   "version": "3.10.6"
  }
 },
 "nbformat": 4,
 "nbformat_minor": 2
}
