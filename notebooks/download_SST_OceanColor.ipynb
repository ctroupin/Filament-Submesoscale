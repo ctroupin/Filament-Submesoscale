{
 "cells": [
  {
   "cell_type": "code",
   "execution_count": 1,
   "metadata": {},
   "outputs": [],
   "source": [
    "import sys\n",
    "sys.path.insert(0, '..')\n",
    "from filament import filament\n",
    "import os\n",
    "import subprocess\n",
    "import logging"
   ]
  },
  {
   "cell_type": "code",
   "execution_count": 2,
   "metadata": {},
   "outputs": [
    {
     "name": "stderr",
     "output_type": "stream",
     "text": [
      "INFO:root:Starting\n"
     ]
    }
   ],
   "source": [
    "logger = logging.getLogger()\n",
    "logger.setLevel(logging.INFO)\n",
    "logging.info(\"Starting\")"
   ]
  },
  {
   "cell_type": "code",
   "execution_count": 3,
   "metadata": {},
   "outputs": [
    {
     "name": "stderr",
     "output_type": "stream",
     "text": [
      "INFO:Filament:https://oceandata.sci.gsfc.nasa.gov/MODIS-Terra/Mapped/Monthly/9km/sst4/\n"
     ]
    }
   ],
   "source": [
    "outputdir = \"/data/SST/Global/monthly/\"\n",
    "urllist = filament.get_filelist_url_oceancolor()"
   ]
  },
  {
   "cell_type": "code",
   "execution_count": 18,
   "metadata": {},
   "outputs": [
    {
     "name": "stderr",
     "output_type": "stream",
     "text": [
      "INFO:root:Download file TERRA_MODIS.20151101_20151130.L3m.MO.SST4.sst4.9km.nc\n",
      "INFO:root:Download file TERRA_MODIS.20151201_20151231.L3m.MO.SST4.sst4.9km.nc\n"
     ]
    }
   ],
   "source": [
    "for i in range(189, 191):\n",
    "    file2download = os.path.basename(urllist[i])\n",
    "    if os.path.exists(os.path.join(outputdir, file2download)):\n",
    "        logger.info(\"File already download\")\n",
    "    else:\n",
    "        logger.info(f\"Download file {file2download}\")\n",
    "        bashcommand = f\"wget --load-cookies ~/.urs_cookies --save-cookies ~/.urs_cookies --auth-no-challenge=on --content-disposition --directory-prefix={outputdir} {urllist[i]}\"\n",
    "        process = subprocess.run(bashcommand.split(\" \"), \n",
    "                                 stdout=subprocess.PIPE, \n",
    "                                 universal_newlines=True)"
   ]
  },
  {
   "cell_type": "code",
   "execution_count": null,
   "metadata": {},
   "outputs": [],
   "source": []
  }
 ],
 "metadata": {
  "@webio": {
   "lastCommId": null,
   "lastKernelId": null
  },
  "kernelspec": {
   "display_name": "Diva-python3.6",
   "language": "python",
   "name": "diva-python3.6"
  },
  "language_info": {
   "codemirror_mode": {
    "name": "ipython",
    "version": 3
   },
   "file_extension": ".py",
   "mimetype": "text/x-python",
   "name": "python",
   "nbconvert_exporter": "python",
   "pygments_lexer": "ipython3",
   "version": "3.6.0"
  }
 },
 "nbformat": 4,
 "nbformat_minor": 2
}
