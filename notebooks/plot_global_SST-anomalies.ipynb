{
 "cells": [
  {
   "cell_type": "markdown",
   "metadata": {},
   "source": [
    "Plot the SST for the global Ocean.    \n",
    "Prepared to work with MODIS-Terra SST 4 µm nightime data, at 9 km resolution."
   ]
  },
  {
   "cell_type": "code",
   "execution_count": 1,
   "metadata": {},
   "outputs": [
    {
     "data": {
      "text/plain": [
       "<module 'filament.filament' from '../filament/filament.py'>"
      ]
     },
     "execution_count": 1,
     "metadata": {},
     "output_type": "execute_result"
    }
   ],
   "source": [
    "import sys\n",
    "sys.path.insert(0, '..')\n",
    "import os\n",
    "import glob\n",
    "import numpy as np\n",
    "from filament import filament\n",
    "import datetime\n",
    "import cmocean\n",
    "import logging\n",
    "import netCDF4\n",
    "import calendar\n",
    "import numpy as np\n",
    "import matplotlib.pyplot as plt\n",
    "import matplotlib.colors as colors\n",
    "import matplotlib as mpl\n",
    "from mpl_toolkits.basemap import Basemap\n",
    "from importlib import reload\n",
    "reload(filament)"
   ]
  },
  {
   "cell_type": "markdown",
   "metadata": {},
   "source": [
    "## Logger"
   ]
  },
  {
   "cell_type": "code",
   "execution_count": 2,
   "metadata": {},
   "outputs": [],
   "source": [
    "logger = logging.getLogger(\"SSTanom\")\n",
    "logger.setLevel(logging.INFO)\n",
    "logging.info(\"Starting\")"
   ]
  },
  {
   "cell_type": "markdown",
   "metadata": {},
   "source": [
    "## Files and directories"
   ]
  },
  {
   "cell_type": "code",
   "execution_count": 3,
   "metadata": {},
   "outputs": [
    {
     "name": "stderr",
     "output_type": "stream",
     "text": [
      "INFO:SSTanom:Found 10 monthly files\n"
     ]
    }
   ],
   "source": [
    "year = 2019\n",
    "figdir = \"/data/SST/Global/figures/\"\n",
    "monthlydir = \"/data/SST/Global/monthly/{}\".format(year)\n",
    "climdir = \"/data/SST/Global/monthly_clim/\"\n",
    "if os.path.isdir(monthlydir):\n",
    "    monthfilelist = sorted(glob.glob(os.path.join(monthlydir, \"T{0}*.L3m_MO_SST4_sst4_9km.nc\").format(year)))\n",
    "else:\n",
    "    logger.error(\"Directory does not exist\")\n",
    "    \n",
    "climfilelist = sorted(glob.glob(os.path.join(climdir, \"T*.L3m_MC_SST4_sst4_9km.nc\")))\n",
    "logger.info(\"Found {} monthly files\".format(len(monthfilelist)))"
   ]
  },
  {
   "cell_type": "markdown",
   "metadata": {},
   "source": [
    "## Create dictionary for the monthly climatology files\n",
    "Each entry contains the month number (from 1 to 12) and the corresponding climatological file."
   ]
  },
  {
   "cell_type": "code",
   "execution_count": 4,
   "metadata": {},
   "outputs": [],
   "source": [
    "climDict = {}\n",
    "for climfiles in climfilelist:\n",
    "    logger.debug(\"Working on file {}\".format(climfiles))\n",
    "    with netCDF4.Dataset(climfiles, \"r\") as nc:\n",
    "        time_coverage_start = nc.time_coverage_start[:]\n",
    "        time_coverage_end = nc.time_coverage_end[:]\n",
    "    date_start = datetime.datetime.strptime(time_coverage_start, \"%Y-%m-%dT%H:%M:%S.000Z\")\n",
    "    date_end = datetime.datetime.strptime(time_coverage_end, \"%Y-%m-%dT%H:%M:%S.000Z\")\n",
    "    m = date_end.month\n",
    "    climDict[m] = climfiles"
   ]
  },
  {
   "cell_type": "code",
   "execution_count": 5,
   "metadata": {},
   "outputs": [
    {
     "data": {
      "text/plain": [
       "{1: '/data/SST/Global/monthly_clim/T20010012019031.L3m_MC_SST4_sst4_9km.nc',\n",
       " 2: '/data/SST/Global/monthly_clim/T20000322019059.L3m_MC_SST4_sst4_9km.nc',\n",
       " 3: '/data/SST/Global/monthly_clim/T20000612019090.L3m_MC_SST4_sst4_9km.nc',\n",
       " 4: '/data/SST/Global/monthly_clim/T20000922019120.L3m_MC_SST4_sst4_9km.nc',\n",
       " 5: '/data/SST/Global/monthly_clim/T20001222019151.L3m_MC_SST4_sst4_9km.nc',\n",
       " 6: '/data/SST/Global/monthly_clim/T20001532018181.L3m_MC_SST4_sst4_9km.nc',\n",
       " 7: '/data/SST/Global/monthly_clim/T20001832019212.L3m_MC_SST4_sst4_9km.nc',\n",
       " 8: '/data/SST/Global/monthly_clim/T20002142019243.L3m_MC_SST4_sst4_9km.nc',\n",
       " 9: '/data/SST/Global/monthly_clim/T20002452019273.L3m_MC_SST4_sst4_9km.nc',\n",
       " 10: '/data/SST/Global/monthly_clim/T20002752019304.L3m_MC_SST4_sst4_9km.nc',\n",
       " 11: '/data/SST/Global/monthly_clim/T20003062018334.L3m_MC_SST4_sst4_9km.nc',\n",
       " 12: '/data/SST/Global/monthly_clim/T20003362018365.L3m_MC_SST4_sst4_9km.nc'}"
      ]
     },
     "execution_count": 5,
     "metadata": {},
     "output_type": "execute_result"
    }
   ],
   "source": [
    "climDict"
   ]
  },
  {
   "cell_type": "markdown",
   "metadata": {},
   "source": [
    "## Loop on the monthly files\n",
    "The goal is to find the correct monthly climatology files, knowing that \n",
    "* the first and last years are not always the same, \n",
    "* the days of the years may also change."
   ]
  },
  {
   "cell_type": "markdown",
   "metadata": {},
   "source": [
    "## Plot preparation\n",
    "### Projection"
   ]
  },
  {
   "cell_type": "code",
   "execution_count": 12,
   "metadata": {},
   "outputs": [],
   "source": [
    "SSTmonth = filament.SST()\n",
    "SSTmonth.read_from_oceancolorL3(climDict[1])"
   ]
  },
  {
   "cell_type": "code",
   "execution_count": 13,
   "metadata": {},
   "outputs": [],
   "source": [
    "m = Basemap(projection='ortho',lon_0=-52.,lat_0=10,resolution='c')\n",
    "llon, llat = np.meshgrid(SSTmonth.lon, SSTmonth.lat)\n",
    "lonp, latp = m(llon, llat)\n",
    "lonp[lonp==lonp.max()] = np.nan\n",
    "latp[latp==latp.max()] = np.nan"
   ]
  },
  {
   "cell_type": "markdown",
   "metadata": {},
   "source": [
    "### Plotting function"
   ]
  },
  {
   "cell_type": "code",
   "execution_count": 61,
   "metadata": {
    "scrolled": true
   },
   "outputs": [],
   "source": [
    "def make_monthly_subplot(lon, lat, SSTanom, month, NN=1, fgcolor=\"k\"):\n",
    "    plt.title(calendar.month_name[month], fontsize=18, color=fgcolor)\n",
    "    m.drawcoastlines(linewidth=.2)\n",
    "    pcm = m.pcolormesh(lon[::NN], lat[::NN], SSTanom[::NN],\n",
    "                 zorder=3, cmap=plt.cm.RdBu_r, vmin=-2.5, vmax=2.5)\n",
    "    # m.fillcontinents(color='grey')\n",
    "    #plt.colorbar(extend=\"both\", shrink=.7)\n",
    "    m.warpimage(\"world.topo.bathy.200403.3x5400x2700.jpg\", zorder=2)\n",
    "    #mpol2.drawcoastlines()\n",
    "    #plt.savefig(os.path.join(figdir, \"SST_anom_test\"), dpi=300, bbox_inches=\"tight\")\n",
    "    # plt.show()\n",
    "    #plt.close()\n",
    "    return pcm"
   ]
  },
  {
   "cell_type": "code",
   "execution_count": 63,
   "metadata": {},
   "outputs": [
    {
     "name": "stderr",
     "output_type": "stream",
     "text": [
      "INFO:SSTanom:Working on month 1/12\n",
      "INFO:SSTanom:Working on month 2/12\n",
      "INFO:SSTanom:Working on month 3/12\n",
      "INFO:SSTanom:Working on month 4/12\n",
      "INFO:SSTanom:Working on month 5/12\n",
      "INFO:SSTanom:Working on month 6/12\n",
      "INFO:SSTanom:Working on month 7/12\n",
      "INFO:SSTanom:Working on month 8/12\n",
      "INFO:SSTanom:Working on month 9/12\n",
      "INFO:SSTanom:Working on month 10/12\n"
     ]
    }
   ],
   "source": [
    "plt.close(\"all\")\n",
    "bgcolor = \"black\"\n",
    "fgcolor = \"white\"\n",
    "fig = plt.figure(figsize=(13, 10), facecolor=bgcolor)\n",
    "\n",
    "for imonth, monthlyfile in enumerate(monthfilelist):\n",
    "    logger.debug(\"Working on file {}\".format(monthlyfile))\n",
    "    \n",
    "    with netCDF4.Dataset(monthlyfile, \"r\") as nc:\n",
    "        time_coverage_start = nc.time_coverage_start[:]\n",
    "        time_coverage_end = nc.time_coverage_end[:]\n",
    "    date_start = datetime.datetime.strptime(time_coverage_start, \"%Y-%m-%dT%H:%M:%S.000Z\")\n",
    "    date_end = datetime.datetime.strptime(time_coverage_end, \"%Y-%m-%dT%H:%M:%S.000Z\")\n",
    "    date_mid = date_start + 0.5 * (date_end - date_start)\n",
    "    month = date_mid.month\n",
    "    logger.info(\"Working on month {}/12\".format(month))\n",
    "    \n",
    "    # Read data (lon, lat and SST)\n",
    "    SSTmonth = filament.SST()\n",
    "    SSTmonth.read_from_oceancolorL3(monthlyfile)\n",
    "    SSTclim = filament.SST()\n",
    "    SSTclim.read_from_oceancolorL3(climDict[month])\n",
    "    \n",
    "    # Compute anomalies\n",
    "    SSTanom = SSTmonth.field - SSTclim.field\n",
    "    \n",
    "    ax = plt.subplot(3, 4, imonth+1)\n",
    "    pcm = make_monthly_subplot(lonp, latp, SSTanom, imonth+1, NN=10, fgcolor=fgcolor)\n",
    "\n",
    "fig.subplots_adjust(right=0.8)\n",
    "cbar_ax = fig.add_axes([0.9, 0.15, 0.03, 0.7])\n",
    "normanom = mpl.colors.Normalize(vmin=-2.5, vmax=2.5)\n",
    "cb1 = mpl.colorbar.ColorbarBase(cbar_ax, cmap=plt.cm.RdBu_r,\n",
    "                                norm=normanom, orientation='vertical', \n",
    "                                extend=\"both\")\n",
    "\n",
    "cb1.set_label(\"$^{\\circ}$C\", rotation=0, ha=\"left\", fontsize=18, \n",
    "              color=fgcolor, fontweight=\"bold\")\n",
    "\n",
    "cb1.ax.tick_params(axis='y', colors=fgcolor)\n",
    "\n",
    "\n",
    "cb1_ytl = cb1.ax.get_yticklabels()\n",
    "cb1.ax.set_yticklabels(cb1_ytl, color=fgcolor, \n",
    "                       fontweight=\"bold\", fontsize=16)\n",
    "\n",
    "\n",
    "fig.suptitle('Sea surface temperature anomalies $-$ {}'.format(year), \n",
    "             fontsize=24, color=fgcolor) \n",
    "plt.savefig(os.path.join(figdir, \"SSTanomalies{}_01\".format(year)), \n",
    "            facecolor=fig.get_facecolor(),\n",
    "            dpi=300, bbox_inches=\"tight\")\n",
    "#plt.show()\n",
    "plt.close()"
   ]
  },
  {
   "cell_type": "code",
   "execution_count": null,
   "metadata": {},
   "outputs": [],
   "source": []
  }
 ],
 "metadata": {
  "@webio": {
   "lastCommId": "A63F866D65604EF6BA8E1A57C1BF8DB3",
   "lastKernelId": "fb7b34af-7779-4780-840b-f24c32b94dae"
  },
  "kernelspec": {
   "display_name": "Diva-python3.6",
   "language": "python",
   "name": "diva-python3.6"
  },
  "language_info": {
   "codemirror_mode": {
    "name": "ipython",
    "version": 3
   },
   "file_extension": ".py",
   "mimetype": "text/x-python",
   "name": "python",
   "nbconvert_exporter": "python",
   "pygments_lexer": "ipython3",
   "version": "3.6.0"
  }
 },
 "nbformat": 4,
 "nbformat_minor": 2
}
