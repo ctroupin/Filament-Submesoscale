{
 "cells": [
  {
   "cell_type": "markdown",
   "metadata": {},
   "source": [
    "In this notebook we create few plots of wind intensity measured by satellite, with a particular interest on the Canary Islands, which frequently generate the so-called *von Karman* vortex street."
   ]
  },
  {
   "cell_type": "code",
   "execution_count": 3,
   "metadata": {},
   "outputs": [
    {
     "data": {
      "text/plain": [
       "<module 'filament' from '/home/ctroupin/Projects/FNRS-UpwellingFilaments/Filament-Submesoscale/python/filament.py'>"
      ]
     },
     "execution_count": 3,
     "metadata": {},
     "output_type": "execute_result"
    }
   ],
   "source": [
    "import datetime\n",
    "import re\n",
    "import os\n",
    "import glob\n",
    "import numpy as np\n",
    "import matplotlib.pyplot as plt\n",
    "import filament\n",
    "import logging\n",
    "import copy\n",
    "import cartopy\n",
    "import cartopy.crs as ccrs\n",
    "import cartopy.feature as cfeature\n",
    "import cartopy.mpl.ticker as cartopyticker\n",
    "myproj = ccrs.PlateCarree()\n",
    "coast = cfeature.GSHHSFeature(scale=\"f\")\n",
    "from importlib import reload\n",
    "reload(filament)"
   ]
  },
  {
   "cell_type": "code",
   "execution_count": 4,
   "metadata": {},
   "outputs": [
    {
     "name": "stderr",
     "output_type": "stream",
     "text": [
      "INFO:root:Starting\n"
     ]
    }
   ],
   "source": [
    "logger = logging.getLogger()\n",
    "logger.setLevel(logging.INFO)\n",
    "logging.info(\"Starting\")"
   ]
  },
  {
   "cell_type": "markdown",
   "metadata": {},
   "source": [
    "## Input parameters\n",
    "We set the date of interest and the domain coordinates are taken from the geoTIFF file."
   ]
  },
  {
   "cell_type": "code",
   "execution_count": 40,
   "metadata": {},
   "outputs": [],
   "source": [
    "year, month, day = 2020, 4, 15\n",
    "domain = [6, 10.5, 41., 44.5]\n",
    "figdir = \"../figures/wind/Corsica\"\n",
    "visfile = \"/data/Visible/Sentinel-3_OLCI_2020-04-15.tiff\""
   ]
  },
  {
   "cell_type": "code",
   "execution_count": null,
   "metadata": {},
   "outputs": [],
   "source": []
  },
  {
   "cell_type": "code",
   "execution_count": 30,
   "metadata": {},
   "outputs": [],
   "source": [
    "#os.path.isdir(visibledir)\n",
    "vis = filament.Visible()\n",
    "vis.read_geotiff(visfile)\n",
    "if not(os.path.exists(figdir)):\n",
    "    os.mkdir(figdir)"
   ]
  },
  {
   "cell_type": "markdown",
   "metadata": {},
   "source": [
    "## Data"
   ]
  },
  {
   "cell_type": "code",
   "execution_count": 31,
   "metadata": {},
   "outputs": [],
   "source": [
    "datewind = datetime.datetime(year, month, day)\n",
    "dayofyear = datewind.timetuple().tm_yday"
   ]
  },
  {
   "cell_type": "code",
   "execution_count": 32,
   "metadata": {},
   "outputs": [],
   "source": [
    "extent2 = copy.deepcopy(domain)\n",
    "extent2[0] -= 360.\n",
    "extent2[1] -= 360."
   ]
  },
  {
   "cell_type": "markdown",
   "metadata": {},
   "source": [
    "### Scatterometer wind\n",
    "The wind (netCDF) are read from the JPL OPEnDAP server.      \n",
    "The files are sorted by years and days of year.\n",
    "\n",
    "With these pieces of information we can create a list of files URLs."
   ]
  },
  {
   "cell_type": "code",
   "execution_count": 21,
   "metadata": {},
   "outputs": [
    {
     "name": "stderr",
     "output_type": "stream",
     "text": [
      "INFO:Filament:Found 29 files\n"
     ]
    }
   ],
   "source": [
    "filelist1 = filament.get_filelist_url(year, dayofyear)\n",
    "filelistclean = []"
   ]
  },
  {
   "cell_type": "code",
   "execution_count": 25,
   "metadata": {},
   "outputs": [
    {
     "data": {
      "text/plain": [
       "['/data/Wind/ASCAT/Corsica/ascat_20200415_080900_metopb_39306_eps_o_coa_3202_ovw.l2.nc.gz',\n",
       " '/data/Wind/ASCAT/Corsica/ascat_20200415_083600_metopa_69993_eps_o_coa_3202_ovw.l2.nc.gz',\n",
       " '/data/Wind/ASCAT/Corsica/ascat_20200415_184200_metopa_69999_eps_o_coa_3202_ovw.l2.nc.gz',\n",
       " '/data/Wind/ASCAT/Corsica/ascat_20200415_195700_metopb_39313_eps_o_coa_3202_ovw.l2.nc.gz']"
      ]
     },
     "execution_count": 25,
     "metadata": {},
     "output_type": "execute_result"
    }
   ],
   "source": [
    "filelist2 = sorted(glob.glob(os.path.join(\"/data/Wind/ASCAT/Corsica/\", \"ascat_20200415*.nc.gz\")))\n",
    "filelist2"
   ]
  },
  {
   "cell_type": "code",
   "execution_count": 41,
   "metadata": {
    "scrolled": true
   },
   "outputs": [
    {
     "name": "stderr",
     "output_type": "stream",
     "text": [
      "INFO:root:Working on /data/Wind/ASCAT/Corsica/ascat_20200415_080900_metopb_39306_eps_o_coa_3202_ovw.l2.nc.gz\n",
      "INFO:Filament:Subsetting data to region of interest\n",
      "INFO:root:Saving figure as wind-vis-ascat_20200415_080900_metopb_39306_eps_o_coa_3202_ovw.jpg\n",
      "INFO:root:Working on /data/Wind/ASCAT/Corsica/ascat_20200415_083600_metopa_69993_eps_o_coa_3202_ovw.l2.nc.gz\n",
      "INFO:Filament:Subsetting data to region of interest\n",
      "INFO:root:Saving figure as wind-vis-ascat_20200415_083600_metopa_69993_eps_o_coa_3202_ovw.jpg\n",
      "INFO:root:Working on /data/Wind/ASCAT/Corsica/ascat_20200415_184200_metopa_69999_eps_o_coa_3202_ovw.l2.nc.gz\n",
      "INFO:Filament:Subsetting data to region of interest\n",
      "INFO:root:Saving figure as wind-vis-ascat_20200415_184200_metopa_69999_eps_o_coa_3202_ovw.jpg\n",
      "INFO:root:Working on /data/Wind/ASCAT/Corsica/ascat_20200415_195700_metopb_39313_eps_o_coa_3202_ovw.l2.nc.gz\n",
      "INFO:Filament:Subsetting data to region of interest\n",
      "INFO:root:Saving figure as wind-vis-ascat_20200415_195700_metopb_39313_eps_o_coa_3202_ovw.jpg\n",
      "INFO:root:Figures printed in ../figures/wind/Corsica\n"
     ]
    }
   ],
   "source": [
    "for ifile, dataurl in enumerate(filelist2):\n",
    "\n",
    "    logger.info(\"Working on {}\".format(dataurl))\n",
    "    wind = filament.Wind()\n",
    "    res = wind.read_ascat(dataurl, extent2)\n",
    "        \n",
    "    if res:\n",
    "        filelistclean.append(dataurl)\n",
    "        mm = str(month).zfill(2)\n",
    "        dd = str(day).zfill(2)\n",
    "        \n",
    "        fname = \"\".join((\"wind-vis-\", dataurl.split(\"/\")[-1].split(\".\")[0], \".jpg\"))\n",
    "        logger.info(\"Saving figure as {}\".format(fname))\n",
    "        figname = os.path.join(figdir, fname)\n",
    "        \n",
    "        fig = plt.figure(figsize=(8, 8))\n",
    "        ax = plt.subplot(111, projection=myproj)\n",
    "        \n",
    "        # Check if there is a visible background\n",
    "        if vis.lon is not None:\n",
    "            vis.add_to_plot(ax, myproj)\n",
    "            \n",
    "        wind.add_to_plot(fig, ax, domain=domain,\n",
    "                         clim=[0, 16], vis=True, quivscale=500, quivwidth=0.001,\n",
    "                         date=wind.time.strftime(\"%Y-%m-%d %H:%M:%S\"),\n",
    "                         cbarloc='upper right')\n",
    "        \n",
    "        \n",
    "        filament.decorate_map(ax, domain, \n",
    "                              np.arange(6, 12., 1.), \n",
    "                              np.arange(41., 44.5, 0.5))\n",
    "        \n",
    "        #ax.add_feature(coast, color=\".6\", edgecolor=\"k\", zorder=5)\n",
    "\n",
    "        \n",
    "        #plt.show()\n",
    "        plt.savefig(figname, dpi=300, bbox_inches=\"tight\")\n",
    "        plt.close()\n",
    "logger.info(\"Figures printed in {}\".format(figdir))"
   ]
  },
  {
   "cell_type": "code",
   "execution_count": null,
   "metadata": {},
   "outputs": [],
   "source": []
  }
 ],
 "metadata": {
  "@webio": {
   "lastCommId": null,
   "lastKernelId": null
  },
  "kernelspec": {
   "display_name": "Diva-python3.6",
   "language": "python",
   "name": "diva-python3.6"
  },
  "language_info": {
   "codemirror_mode": {
    "name": "ipython",
    "version": 3
   },
   "file_extension": ".py",
   "mimetype": "text/x-python",
   "name": "python",
   "nbconvert_exporter": "python",
   "pygments_lexer": "ipython3",
   "version": "3.6.0"
  }
 },
 "nbformat": 4,
 "nbformat_minor": 2
}
