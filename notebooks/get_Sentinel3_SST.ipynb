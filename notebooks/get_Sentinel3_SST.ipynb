{
 "cells": [
  {
   "cell_type": "markdown",
   "metadata": {},
   "source": [
    "# Get Sentinel-3 SST\n",
    "Explain how to obtain netCDF files usin EUMDAC.     \n",
    "One needs to have EUMDAC credentials."
   ]
  },
  {
   "cell_type": "code",
   "execution_count": null,
   "metadata": {},
   "outputs": [],
   "source": [
    "import os\n",
    "import json\n",
    "import datetime\n",
    "import shutil\n",
    "import eumdac\n",
    "import glob\n",
    "import numpy as np\n",
    "import matplotlib.pyplot as plt\n",
    "import netCDF4"
   ]
  },
  {
   "cell_type": "markdown",
   "metadata": {},
   "source": [
    "## Directories"
   ]
  },
  {
   "cell_type": "code",
   "execution_count": 5,
   "metadata": {},
   "outputs": [],
   "source": [
    "# Create a download directory for our downloaded products\n",
    "download_dir = \"/data/Sentinel3/\"\n",
    "figdir = \"/data/Sentinel3/figures\"\n",
    "os.makedirs(download_dir, exist_ok=True)"
   ]
  },
  {
   "cell_type": "markdown",
   "metadata": {},
   "source": [
    "## Get access token"
   ]
  },
  {
   "cell_type": "code",
   "execution_count": 2,
   "metadata": {},
   "outputs": [
    {
     "name": "stdout",
     "output_type": "stream",
     "text": [
      "This token '0254b588-438d-34e4-b0eb-f421a5f9e344' expires 2022-12-23 17:21:02.824948\n"
     ]
    }
   ],
   "source": [
    "with open(os.path.join(os.path.expanduser(\"~\"),'.eumdac_credentials')) as json_file:\n",
    "    credentials = json.load(json_file)\n",
    "    token = eumdac.AccessToken((credentials['consumer_key'], credentials['consumer_secret']))\n",
    "    print(f\"This token '{token}' expires {token.expiration}\")\n",
    "\n",
    "# create data store object\n",
    "datastore = eumdac.DataStore(token)"
   ]
  },
  {
   "cell_type": "markdown",
   "metadata": {},
   "source": [
    "Show only the products corresponding to Sentinel-3 SST"
   ]
  },
  {
   "cell_type": "code",
   "execution_count": 6,
   "metadata": {},
   "outputs": [
    {
     "name": "stdout",
     "output_type": "stream",
     "text": [
      "EO:EUM:DAT:0412: SLSTR Level 2 Sea Surface Temperature (SST) - Sentinel-3\n",
      "EO:EUM:DAT:0582: SLSTR Level 2 Sea Surface Temperature (SST) (version BC003) - Sentinel-3 - Reprocessed\n"
     ]
    }
   ],
   "source": [
    "for collectionID in datastore.collections:\n",
    "    if ('Sentinel-3' in collectionID.title) & ('SST' in collectionID.title):\n",
    "        print(f\"{collectionID}: {collectionID.title}\")"
   ]
  },
  {
   "cell_type": "markdown",
   "metadata": {},
   "source": [
    "Select the collection of interest"
   ]
  },
  {
   "cell_type": "code",
   "execution_count": 7,
   "metadata": {},
   "outputs": [
    {
     "name": "stdout",
     "output_type": "stream",
     "text": [
      "SLSTR Level 2 Sea Surface Temperature (SST) - Sentinel-3\n"
     ]
    }
   ],
   "source": [
    "collectionID = 'EO:EUM:DAT:0412'\n",
    "\n",
    "# Use collection ID\n",
    "selected_collection = datastore.get_collection(collectionID)\n",
    "print(selected_collection.title)"
   ]
  },
  {
   "cell_type": "markdown",
   "metadata": {},
   "source": [
    "Get product based on the time period and the region of interest"
   ]
  },
  {
   "cell_type": "code",
   "execution_count": 8,
   "metadata": {},
   "outputs": [],
   "source": [
    "start = datetime.datetime(2022, 12, 20)\n",
    "end = datetime.datetime(2022, 12, 23)\n",
    "domain = [-19., -13., 26., 30.]\n",
    "roi = [[domain[0], domain[2]], [domain[1], domain[2]], [domain[1], domain[3]], \n",
    "       [domain[0], domain[3]], [domain[0], domain[2]]]\n",
    "\n",
    "WKT = 'POLYGON(({}))'.format(','.join([\"{} {}\".format(*coord) for coord in roi]))\n",
    "\n",
    "products = selected_collection.search(\n",
    "    geo=WKT,\n",
    "    dtstart=start, \n",
    "    dtend=end)"
   ]
  },
  {
   "cell_type": "markdown",
   "metadata": {},
   "source": [
    "## Perform download"
   ]
  },
  {
   "cell_type": "code",
   "execution_count": null,
   "metadata": {},
   "outputs": [
    {
     "name": "stdout",
     "output_type": "stream",
     "text": [
      "Downloading S3B_SL_2_WST____20221222T231303_20221222T231603_20221223T014558_0180_074_130_0360_MAR_O_NR_003.SEN3.zip\n",
      "Download of product S3B_SL_2_WST____20221222T231303_20221222T231603_20221223T014558_0180_074_130_0360_MAR_O_NR_003.SEN3.zip finished.\n",
      "Downloading S3A_SL_2_WST____20221222T221110_20221222T221410_20221223T004131_0179_093_272_0360_MAR_O_NR_003.SEN3.zip\n",
      "Download of product S3A_SL_2_WST____20221222T221110_20221222T221410_20221223T004131_0179_093_272_0360_MAR_O_NR_003.SEN3.zip finished.\n",
      "Downloading S3A_SL_2_WST____20221222T110015_20221222T110315_20221222T131255_0179_093_265_2520_MAR_O_NR_003.SEN3.zip\n",
      "Download of product S3A_SL_2_WST____20221222T110015_20221222T110315_20221222T131255_0179_093_265_2520_MAR_O_NR_003.SEN3.zip finished.\n",
      "Downloading S3A_SL_2_WST____20221221T223721_20221221T224021_20221222T010810_0179_093_258_0360_MAR_O_NR_003.SEN3.zip\n",
      "Download of product S3A_SL_2_WST____20221221T223721_20221221T224021_20221222T010810_0179_093_258_0360_MAR_O_NR_003.SEN3.zip finished.\n",
      "Downloading S3A_SL_2_WST____20221221T220603_20221221T234703_20221223T085850_6059_093_257______MAR_O_NT_003.SEN3.zip\n"
     ]
    }
   ],
   "source": [
    "for product in products:\n",
    "    selected_product = datastore.get_product(product_id=str(product), collection_id=collectionID)\n",
    "\n",
    "    with selected_product.open() as fsrc:\n",
    "        outputfile = os.path.join(download_dir, fsrc.name)\n",
    "\n",
    "        if os.path.isfile(outputfile):\n",
    "            print(f\"{outputfile} already downloaded\")\n",
    "        else:\n",
    "            with open(outputfile, mode='wb') as fdst:\n",
    "                print(f'Downloading {fsrc.name}')\n",
    "                shutil.copyfileobj(fsrc, fdst)\n",
    "                print(f'Download of product {fsrc.name} finished.')"
   ]
  },
  {
   "cell_type": "markdown",
   "metadata": {},
   "source": [
    "Generate list of files"
   ]
  },
  {
   "cell_type": "code",
   "execution_count": null,
   "metadata": {},
   "outputs": [],
   "source": [
    "datafilelist = glob.glob(os.path.join(download_dir, \"*/*.nc\"))\n",
    "datafilelist"
   ]
  },
  {
   "cell_type": "code",
   "execution_count": 59,
   "metadata": {},
   "outputs": [],
   "source": [
    "def read_sst(datafile):\n",
    "    with netCDF4.Dataset(datafile) as nc:\n",
    "        lon = nc.variables[\"lon\"][:]\n",
    "        lat = nc.variables[\"lat\"][:]\n",
    "        SST = nc.variables[\"sea_surface_temperature\"][0,:,:] - 273.15\n",
    "        qf = nc.variables[\"quality_level\"][0,:,:]\n",
    "        SSTq = np.ma.masked_where(qf != 5, SST)\n",
    "    return lon, lat, SSTq"
   ]
  },
  {
   "cell_type": "code",
   "execution_count": null,
   "metadata": {},
   "outputs": [
    {
     "name": "stderr",
     "output_type": "stream",
     "text": [
      "<ipython-input-65-a325d9ab86d2>:7: MatplotlibDeprecationWarning: shading='flat' when X and Y have the same dimensions as C is deprecated since 3.3.  Either specify the corners of the quadrilaterals with X and Y, or pass shading='auto', 'nearest' or 'gouraud', or set rcParams['pcolor.shading'].  This will become an error two minor releases later.\n",
      "  pcm = ax.pcolormesh(lon, lat, SST, cmap=plt.cm.RdYlBu_r)\n"
     ]
    }
   ],
   "source": [
    "for datafile in datafilelist:\n",
    "    fname = os.path.basename(datafile).replace('.', '_').replace('_nc', '')\n",
    "    lon, lat, SST = read_sst(datafile)\n",
    "    \n",
    "    fig = plt.figure(figsize=(12, 12))\n",
    "    ax = plt.subplot(111)\n",
    "    pcm = ax.pcolormesh(lon, lat, SST, cmap=plt.cm.RdYlBu_r, vmin=18, vmax=23.)\n",
    "    ax.set_xlim(domain[0], domain[1])\n",
    "    ax.set_ylim(domain[2], domain[3])\n",
    "    plt.colorbar(pcm, extend=\"both\")\n",
    "    plt.savefig(os.path.join(figdir, fname), dpi=300, bbox_inches=\"tight\")\n",
    "    plt.close()\n",
    "    fig.clf()"
   ]
  },
  {
   "cell_type": "code",
   "execution_count": 62,
   "metadata": {},
   "outputs": [
    {
     "data": {
      "text/plain": [
       "'20221101233531-MAR-L2P_GHRSST-SSTskin-SLSTRB-20221102020644-v02_0-fv01_0'"
      ]
     },
     "execution_count": 62,
     "metadata": {},
     "output_type": "execute_result"
    }
   ],
   "source": []
  },
  {
   "cell_type": "code",
   "execution_count": null,
   "metadata": {},
   "outputs": [],
   "source": []
  }
 ],
 "metadata": {
  "kernelspec": {
   "display_name": "Filament",
   "language": "python",
   "name": "filament3.8"
  },
  "language_info": {
   "codemirror_mode": {
    "name": "ipython",
    "version": 3
   },
   "file_extension": ".py",
   "mimetype": "text/x-python",
   "name": "python",
   "nbconvert_exporter": "python",
   "pygments_lexer": "ipython3",
   "version": "3.8.0"
  }
 },
 "nbformat": 4,
 "nbformat_minor": 4
}
