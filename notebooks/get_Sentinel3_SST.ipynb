{
 "cells": [
  {
   "cell_type": "markdown",
   "metadata": {},
   "source": [
    "# Get Sentinel-3 SST\n",
    "Explain how to obtain netCDF files usin EUMDAC.     \n",
    "One needs to have EUMDAC credentials."
   ]
  },
  {
   "cell_type": "code",
   "execution_count": 38,
   "metadata": {},
   "outputs": [],
   "source": [
    "import sys\n",
    "sys.path.insert(0, '..')\n",
    "import os\n",
    "from filament import filament\n",
    "import datetime\n",
    "import shutil\n",
    "import eumdac\n",
    "import glob\n",
    "import logging\n",
    "import numpy as np\n",
    "import matplotlib.pyplot as plt\n",
    "import cartopy.crs as ccrs\n",
    "from importlib import reload\n",
    "reload(filament)\n",
    "logger = logging.getLogger(\"SST-Sentinel3\")\n",
    "logger.setLevel(logging.INFO)\n",
    "logging.info(\"Starting\")\n",
    "plt.style.use(\"filament.mplstyle\")"
   ]
  },
  {
   "cell_type": "markdown",
   "metadata": {},
   "source": [
    "## Directories"
   ]
  },
  {
   "cell_type": "code",
   "execution_count": 22,
   "metadata": {},
   "outputs": [],
   "source": [
    "# Create a download directory for our downloaded products\n",
    "download_dir = \"/home/ctroupin/data/Sentinel3/\"\n",
    "figdir = \"../figures/SST/BloomJune2024/\"\n",
    "os.makedirs(download_dir, exist_ok=True)"
   ]
  },
  {
   "cell_type": "markdown",
   "metadata": {},
   "source": [
    "## Get access token"
   ]
  },
  {
   "cell_type": "code",
   "execution_count": 23,
   "metadata": {},
   "outputs": [
    {
     "name": "stdout",
     "output_type": "stream",
     "text": [
      "This token '18d9fe86-30d2-32e3-886c-7d50f2600644' expires 2024-06-28 16:08:51.425066\n"
     ]
    }
   ],
   "source": [
    "with open(\"/home/ctroupin/.eumdac/credentials\") as df:\n",
    "    theinfo = df.readline()\n",
    "    token = eumdac.AccessToken((theinfo.split(\",\")[0], theinfo.split(\",\")[1]))\n",
    "    print(f\"This token '{token}' expires {token.expiration}\")\n",
    "\n",
    "# create data store object\n",
    "datastore = eumdac.DataStore(token)"
   ]
  },
  {
   "cell_type": "markdown",
   "metadata": {},
   "source": [
    "Show only the products corresponding to Sentinel-3 SST"
   ]
  },
  {
   "cell_type": "code",
   "execution_count": 11,
   "metadata": {},
   "outputs": [
    {
     "name": "stdout",
     "output_type": "stream",
     "text": [
      "EO:EUM:DAT:0412: SLSTR Level 2 Sea Surface Temperature (SST) - Sentinel-3\n",
      "EO:EUM:DAT:0582: SLSTR Level 2 Sea Surface Temperature (SST) (version BC003) - Sentinel-3 - Reprocessed\n"
     ]
    }
   ],
   "source": [
    "for collectionID in datastore.collections:\n",
    "    if ('Sentinel-3' in collectionID.title) & ('SST' in collectionID.title):\n",
    "        print(f\"{collectionID}: {collectionID.title}\")"
   ]
  },
  {
   "cell_type": "markdown",
   "metadata": {},
   "source": [
    "Select the collection of interest"
   ]
  },
  {
   "cell_type": "code",
   "execution_count": 12,
   "metadata": {},
   "outputs": [
    {
     "name": "stdout",
     "output_type": "stream",
     "text": [
      "SLSTR Level 2 Sea Surface Temperature (SST) - Sentinel-3\n"
     ]
    }
   ],
   "source": [
    "collectionID = 'EO:EUM:DAT:0412'\n",
    "\n",
    "# Use collection ID\n",
    "selected_collection = datastore.get_collection(collectionID)\n",
    "print(selected_collection.title)"
   ]
  },
  {
   "cell_type": "markdown",
   "metadata": {},
   "source": [
    "Get product based on the time period and the region of interest"
   ]
  },
  {
   "cell_type": "code",
   "execution_count": 36,
   "metadata": {},
   "outputs": [],
   "source": [
    "start = datetime.datetime(2024, 6, 20)\n",
    "end = datetime.datetime(2024, 6, 28)\n",
    "domain = filament.regions[\"canarydomain\"]\n",
    "\n",
    "myproj = ccrs.Mercator(central_longitude=0.5 * (domain[0] + domain[1]), min_latitude=domain[2], \n",
    "                       max_latitude=domain[3])\n",
    "\n",
    "roi = [[domain[0], domain[2]], [domain[1], domain[2]], [domain[1], domain[3]], \n",
    "       [domain[0], domain[3]], [domain[0], domain[2]]]\n",
    "\n",
    "WKT = 'POLYGON(({}))'.format(','.join([\"{} {}\".format(*coord) for coord in roi]))\n",
    "\n",
    "products = selected_collection.search(\n",
    "    geo=WKT,\n",
    "    dtstart=start, \n",
    "    dtend=end)"
   ]
  },
  {
   "cell_type": "markdown",
   "metadata": {},
   "source": [
    "## Perform download"
   ]
  },
  {
   "cell_type": "code",
   "execution_count": 43,
   "metadata": {},
   "outputs": [
    {
     "data": {
      "text/plain": [
       "'/home/ctroupin/data/Sentinel3/S3A_SL_2_WST____20240626T104909_20240626T105209_20240626T124526_0179_114_051_2520_MAR_O_NR_003.SEN3.zip'"
      ]
     },
     "execution_count": 43,
     "metadata": {},
     "output_type": "execute_result"
    }
   ],
   "source": [
    "outputfile"
   ]
  },
  {
   "cell_type": "code",
   "execution_count": 42,
   "metadata": {},
   "outputs": [
    {
     "name": "stdout",
     "output_type": "stream",
     "text": [
      "Downloading S3A_SL_2_WST____20240627T231452_20240627T231752_20240628T013919_0180_114_073_0360_MAR_O_NR_003.SEN3.zip\n",
      "Download of product S3A_SL_2_WST____20240627T231452_20240627T231752_20240628T013919_0180_114_073_0360_MAR_O_NR_003.SEN3.zip finished.\n",
      "Downloading S3B_SL_2_WST____20240627T223602_20240627T223902_20240628T005953_0179_094_315_0360_MAR_O_NR_003.SEN3.zip\n",
      "Download of product S3B_SL_2_WST____20240627T223602_20240627T223902_20240628T005953_0179_094_315_0360_MAR_O_NR_003.SEN3.zip finished.\n",
      "Downloading S3B_SL_2_WST____20240627T112507_20240627T112807_20240627T132031_0179_094_308_2520_MAR_O_NR_003.SEN3.zip\n",
      "Download of product S3B_SL_2_WST____20240627T112507_20240627T112807_20240627T132031_0179_094_308_2520_MAR_O_NR_003.SEN3.zip finished.\n",
      "Downloading S3B_SL_2_WST____20240627T112207_20240627T112507_20240627T132031_0179_094_308_2340_MAR_O_NR_003.SEN3.zip\n",
      "Download of product S3B_SL_2_WST____20240627T112207_20240627T112507_20240627T132031_0179_094_308_2340_MAR_O_NR_003.SEN3.zip finished.\n",
      "Downloading S3B_SL_2_WST____20240626T230212_20240626T230512_20240627T012553_0179_094_301_0360_MAR_O_NR_003.SEN3.zip\n",
      "Download of product S3B_SL_2_WST____20240626T230212_20240626T230512_20240627T012553_0179_094_301_0360_MAR_O_NR_003.SEN3.zip finished.\n",
      "Downloading S3B_SL_2_WST____20240626T223055_20240627T001154_20240628T044824_6059_094_300______MAR_O_NT_003.SEN3.zip\n",
      "Download of product S3B_SL_2_WST____20240626T223055_20240627T001154_20240628T044824_6059_094_300______MAR_O_NT_003.SEN3.zip finished.\n",
      "Downloading S3B_SL_2_WST____20240626T115118_20240626T115418_20240626T134607_0179_094_294_2520_MAR_O_NR_003.SEN3.zip\n",
      "Download of product S3B_SL_2_WST____20240626T115118_20240626T115418_20240626T134607_0179_094_294_2520_MAR_O_NR_003.SEN3.zip finished.\n",
      "Downloading S3B_SL_2_WST____20240626T114818_20240626T115118_20240626T134550_0179_094_294_2340_MAR_O_NR_003.SEN3.zip\n",
      "Download of product S3B_SL_2_WST____20240626T114818_20240626T115118_20240626T134550_0179_094_294_2340_MAR_O_NR_003.SEN3.zip finished.\n",
      "Downloading S3A_SL_2_WST____20240626T104909_20240626T105209_20240626T124526_0179_114_051_2520_MAR_O_NR_003.SEN3.zip\n",
      "Download of product S3A_SL_2_WST____20240626T104909_20240626T105209_20240626T124526_0179_114_051_2520_MAR_O_NR_003.SEN3.zip finished.\n"
     ]
    },
    {
     "name": "stderr",
     "output_type": "stream",
     "text": [
      "\n",
      "KeyboardInterrupt\n",
      "\n"
     ]
    }
   ],
   "source": [
    "for product in products:\n",
    "    selected_product = datastore.get_product(product_id=str(product), collection_id=collectionID)\n",
    "\n",
    "    with selected_product.open() as fsrc:\n",
    "        outputfile = os.path.join(download_dir, fsrc.name)\n",
    "\n",
    "        if os.path.isfile(outputfile):\n",
    "            logger.info(f\"{outputfile} already downloaded\")\n",
    "        else:\n",
    "            with open(outputfile, mode='wb') as fdst:\n",
    "                logger.info(f'Downloading {fsrc.name}')\n",
    "                shutil.copyfileobj(fsrc, fdst)\n",
    "                logger.info(f'Download of product {fsrc.name} finished.')"
   ]
  },
  {
   "cell_type": "markdown",
   "metadata": {},
   "source": [
    "## Loop on files and make plots"
   ]
  },
  {
   "cell_type": "code",
   "execution_count": 47,
   "metadata": {},
   "outputs": [
    {
     "data": {
      "text/plain": [
       "['/home/ctroupin/data/Sentinel3/20240626230212-MAR-L2P_GHRSST-SSTskin-SLSTRB-20240627012553-v02.0-fv01.0.nc']"
      ]
     },
     "execution_count": 47,
     "metadata": {},
     "output_type": "execute_result"
    }
   ],
   "source": [
    "datafilelist = sorted(glob.glob(os.path.join(download_dir, \"20240626230212-MAR-L2P_GHRSST-SSTskin-SLSTRB-202406*.nc\")))\n",
    "datafilelist"
   ]
  },
  {
   "cell_type": "code",
   "execution_count": 51,
   "metadata": {},
   "outputs": [
    {
     "name": "stderr",
     "output_type": "stream",
     "text": [
      "INFO:SST-Sentinel3:Working on /home/ctroupin/data/Sentinel3/20240626230212-MAR-L2P_GHRSST-SSTskin-SLSTRB-20240627012553-v02.0-fv01.0.nc\n"
     ]
    }
   ],
   "source": [
    "for ifile, datafile in enumerate(datafilelist):\n",
    "    logger.info(\"Working on {}\".format(datafile))\n",
    "    \n",
    "    sst = filament.SST()\n",
    "    sst.read_from_sentinel3(datafile)\n",
    "    sst.field = np.ma.masked_where(sst.qflag < 1, sst.field)    \n",
    "    titletext = sst.get_title()\n",
    "    \n",
    "\n",
    "    sstmin, sstmax = 17.5, 22.5\n",
    "    \n",
    "    figname = os.path.join(figdir, sst.get_figname())\n",
    "\n",
    "    fig = plt.figure(figsize=(12, 10))\n",
    "    ax = plt.subplot(111, projection=myproj)\n",
    "    ax.set_extent(domain)\n",
    "    ax.set_title(titletext, fontsize=24)\n",
    "    \n",
    "    pcm = ax.pcolormesh(sst.lon.data, sst.lat.data, sst.field, cmap=plt.cm.RdYlBu_r, \n",
    "                        vmin=sstmin, vmax=sstmax, transform=filament.datacrs)\n",
    "    \n",
    "    cb = plt.colorbar(pcm, extend=\"both\", shrink=0.75)\n",
    "    cb.set_label(\"°C\", rotation=0, ha=\"left\")\n",
    "\n",
    "    iii = 0        \n",
    "    #vis.add_to_plot(ax, myproj)\n",
    "\n",
    "    ax.add_feature(filament.coast_f, linewidth=.2, color=\".5\")\n",
    "    gl = ax.gridlines(crs=ccrs.PlateCarree(), draw_labels=True,\n",
    "                  linewidth=.5, color='.25', linestyle='--', zorder=2)\n",
    "    gl.top_labels = False\n",
    "    gl.right_labels = False\n",
    "\n",
    "    plt.savefig(figname)\n",
    "    # plt.show()\n",
    "    plt.close(fig)"
   ]
  },
  {
   "cell_type": "code",
   "execution_count": null,
   "metadata": {},
   "outputs": [],
   "source": []
  }
 ],
 "metadata": {
  "@webio": {
   "lastCommId": null,
   "lastKernelId": null
  },
  "kernelspec": {
   "display_name": "Filament3.11",
   "language": "python",
   "name": "filament3.11"
  },
  "language_info": {
   "codemirror_mode": {
    "name": "ipython",
    "version": 3
   },
   "file_extension": ".py",
   "mimetype": "text/x-python",
   "name": "python",
   "nbconvert_exporter": "python",
   "pygments_lexer": "ipython3",
   "version": "3.11.0"
  },
  "toc": {
   "base_numbering": 1,
   "nav_menu": {},
   "number_sections": true,
   "sideBar": true,
   "skip_h1_title": false,
   "title_cell": "Table of Contents",
   "title_sidebar": "Contents",
   "toc_cell": false,
   "toc_position": {},
   "toc_section_display": true,
   "toc_window_display": false
  }
 },
 "nbformat": 4,
 "nbformat_minor": 4
}
