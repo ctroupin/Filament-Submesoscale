{
 "cells": [
  {
   "cell_type": "code",
   "execution_count": 46,
   "metadata": {},
   "outputs": [],
   "source": [
    "import os\n",
    "import glob\n",
    "import logging\n",
    "import cmocean\n",
    "import numpy as np\n",
    "import matplotlib.pyplot as plt\n",
    "from mpl_toolkits.basemap import Basemap\n",
    "import netCDF4"
   ]
  },
  {
   "cell_type": "code",
   "execution_count": 77,
   "metadata": {},
   "outputs": [],
   "source": [
    "figdir = \"./figures/\"\n",
    "datafilelist = sorted(glob.glob(\"./*/*nc\"))"
   ]
  },
  {
   "cell_type": "code",
   "execution_count": 70,
   "metadata": {},
   "outputs": [],
   "source": [
    "domain = (-15.89, -15.279, 27.69, 28.2)\n",
    "enlarge = 0\n",
    "m = Basemap(projection='merc',\n",
    "            llcrnrlon=domain[0] - enlarge, llcrnrlat=domain[2] - enlarge,\n",
    "            urcrnrlon=domain[1] + enlarge, urcrnrlat=domain[3] + enlarge,\n",
    "            lat_ts=0.5 * (domain[1] + domain[3]), resolution='f')"
   ]
  },
  {
   "cell_type": "code",
   "execution_count": 62,
   "metadata": {},
   "outputs": [],
   "source": [
    "def load_lst_canary(datafile):\n",
    "    with netCDF4.Dataset(datafile, \"r\") as nc:\n",
    "        time = nc.variables[\"time\"][0]\n",
    "        timeunits = nc.variables[\"time\"].units\n",
    "        date = netCDF4.num2date(time, timeunits)\n",
    "\n",
    "        lon = nc.variables[\"lon\"][:]\n",
    "        lat = nc.variables[\"lat\"][:]\n",
    "        goodlon = (lon >= domain[0]) & (lon <= domain[1])\n",
    "        goodlat = (lat >= domain[2]) & (lat <= domain[3])\n",
    "        lon = lon[goodlon]\n",
    "        lat = lat[goodlat]\n",
    "        lst = nc.get_variables_by_attributes(standard_name=\"surface_temperature\")[0][0,goodlat, goodlon]\n",
    "        \n",
    "        # Convert to Celsius\n",
    "        lst -= 273.15\n",
    "        \n",
    "        # Correct positions\n",
    "        deltalon = abs(lon[1] - lon[0])\n",
    "        deltalat = abs(lat[1] - lat[0])\n",
    "        lon -= deltalon /2.\n",
    "        lat += deltalat /2.\n",
    "        \n",
    "    return lon, lat, lst, date"
   ]
  },
  {
   "cell_type": "code",
   "execution_count": 84,
   "metadata": {},
   "outputs": [],
   "source": [
    "def plot_lst_canary(lon, lat, lst, date, figname=None):\n",
    "    llon, llat = np.meshgrid(lon, lat)\n",
    "    plt.figure()\n",
    "    m.pcolormesh(llon, llat, lst, \n",
    "                 latlon=True, cmap=cmocean.cm.thermal)\n",
    "    m.drawcoastlines(linewidth=.2)\n",
    "    plt.colorbar()\n",
    "    plt.title(date, fontsize=16)\n",
    "    if figname is not None:\n",
    "        plt.savefig(figname, dpi=300, bbox_inches=\"tight\")\n",
    "    # plt.show()\n",
    "    plt.close()"
   ]
  },
  {
   "cell_type": "code",
   "execution_count": 85,
   "metadata": {},
   "outputs": [
    {
     "name": "stderr",
     "output_type": "stream",
     "text": [
      "/home/ctroupin/Software/PythonEnvs/Diva-python3.6/lib/python3.6/site-packages/mpl_toolkits/basemap/__init__.py:3413: MatplotlibDeprecationWarning: The ishold function was deprecated in version 2.0.\n",
      "  b = ax.ishold()\n",
      "/home/ctroupin/Software/PythonEnvs/Diva-python3.6/lib/python3.6/site-packages/mpl_toolkits/basemap/__init__.py:3422: MatplotlibDeprecationWarning: axes.hold is deprecated.\n",
      "    See the API Changes document (http://matplotlib.org/api/api_changes.html)\n",
      "    for more details.\n",
      "  ax.hold(b)\n"
     ]
    }
   ],
   "source": [
    "for d in datafilelist:\n",
    "    fname = os.path.basename(d).replace(\".nc\", \".png\")\n",
    "    figname = os.path.join(figdir, fname)\n",
    "    lon, lat, lst, date = load_lst_canary(d)\n",
    "    plot_lst_canary(lon, lat, lst, date, figname)"
   ]
  },
  {
   "cell_type": "code",
   "execution_count": null,
   "metadata": {},
   "outputs": [],
   "source": []
  }
 ],
 "metadata": {
  "kernelspec": {
   "display_name": "Diva-python3.6",
   "language": "python",
   "name": "diva-python3.6"
  },
  "language_info": {
   "codemirror_mode": {
    "name": "ipython",
    "version": 3
   },
   "file_extension": ".py",
   "mimetype": "text/x-python",
   "name": "python",
   "nbconvert_exporter": "python",
   "pygments_lexer": "ipython3",
   "version": "3.6.0"
  }
 },
 "nbformat": 4,
 "nbformat_minor": 2
}
