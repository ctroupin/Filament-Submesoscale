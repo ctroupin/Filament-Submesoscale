{
 "cells": [
  {
   "cell_type": "code",
   "execution_count": 1,
   "metadata": {},
   "outputs": [],
   "source": [
    "import datetime\n",
    "import re\n",
    "import os\n",
    "import numpy as np\n",
    "import matplotlib.pyplot as plt\n",
    "import filament\n",
    "import logging\n",
    "import copy\n",
    "import cartopy\n",
    "import cartopy.crs as ccrs\n",
    "import cartopy.feature as cfeature\n",
    "import cartopy.mpl.ticker as cartopyticker\n",
    "myproj = ccrs.PlateCarree()\n",
    "coast = cfeature.GSHHSFeature(scale=\"f\")\n",
    "from osgeo import gdal, osr\n",
    "import logging\n",
    "from importlib import reload"
   ]
  },
  {
   "cell_type": "code",
   "execution_count": 2,
   "metadata": {},
   "outputs": [
    {
     "name": "stderr",
     "output_type": "stream",
     "text": [
      "INFO:root:Starting\n"
     ]
    }
   ],
   "source": [
    "logger = logging.getLogger()\n",
    "logger.setLevel(logging.INFO)\n",
    "logging.info(\"Starting\")"
   ]
  },
  {
   "cell_type": "markdown",
   "metadata": {},
   "source": [
    "## Input parameters\n",
    "We set the date of interest and the domain coordinates are taken from the geoTIFF file."
   ]
  },
  {
   "cell_type": "code",
   "execution_count": 3,
   "metadata": {},
   "outputs": [
    {
     "data": {
      "text/plain": [
       "True"
      ]
     },
     "execution_count": 3,
     "metadata": {},
     "output_type": "execute_result"
    }
   ],
   "source": [
    "year, month, day = 2019, 5, 1\n",
    "figdir = \"../figures/wind/\"\n",
    "visibledir = \"/data/Visible/Balearic/\"\n",
    "os.path.exists(figdir)"
   ]
  },
  {
   "cell_type": "markdown",
   "metadata": {},
   "source": [
    "## Data"
   ]
  },
  {
   "cell_type": "code",
   "execution_count": 4,
   "metadata": {},
   "outputs": [],
   "source": [
    "datewind = datetime.datetime(year, month, day)\n",
    "dayofyear = datewind.timetuple().tm_yday"
   ]
  },
  {
   "cell_type": "markdown",
   "metadata": {},
   "source": [
    "### Visible image"
   ]
  },
  {
   "cell_type": "code",
   "execution_count": 5,
   "metadata": {},
   "outputs": [
    {
     "name": "stderr",
     "output_type": "stream",
     "text": [
      "INFO:root:No visible image for that date\n"
     ]
    }
   ],
   "source": [
    "visibleim = datewind.strftime(\"VIIRS-%Y-%m-%dT00_00_00Z.tiff\")\n",
    "#visibleim = datewind.strftime(\"Sentinel-3_OLCI_%Y-%m-%d.tiff\")\n",
    "#visibleim = datewind.strftime(\"Sentinel-2_L1C_%Y-%m-%d.tiff\")\n",
    "#visibleim = datewind.strftime(\"Terra-%Y-%m-%dT00_00_00Z.tiff\")\n",
    "if os.path.exists(os.path.join(visibledir, visibleim)):\n",
    "    logger.info(\"Reading geoTIFF file {}\".format(visibleim))\n",
    "    vis = filament.Visible()\n",
    "    vis.read_geotiff(os.path.join(visibledir, visibleim))\n",
    "    extent2 = copy.deepcopy(vis.extent)\n",
    "    extent2[0] -= 360.\n",
    "    extent2[1] -= 360.\n",
    "else:\n",
    "    extent2 = [-360.551513671875, -356.715087890625, 36.77124023437501, 40.86694335937501]\n",
    "    extent2 = [-(360 - 2.), -(360. - 10.), 36.5, 45.]\n",
    "    logger.info(\"No visible image for that date\")\n",
    "domain = [2., 10., 36.5, 45.]"
   ]
  },
  {
   "cell_type": "markdown",
   "metadata": {},
   "source": [
    "### Scatterometer wind\n",
    "The wind (netCDF) are read from the JPL OPEnDAP server.      \n",
    "The files are sorted by years and days of year.\n",
    "\n",
    "With these pieces of information we can create two lists of files (one for MetOp-A, one for MetOp-A)."
   ]
  },
  {
   "cell_type": "code",
   "execution_count": 6,
   "metadata": {},
   "outputs": [
    {
     "name": "stderr",
     "output_type": "stream",
     "text": [
      "INFO:Filament:Found 28 files\n"
     ]
    }
   ],
   "source": [
    "filelist1 = filament.get_filelist_url(year, dayofyear)\n",
    "# filelist1 = [\"https://opendap.jpl.nasa.gov:443/opendap/OceanWinds/ascat/preview/L2/metop_b/coastal_opt/2019/332/ascat_20191128_092400_metopb_37332_eps_o_coa_3202_ovw.l2.nc.gz\"]"
   ]
  },
  {
   "cell_type": "code",
   "execution_count": null,
   "metadata": {},
   "outputs": [],
   "source": [
    "#filelist1 = [\"/data/Wind/ASCAT/WestMed/ascat_20200401_201500_metopa_69801_eps_o_coa_3202_ovw.l2.nc.gz\"]"
   ]
  },
  {
   "cell_type": "code",
   "execution_count": null,
   "metadata": {},
   "outputs": [
    {
     "name": "stderr",
     "output_type": "stream",
     "text": [
      "INFO:root:Working on https://opendap.jpl.nasa.gov:443/opendap/OceanWinds/ascat/preview/L2/metop_a/coastal_opt/2019/121/ascat_20190501_005100_metopa_65016_eps_o_coa_3201_ovw.l2.nc.gz\n",
      "INFO:Filament:No data in the region of interest\n",
      "INFO:root:Working on https://opendap.jpl.nasa.gov:443/opendap/OceanWinds/ascat/preview/L2/metop_a/coastal_opt/2019/121/ascat_20190501_023000_metopa_65017_eps_o_coa_3201_ovw.l2.nc.gz\n",
      "INFO:Filament:No data in the region of interest\n",
      "INFO:root:Working on https://opendap.jpl.nasa.gov:443/opendap/OceanWinds/ascat/preview/L2/metop_a/coastal_opt/2019/121/ascat_20190501_041200_metopa_65018_eps_o_coa_3201_ovw.l2.nc.gz\n",
      "INFO:Filament:No data in the region of interest\n",
      "INFO:root:Working on https://opendap.jpl.nasa.gov:443/opendap/OceanWinds/ascat/preview/L2/metop_a/coastal_opt/2019/121/ascat_20190501_055400_metopa_65019_eps_o_coa_3201_ovw.l2.nc.gz\n",
      "INFO:Filament:No data in the region of interest\n",
      "INFO:root:Working on https://opendap.jpl.nasa.gov:443/opendap/OceanWinds/ascat/preview/L2/metop_a/coastal_opt/2019/121/ascat_20190501_073600_metopa_65020_eps_o_coa_3201_ovw.l2.nc.gz\n",
      "INFO:Filament:Subsetting data to region of interest\n",
      "INFO:root:Saving figure as Wind-ascat_20190501_073600_metopa_65020_eps_o_coa_3201_ovw\n",
      "INFO:root:Working on https://opendap.jpl.nasa.gov:443/opendap/OceanWinds/ascat/preview/L2/metop_a/coastal_opt/2019/121/ascat_20190501_091800_metopa_65021_eps_o_coa_3201_ovw.l2.nc.gz\n",
      "INFO:Filament:Subsetting data to region of interest\n",
      "INFO:root:Saving figure as Wind-ascat_20190501_091800_metopa_65021_eps_o_coa_3201_ovw\n",
      "INFO:root:Working on https://opendap.jpl.nasa.gov:443/opendap/OceanWinds/ascat/preview/L2/metop_a/coastal_opt/2019/121/ascat_20190501_105700_metopa_65022_eps_o_coa_3201_ovw.l2.nc.gz\n",
      "INFO:Filament:No data in the region of interest\n",
      "INFO:root:Working on https://opendap.jpl.nasa.gov:443/opendap/OceanWinds/ascat/preview/L2/metop_a/coastal_opt/2019/121/ascat_20190501_123900_metopa_65023_eps_o_coa_3201_ovw.l2.nc.gz\n",
      "INFO:Filament:No data in the region of interest\n",
      "INFO:root:Working on https://opendap.jpl.nasa.gov:443/opendap/OceanWinds/ascat/preview/L2/metop_a/coastal_opt/2019/121/ascat_20190501_142100_metopa_65024_eps_o_coa_3201_ovw.l2.nc.gz\n",
      "INFO:Filament:No data in the region of interest\n",
      "INFO:root:Working on https://opendap.jpl.nasa.gov:443/opendap/OceanWinds/ascat/preview/L2/metop_a/coastal_opt/2019/121/ascat_20190501_160300_metopa_65025_eps_o_coa_3201_ovw.l2.nc.gz\n",
      "INFO:Filament:No data in the region of interest\n",
      "INFO:root:Working on https://opendap.jpl.nasa.gov:443/opendap/OceanWinds/ascat/preview/L2/metop_a/coastal_opt/2019/121/ascat_20190501_174200_metopa_65026_eps_o_coa_3201_ovw.l2.nc.gz\n",
      "INFO:Filament:No data in the region of interest\n",
      "INFO:root:Working on https://opendap.jpl.nasa.gov:443/opendap/OceanWinds/ascat/preview/L2/metop_a/coastal_opt/2019/121/ascat_20190501_192400_metopa_65027_eps_o_coa_3201_ovw.l2.nc.gz\n",
      "INFO:Filament:Subsetting data to region of interest\n",
      "INFO:root:Saving figure as Wind-ascat_20190501_192400_metopa_65027_eps_o_coa_3201_ovw\n",
      "INFO:root:Working on https://opendap.jpl.nasa.gov:443/opendap/OceanWinds/ascat/preview/L2/metop_a/coastal_opt/2019/121/ascat_20190501_210600_metopa_65028_eps_o_coa_3201_ovw.l2.nc.gz\n",
      "INFO:Filament:No data in the region of interest\n",
      "INFO:root:Working on https://opendap.jpl.nasa.gov:443/opendap/OceanWinds/ascat/preview/L2/metop_a/coastal_opt/2019/121/ascat_20190501_224800_metopa_65029_eps_o_coa_3201_ovw.l2.nc.gz\n",
      "INFO:Filament:No data in the region of interest\n",
      "INFO:root:Working on https://opendap.jpl.nasa.gov:443/opendap/OceanWinds/ascat/preview/L2/metop_b/coastal_opt/2019/121/ascat_20190501_002400_metopb_34329_eps_o_coa_3201_ovw.l2.nc.gz\n",
      "INFO:Filament:No data in the region of interest\n",
      "INFO:root:Working on https://opendap.jpl.nasa.gov:443/opendap/OceanWinds/ascat/preview/L2/metop_b/coastal_opt/2019/121/ascat_20190501_020300_metopb_34330_eps_o_coa_3201_ovw.l2.nc.gz\n",
      "INFO:Filament:No data in the region of interest\n",
      "INFO:root:Working on https://opendap.jpl.nasa.gov:443/opendap/OceanWinds/ascat/preview/L2/metop_b/coastal_opt/2019/121/ascat_20190501_034500_metopb_34331_eps_o_coa_3201_ovw.l2.nc.gz\n",
      "INFO:Filament:No data in the region of interest\n",
      "INFO:root:Working on https://opendap.jpl.nasa.gov:443/opendap/OceanWinds/ascat/preview/L2/metop_b/coastal_opt/2019/121/ascat_20190501_052700_metopb_34332_eps_o_coa_3201_ovw.l2.nc.gz\n",
      "INFO:Filament:No data in the region of interest\n",
      "INFO:root:Working on https://opendap.jpl.nasa.gov:443/opendap/OceanWinds/ascat/preview/L2/metop_b/coastal_opt/2019/121/ascat_20190501_070900_metopb_34333_eps_o_coa_3201_ovw.l2.nc.gz\n",
      "INFO:Filament:No data in the region of interest\n",
      "INFO:root:Working on https://opendap.jpl.nasa.gov:443/opendap/OceanWinds/ascat/preview/L2/metop_b/coastal_opt/2019/121/ascat_20190501_084800_metopb_34334_eps_o_coa_3201_ovw.l2.nc.gz\n",
      "INFO:Filament:Subsetting data to region of interest\n"
     ]
    }
   ],
   "source": [
    "filelistclean = []\n",
    " \n",
    "for ifile, dataurl in enumerate(filelist1):\n",
    "\n",
    "    logger.info(\"Working on {}\".format(dataurl))\n",
    "    wind = filament.Wind()\n",
    "    res = wind.read_ascat(dataurl, extent2)\n",
    "\n",
    "    if res:    \n",
    "        filelistclean.append(dataurl)\n",
    "        mm = str(month).zfill(2)\n",
    "        dd = str(day).zfill(2)\n",
    "        \n",
    "        fname = \"\".join((\"Wind-\", dataurl.split(\"/\")[-1].split(\".\")[0]))\n",
    "        logger.info(\"Saving figure as {}\".format(fname))\n",
    "        figname = os.path.join(figdir, fname)\n",
    "        \n",
    "        fig = plt.figure(figsize=(8, 8))\n",
    "        ax = plt.subplot(111, projection=myproj)\n",
    "        # vis.add_to_plot(ax, myproj)\n",
    "\n",
    "        wind.add_to_plot(fig, ax, domain=domain,\n",
    "                         cmap=plt.cm.hot_r, clim=[0, 15], quivscale=300, quivwidth=0.002,\n",
    "                         cbarloc='upper right', \n",
    "                         date=\"{}-{}-{}\".format(year, mm, dd))\n",
    "        \n",
    "        filament.decorate_map(ax, \n",
    "                                 domain, \n",
    "                                 np.arange(0.0, 10., 1.0), \n",
    "                                 np.arange(36., 46., 1.0))\n",
    "        \n",
    "        ax.add_feature(coast, linewidth=.2, color=\".7\")\n",
    "        \n",
    "        plt.savefig(figname, dpi=300, bbox_inches=\"tight\")\n",
    "        # plt.show()\n",
    "        plt.close()"
   ]
  },
  {
   "cell_type": "code",
   "execution_count": null,
   "metadata": {},
   "outputs": [],
   "source": []
  },
  {
   "cell_type": "code",
   "execution_count": null,
   "metadata": {},
   "outputs": [],
   "source": []
  }
 ],
 "metadata": {
  "@webio": {
   "lastCommId": null,
   "lastKernelId": null
  },
  "kernelspec": {
   "display_name": "Diva-python3.6",
   "language": "python",
   "name": "diva-python3.6"
  },
  "language_info": {
   "codemirror_mode": {
    "name": "ipython",
    "version": 3
   },
   "file_extension": ".py",
   "mimetype": "text/x-python",
   "name": "python",
   "nbconvert_exporter": "python",
   "pygments_lexer": "ipython3",
   "version": "3.6.0"
  }
 },
 "nbformat": 4,
 "nbformat_minor": 2
}
