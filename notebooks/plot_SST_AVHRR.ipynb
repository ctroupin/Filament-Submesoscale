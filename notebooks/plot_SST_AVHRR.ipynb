{
 "cells": [
  {
   "cell_type": "code",
   "execution_count": 4,
   "metadata": {},
   "outputs": [],
   "source": [
    "import os\n",
    "import glob\n",
    "import filament\n",
    "import datetime\n",
    "import netCDF4\n",
    "import cmocean\n",
    "import logging\n",
    "import numpy as np\n",
    "import matplotlib.pyplot as plt\n",
    "from mpl_toolkits.basemap import Basemap\n",
    "from importlib import reload\n",
    "import cartopy\n",
    "import cartopy.crs as ccrs\n",
    "import cartopy.feature as cfeature\n",
    "import cartopy.mpl.ticker as cartopyticker\n",
    "myproj = ccrs.PlateCarree()\n",
    "coast = cfeature.GSHHSFeature(scale=\"f\")"
   ]
  },
  {
   "cell_type": "code",
   "execution_count": 5,
   "metadata": {},
   "outputs": [],
   "source": [
    "logger = logging.getLogger(\"filamentPlot\")\n",
    "logger.setLevel(logging.INFO)\n",
    "logging.info(\"Starting\")\n",
    "plotvis = 0"
   ]
  },
  {
   "cell_type": "code",
   "execution_count": 6,
   "metadata": {},
   "outputs": [],
   "source": [
    "figdir = \"/data/SST/CapeGhir/figures/zoom/\"\n",
    "figdir2 = \"/data/SST/CapeGhir/figures/medium\"\n",
    "visibledir = \"/data/Visible/\"\n",
    "mediumdomain = (-19., -6., 25., 35.)\n",
    "smalldomain = (-15., -9., 27., 33.)\n",
    "tinydomain = (-12., -9., 29.5, 32.)"
   ]
  },
  {
   "cell_type": "markdown",
   "metadata": {},
   "source": [
    "## Read data"
   ]
  },
  {
   "cell_type": "code",
   "execution_count": 14,
   "metadata": {},
   "outputs": [],
   "source": [
    "dataurl = \"https://data.nodc.noaa.gov/thredds/dodsC/ghrsst/L2P/NAR18_SST/EUR/2009/270/20090927-NAR18_SST-EUR-L2P-sst1nar_noaa18_20090927_asc-v01.nc.bz2\""
   ]
  },
  {
   "cell_type": "code",
   "execution_count": 15,
   "metadata": {},
   "outputs": [],
   "source": [
    "sst = filament.SST()\n",
    "sst.read_from_ghrsst(dataurl)\n",
    "sst.field = np.ma.masked_where(sst.qflag != 5, sst.field)"
   ]
  },
  {
   "cell_type": "markdown",
   "metadata": {},
   "source": [
    "## Make plot"
   ]
  },
  {
   "cell_type": "code",
   "execution_count": 18,
   "metadata": {},
   "outputs": [
    {
     "name": "stdout",
     "output_type": "stream",
     "text": [
      "<class 'netCDF4._netCDF4.Dataset'>\n",
      "root group (NETCDF3_CLASSIC data model, file format DAP2):\n",
      "    Conventions: CF-1.0\n",
      "    title: NAR18_SST\n",
      "    DSD_entry_id: EUR-L2P-NAR18_SST\n",
      "    references: Medspiration products user manual, Robinson I., Leborgne P., Piolle J.F., Larnicol G., v1.00, September 2004\n",
      "    institution: EUR\n",
      "    contact: Pierre.Leborgne@meteo.fr\n",
      "    GDS_version_id: v1.0-rev1.5\n",
      "    product_version: 1.0\n",
      "    netcdf_version_id: 3.6.1 of Sep  4 2007 17:07:53 $\n",
      "    creation_date: 2009-09-27\n",
      "    history: L2P data file originally produced by the ESA Medspiration project\n",
      "    platform: NOAA\n",
      "    sensor: AVHRR\n",
      "    start_date: 2009-09-27 UTC\n",
      "    start_time: 12:04:00 UTC\n",
      "    stop_date: 2009-09-27 UTC\n",
      "    stop_time: 15:29:00 UTC\n",
      "    spatial_resolution: 2 km\n",
      "    southernmost_latitude: 20.0\n",
      "    northernmost_latitude: 78.244\n",
      "    westernmost_longitude: -44.992\n",
      "    easternmost_longitude: 44.997\n",
      "    file_quality_index: 2\n",
      "    comment: WARNING Some applications are unable to properly handle signed byte values. If values are encountered > 127, please substract 256 from this reported value\n",
      "    DODS.strlen: 0\n",
      "    dimensions(sizes): maxStrlen64(64), ni(4096), nj(3072), time(1)\n",
      "    variables(dimensions): int32 \u001b[4mtime\u001b[0m(time), float32 \u001b[4mlat\u001b[0m(nj,ni), float32 \u001b[4mlon\u001b[0m(nj,ni), int16 \u001b[4msst_dtime\u001b[0m(time,nj,ni), int16 \u001b[4msea_surface_temperature\u001b[0m(time,nj,ni), |S1 \u001b[4mpolar_stereographic\u001b[0m(maxStrlen64), int8 \u001b[4msea_ice_fraction\u001b[0m(time,nj,ni), int8 \u001b[4msources_of_sea_ice_fraction\u001b[0m(time,nj,ni), int8 \u001b[4mDT_analysis\u001b[0m(time,nj,ni), int8 \u001b[4mrejection_flag\u001b[0m(time,nj,ni), int8 \u001b[4mproximity_confidence\u001b[0m(time,nj,ni), int8 \u001b[4mconfidence_flag\u001b[0m(time,nj,ni), int8 \u001b[4mSSES_bias_error\u001b[0m(time,nj,ni), int8 \u001b[4mSSES_standard_deviation_error\u001b[0m(time,nj,ni), int8 \u001b[4mwind_speed\u001b[0m(time,nj,ni), int8 \u001b[4mwind_speed_dtime_from_sst\u001b[0m(time,nj,ni), int8 \u001b[4msources_of_wind_speed\u001b[0m(time,nj,ni), int8 \u001b[4msurface_solar_irradiance\u001b[0m(time,nj,ni), int8 \u001b[4mssi_dtime_from_sst\u001b[0m(time,nj,ni), int8 \u001b[4msources_of_ssi\u001b[0m(time,nj,ni)\n",
      "    groups: \n",
      "\n"
     ]
    }
   ],
   "source": [
    "with netCDF4.Dataset(\"https://data.nodc.noaa.gov/thredds/dodsC/ghrsst/L2P/NAR18_SST/EUR/2009/270/20090927-NAR18_SST-EUR-L2P-sst1nar_noaa18_20090927_asc-v01.nc.bz2\") as nc:\n",
    "    print(nc)\n",
    "    sstfield = nc.variables[\"sea_surface_temperature\"][:]"
   ]
  },
  {
   "cell_type": "code",
   "execution_count": 10,
   "metadata": {},
   "outputs": [
    {
     "ename": "TypeError",
     "evalue": "expected str, bytes or os.PathLike object, not NoneType",
     "output_type": "error",
     "traceback": [
      "\u001b[0;31m---------------------------------------------------------------------------\u001b[0m",
      "\u001b[0;31mTypeError\u001b[0m                                 Traceback (most recent call last)",
      "\u001b[0;32m<ipython-input-10-86243f28caa5>\u001b[0m in \u001b[0;36m<module>\u001b[0;34m()\u001b[0m\n\u001b[1;32m      1\u001b[0m \u001b[0;31m# Plot without visible\u001b[0m\u001b[0;34m\u001b[0m\u001b[0;34m\u001b[0m\u001b[0m\n\u001b[0;32m----> 2\u001b[0;31m \u001b[0mfigname\u001b[0m \u001b[0;34m=\u001b[0m \u001b[0mos\u001b[0m\u001b[0;34m.\u001b[0m\u001b[0mpath\u001b[0m\u001b[0;34m.\u001b[0m\u001b[0mjoin\u001b[0m\u001b[0;34m(\u001b[0m\u001b[0mfigdir\u001b[0m\u001b[0;34m,\u001b[0m \u001b[0msst\u001b[0m\u001b[0;34m.\u001b[0m\u001b[0mget_figname\u001b[0m\u001b[0;34m(\u001b[0m\u001b[0;34m)\u001b[0m\u001b[0;34m)\u001b[0m\u001b[0;34m\u001b[0m\u001b[0m\n\u001b[0m",
      "\u001b[0;32m~/Projects/FNRS-UpwellingFilaments/Filament-Submesoscale/python/filament.py\u001b[0m in \u001b[0;36mget_figname\u001b[0;34m(self)\u001b[0m\n\u001b[1;32m    142\u001b[0m         \u001b[0;31m# with netCDF4.Dataset(filename, \"r\") as nc:\u001b[0m\u001b[0;34m\u001b[0m\u001b[0;34m\u001b[0m\u001b[0m\n\u001b[1;32m    143\u001b[0m         \u001b[0;31m#    figname = \"-\".join((nc.instrument, self.date.strftime(\"%Y_%m_%d\")))\u001b[0m\u001b[0;34m\u001b[0m\u001b[0;34m\u001b[0m\u001b[0m\n\u001b[0;32m--> 144\u001b[0;31m         \u001b[0mfigname\u001b[0m \u001b[0;34m=\u001b[0m \u001b[0mos\u001b[0m\u001b[0;34m.\u001b[0m\u001b[0mpath\u001b[0m\u001b[0;34m.\u001b[0m\u001b[0mbasename\u001b[0m\u001b[0;34m(\u001b[0m\u001b[0mself\u001b[0m\u001b[0;34m.\u001b[0m\u001b[0mfname\u001b[0m\u001b[0;34m)\u001b[0m\u001b[0;34m\u001b[0m\u001b[0m\n\u001b[0m\u001b[1;32m    145\u001b[0m         \u001b[0mfigname\u001b[0m \u001b[0;34m=\u001b[0m \u001b[0mos\u001b[0m\u001b[0;34m.\u001b[0m\u001b[0mpath\u001b[0m\u001b[0;34m.\u001b[0m\u001b[0msplitext\u001b[0m\u001b[0;34m(\u001b[0m\u001b[0mfigname\u001b[0m\u001b[0;34m)\u001b[0m\u001b[0;34m[\u001b[0m\u001b[0;36m0\u001b[0m\u001b[0;34m]\u001b[0m\u001b[0;34m\u001b[0m\u001b[0m\n\u001b[1;32m    146\u001b[0m         \u001b[0mfigname\u001b[0m \u001b[0;34m=\u001b[0m \u001b[0mfigname\u001b[0m\u001b[0;34m.\u001b[0m\u001b[0mreplace\u001b[0m\u001b[0;34m(\u001b[0m\u001b[0;34m\".\"\u001b[0m\u001b[0;34m,\u001b[0m \u001b[0;34m\"-\"\u001b[0m\u001b[0;34m)\u001b[0m\u001b[0;34m\u001b[0m\u001b[0m\n",
      "\u001b[0;32m~/Software/PythonEnvs/Diva-python3.6/lib/python3.6/posixpath.py\u001b[0m in \u001b[0;36mbasename\u001b[0;34m(p)\u001b[0m\n\u001b[1;32m    142\u001b[0m \u001b[0;32mdef\u001b[0m \u001b[0mbasename\u001b[0m\u001b[0;34m(\u001b[0m\u001b[0mp\u001b[0m\u001b[0;34m)\u001b[0m\u001b[0;34m:\u001b[0m\u001b[0;34m\u001b[0m\u001b[0m\n\u001b[1;32m    143\u001b[0m     \u001b[0;34m\"\"\"Returns the final component of a pathname\"\"\"\u001b[0m\u001b[0;34m\u001b[0m\u001b[0m\n\u001b[0;32m--> 144\u001b[0;31m     \u001b[0mp\u001b[0m \u001b[0;34m=\u001b[0m \u001b[0mos\u001b[0m\u001b[0;34m.\u001b[0m\u001b[0mfspath\u001b[0m\u001b[0;34m(\u001b[0m\u001b[0mp\u001b[0m\u001b[0;34m)\u001b[0m\u001b[0;34m\u001b[0m\u001b[0m\n\u001b[0m\u001b[1;32m    145\u001b[0m     \u001b[0msep\u001b[0m \u001b[0;34m=\u001b[0m \u001b[0m_get_sep\u001b[0m\u001b[0;34m(\u001b[0m\u001b[0mp\u001b[0m\u001b[0;34m)\u001b[0m\u001b[0;34m\u001b[0m\u001b[0m\n\u001b[1;32m    146\u001b[0m     \u001b[0mi\u001b[0m \u001b[0;34m=\u001b[0m \u001b[0mp\u001b[0m\u001b[0;34m.\u001b[0m\u001b[0mrfind\u001b[0m\u001b[0;34m(\u001b[0m\u001b[0msep\u001b[0m\u001b[0;34m)\u001b[0m \u001b[0;34m+\u001b[0m \u001b[0;36m1\u001b[0m\u001b[0;34m\u001b[0m\u001b[0m\n",
      "\u001b[0;31mTypeError\u001b[0m: expected str, bytes or os.PathLike object, not NoneType"
     ]
    }
   ],
   "source": [
    "# Plot without visible\n",
    "figname = os.path.join(figdir, sst.get_figname())"
   ]
  },
  {
   "cell_type": "code",
   "execution_count": null,
   "metadata": {},
   "outputs": [],
   "source": [
    "\n",
    "fig = plt.figure(figsize=(8, 6))\n",
    "ax = plt.subplot(111, projection=myproj)\n",
    "sst.add_to_plot(fig, ax, domain=tinydomain, cmap=plt.cm.RdYlBu_r,\n",
    "                clim=[16., 21], date=\"2020-01-01\", vis=False,\n",
    "                cbarloc=[0.6, 0.2, 0.25, 0.015])\n",
    "ax.add_feature(coast, linewidth=.2, color=\".7\")\n",
    "filament.decorate_map(ax, mediumdomain, np.arange(-19., -7., 3.), \n",
    "                          np.arange(25., 35., 2.))\n",
    "plt.savefig(figname, dpi=300, bbox_inches=\"tight\")\n",
    "plt.close()"
   ]
  }
 ],
 "metadata": {
  "kernelspec": {
   "display_name": "Diva-python3.6",
   "language": "python",
   "name": "diva-python3.6"
  },
  "language_info": {
   "codemirror_mode": {
    "name": "ipython",
    "version": 3
   },
   "file_extension": ".py",
   "mimetype": "text/x-python",
   "name": "python",
   "nbconvert_exporter": "python",
   "pygments_lexer": "ipython3",
   "version": "3.6.0"
  }
 },
 "nbformat": 4,
 "nbformat_minor": 2
}
