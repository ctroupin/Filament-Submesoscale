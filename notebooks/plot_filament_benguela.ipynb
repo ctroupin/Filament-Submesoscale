{
 "cells": [
  {
   "cell_type": "code",
   "execution_count": 3,
   "metadata": {},
   "outputs": [],
   "source": [
    "import sys\n",
    "sys.path.insert(0, '..')\n",
    "import os\n",
    "import glob\n",
    "from filament import filament\n",
    "import datetime\n",
    "import cmocean\n",
    "import numpy as np\n",
    "import matplotlib.pyplot as plt\n",
    "from mpl_toolkits.basemap import Basemap"
   ]
  },
  {
   "cell_type": "code",
   "execution_count": 7,
   "metadata": {},
   "outputs": [],
   "source": [
    "datadir = \"/data/SST/SouthAfrica/\"\n",
    "figdir = \"/data/SST/SouthAfrica/figures\"\n",
    "visiblefile = \"/data/Visible/VIIRS_20170902.tiff\"\n",
    "datafilelist = sorted(glob.glob(os.path.join(datadir, \"*SST.nc\")))\n",
    "if not(os.path.exists(figdir)):\n",
    "    os.makedirs(figdir)"
   ]
  },
  {
   "cell_type": "code",
   "execution_count": 6,
   "metadata": {},
   "outputs": [],
   "source": [
    "visibleim = filament.Visible()\n",
    "visibleim.read_geotiff(visiblefile)"
   ]
  },
  {
   "cell_type": "code",
   "execution_count": 8,
   "metadata": {},
   "outputs": [],
   "source": [
    "coordinates = (7., 19., -35., -23.)"
   ]
  },
  {
   "cell_type": "code",
   "execution_count": 9,
   "metadata": {},
   "outputs": [],
   "source": [
    "m = Basemap(projection='merc', llcrnrlon=coordinates[0], llcrnrlat=coordinates[2],\n",
    "            urcrnrlon=coordinates[1], urcrnrlat=coordinates[3],\n",
    "            lat_ts=0.5 * (coordinates[2] + coordinates[3]), resolution='i')"
   ]
  },
  {
   "cell_type": "code",
   "execution_count": 21,
   "metadata": {},
   "outputs": [],
   "source": [
    "def make_plot_sst(sst, figname):\n",
    "    fig = plt.figure(figsize=(8, 8))\n",
    "    ax = plt.subplot(111)\n",
    "\n",
    "    # Background: visible image grey\n",
    "    m.pcolormesh(visibleim.lon, visibleim.lat, visibleim.image[:,:,0], latlon=True, \n",
    "             cmap=plt.cm.gray, zorder=1)\n",
    "    pcm = m.pcolormesh(sst.lon, sst.lat, sst.field, latlon=True,\n",
    "                 cmap=cmocean.cm.thermal, vmin=11., vmax=18., zorder=2)\n",
    "    cb = plt.colorbar(pcm, extend=\"both\")\n",
    "    cb.set_label(\"$^{\\circ}$C\", rotation=0, ha=\"left\")\n",
    "    m.drawcoastlines(linewidth=0.25)\n",
    "    #m.fillcontinents(zorder=4)\n",
    "    m.drawmeridians(np.arange(coordinates[0], coordinates[1], 3.), labels=(0,0,1,0), \n",
    "                    linewidth=.5, fontsize=14, zorder=3)\n",
    "    m.drawparallels(np.arange(coordinates[2], coordinates[3], 2.), labels=(1,0,0,0), \n",
    "                    linewidth=.5, fontsize=14, zorder=3)\n",
    "    plt.savefig(figname, dpi=300, bbox_inches=\"tight\")\n",
    "    # plt.show()\n",
    "    plt.close()"
   ]
  },
  {
   "cell_type": "code",
   "execution_count": 22,
   "metadata": {},
   "outputs": [],
   "source": [
    "for datafile in datafilelist[0:1]:\n",
    "    sst = filament.SST()\n",
    "    sst.read_from_oceancolorL2(datafile)\n",
    "    sst.field = np.ma.masked_where(sst.qflag > 1, sst.field)\n",
    "    titletext = sst.get_title()\n",
    "    figname = os.path.join(figdir, sst.get_figname())\n",
    "    make_plot_sst(sst, figname)"
   ]
  },
  {
   "cell_type": "code",
   "execution_count": null,
   "metadata": {},
   "outputs": [],
   "source": []
  }
 ],
 "metadata": {
  "@webio": {
   "lastCommId": "1DC51FC3342D43129E7009B821E4F676",
   "lastKernelId": "cf7fc121-7052-43c7-a4bc-24a2a3d53dd8"
  },
  "kernelspec": {
   "display_name": "Diva-python3.6",
   "language": "python",
   "name": "diva-python3.6"
  },
  "language_info": {
   "codemirror_mode": {
    "name": "ipython",
    "version": 3
   },
   "file_extension": ".py",
   "mimetype": "text/x-python",
   "name": "python",
   "nbconvert_exporter": "python",
   "pygments_lexer": "ipython3",
   "version": "3.6.0"
  }
 },
 "nbformat": 4,
 "nbformat_minor": 2
}
