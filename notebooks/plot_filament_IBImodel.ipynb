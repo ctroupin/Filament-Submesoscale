{
 "cells": [
  {
   "cell_type": "markdown",
   "metadata": {},
   "source": [
    "Plot the surface temperature field from the IBI model (CMEMS)"
   ]
  },
  {
   "cell_type": "code",
   "execution_count": 17,
   "metadata": {},
   "outputs": [],
   "source": [
    "import sys\n",
    "sys.path.insert(0, '..')\n",
    "import os\n",
    "import glob\n",
    "import netCDF4\n",
    "from filament import filament\n",
    "import datetime\n",
    "import cmocean\n",
    "import logging\n",
    "import numpy as np\n",
    "import matplotlib.pyplot as plt\n",
    "from importlib import reload\n",
    "import cartopy\n",
    "import cartopy.crs as ccrs\n",
    "import cartopy.feature as cfeature\n",
    "import cartopy.mpl.ticker as cartopyticker\n",
    "myproj = ccrs.PlateCarree()\n",
    "coast = cfeature.GSHHSFeature(scale=\"f\")\n",
    "plt.style.use(\"./filament.mplstyle\")"
   ]
  },
  {
   "cell_type": "code",
   "execution_count": 18,
   "metadata": {},
   "outputs": [],
   "source": [
    "logger = logging.getLogger(\"filamentIBIPlot\")\n",
    "logger.setLevel(logging.INFO)\n",
    "logging.info(\"Starting\")\n",
    "plotvis = 0"
   ]
  },
  {
   "cell_type": "code",
   "execution_count": 19,
   "metadata": {},
   "outputs": [
    {
     "name": "stderr",
     "output_type": "stream",
     "text": [
      "INFO:filamentIBIPlot:Processing 5 files\n"
     ]
    }
   ],
   "source": [
    "datadir = \"/home/ctroupin/data/CMEMS/IBI_ANALYSISFORECAST_PHY_005_001/\"\n",
    "figdir = \"../figures/currents\"\n",
    "if not(os.path.isdir(figdir)):\n",
    "    os.mkdir(figdir)\n",
    "\n",
    "datafilelist = sorted(glob.glob(os.path.join(datadir, \"*.nc\")))\n",
    "nfiles = len(datafilelist)\n",
    "logger.info(\"Processing {} files\".format(nfiles))\n",
    "canarydomain = (-18.5, -13., 26., 29.5)"
   ]
  },
  {
   "cell_type": "markdown",
   "metadata": {
    "collapsed": true
   },
   "source": [
    "## Load data"
   ]
  },
  {
   "cell_type": "code",
   "execution_count": null,
   "metadata": {},
   "outputs": [],
   "source": [
    "sst = filament.SST()\n",
    "sst.read_from_cmems(datafilelist[0], 0)"
   ]
  },
  {
   "cell_type": "code",
   "execution_count": null,
   "metadata": {},
   "outputs": [],
   "source": [
    "fig = plt.figure(figsize=(8, 6))\n",
    "ax = plt.subplot(111, projection=myproj)\n",
    "ax.pcolor(sst.lon, sst.lat, sst.field)\n",
    "plt.show()"
   ]
  },
  {
   "cell_type": "code",
   "execution_count": null,
   "metadata": {},
   "outputs": [],
   "source": [
    "fig = plt.figure(figsize=(8, 6))\n",
    "ax = plt.subplot(111, projection=myproj)\n",
    "#plt.title(\"CMEMS dataset-ibi-analysis-forecast-phys-005-001-hourly\")\n",
    "\n",
    "pcm, cb = sst.add_to_plot(fig, ax, canarydomain, cmap=plt.cm.RdYlBu_r,\n",
    "                    clim=[21., 24.], vis=False,\n",
    "                    cbarloc=[0.575, 0.275, 0.3, 0.02], alpha=1)\n",
    "sst.add_date(ax)\n",
    "cb.set_ticks(np.arange(21., 24.01, 0.5))\n",
    "ax.add_feature(coast, linewidth=.2, color=\".5\")\n",
    "filament.decorate_map(ax, canarydomain, np.arange(-20., -10., 2.), \n",
    "                      np.arange(25., 32., 1.))\n",
    "#plt.savefig(os.path.join(figdir, \"SST_CMEMS_20200608\"))\n",
    "plt.show()"
   ]
  },
  {
   "cell_type": "markdown",
   "metadata": {},
   "source": [
    "## Compare with SST from satellite"
   ]
  },
  {
   "cell_type": "code",
   "execution_count": null,
   "metadata": {},
   "outputs": [],
   "source": [
    "sstfile = \"/data/OceanColor/SNPP_VIIRS.20200608T140000.L2.SST.NRT.nc\"\n",
    "sstsat = filament.SST()\n",
    "sstsat.read_from_oceancolorL2(sstfile)\n",
    "sstsat.field = np.ma.masked_where(sstsat.qflag > 2, sstsat.field)"
   ]
  },
  {
   "cell_type": "code",
   "execution_count": null,
   "metadata": {},
   "outputs": [],
   "source": [
    "fig = plt.figure(figsize=(8, 6))\n",
    "ax = plt.subplot(111, projection=myproj)\n",
    "plt.title(\"SNPP VIIRS\")\n",
    "\n",
    "pcm, cb = sstsat.add_to_plot(fig, ax, canarydomain, cmap=plt.cm.RdYlBu_r,\n",
    "                    clim=[21., 24.], vis=False,\n",
    "                    cbarloc=[0.575, 0.275, 0.3, 0.02], alpha=1)\n",
    "sstsat.add_date(ax)\n",
    "cb.set_ticks(np.arange(21., 24.01, 0.5))\n",
    "ax.add_feature(coast, linewidth=.2, color=\".5\")\n",
    "filament.decorate_map(ax, canarydomain, np.arange(-20., -10., 2.), \n",
    "                      np.arange(25., 32., 1.))\n",
    "plt.savefig(os.path.join(figdir, \"SST_VIIRS_20200608\"))\n",
    "plt.show()\n",
    "plt.close()"
   ]
  },
  {
   "cell_type": "markdown",
   "metadata": {},
   "source": [
    "## Velocity field"
   ]
  },
  {
   "cell_type": "code",
   "execution_count": 37,
   "metadata": {},
   "outputs": [],
   "source": [
    "def read_velocity(datafile):\n",
    "    with netCDF4.Dataset(datafile) as nc:\n",
    "\n",
    "        lat = nc.variables[\"latitude\"][:]\n",
    "        lon = nc.variables[\"longitude\"][:]\n",
    "        time = nc.variables[\"time\"]\n",
    "        timeunits = time.units\n",
    "        dates = netCDF4.num2date(time[:], timeunits)\n",
    "        # depth = nc.variables[\"depth\"][:]\n",
    "        goodlon = np.where( (lon >= canarydomain[0]) & (lon <= canarydomain[1]) )[0]\n",
    "        goodlat = np.where( (lat >= canarydomain[2]) & (lat <= canarydomain[3]) )[0]\n",
    "        uvel = nc.variables[\"uo\"][:,0,goodlat,goodlon]\n",
    "        vvel = nc.variables[\"vo\"][:,0,goodlat,goodlon]\n",
    "        lon = lon[goodlon]\n",
    "        lat = lat[goodlat]\n",
    "\n",
    "    llon, llat = np.meshgrid(lon, lat)\n",
    "    return llon, llat, uvel, vvel, dates"
   ]
  },
  {
   "cell_type": "code",
   "execution_count": 38,
   "metadata": {},
   "outputs": [],
   "source": [
    "def plot_speed(lon, lat, u, v, date=None, NN=2, figname=None):\n",
    "    \n",
    "    datestring = date.strftime()\n",
    "    speed = np.sqrt(u * u + v * v)\n",
    "    \n",
    "    fig = plt.figure(figsize=(12, 10))\n",
    "    ax = plt.subplot(111, projection=myproj)\n",
    "    \n",
    "    if date is not None:\n",
    "        plt.title(f\"Surface currents on {datestring}\\n(CMEMS IBI model)\", fontsize=24)\n",
    "        \n",
    "    q = plt.quiver(lon[::NN,::NN], lat[::NN,::NN], u[::NN,::NN]/ speed[::NN,::NN], \n",
    "                   v[::NN,::NN]/ speed[::NN,::NN], \n",
    "               speed[::NN,::NN], cmap=cmocean.cm.speed, scale=100, width=.001)\n",
    "    ax.add_feature(coast, linewidth=.2, color=\".5\")\n",
    "    filament.decorate_map(ax, canarydomain, np.arange(-20., -10., 2.), \n",
    "                          np.arange(25., 32., 1.))\n",
    "    cb = plt.colorbar(extend=\"max\", shrink=.5)\n",
    "    cb.set_label(\"v (m/s)\", rotation=0, ha='left')\n",
    "    cb.set_ticks(np.arange(0., 0.501, 0.1))\n",
    "    plt.clim(0., 0.5)\n",
    "    if figname is not None:\n",
    "        plt.savefig(figname)\n",
    "    plt.close(fig)"
   ]
  },
  {
   "cell_type": "code",
   "execution_count": 39,
   "metadata": {},
   "outputs": [],
   "source": [
    "llon, llat, uvel, vvel, dates = read_velocity(datafilelist[0])"
   ]
  },
  {
   "cell_type": "code",
   "execution_count": 40,
   "metadata": {
    "scrolled": true
   },
   "outputs": [
    {
     "name": "stdout",
     "output_type": "stream",
     "text": [
      "0\n"
     ]
    },
    {
     "name": "stderr",
     "output_type": "stream",
     "text": [
      "/tmp/ipykernel_231813/1440231027.py:4: RuntimeWarning: invalid value encountered in sqrt\n",
      "  speed = np.sqrt(u * u + v * v)\n"
     ]
    }
   ],
   "source": [
    "fname1 = os.path.basename(datafilelist[0]).split(\".\")[0]\n",
    "for iid, ddd in enumerate(dates):\n",
    "    print(iid)\n",
    "    fname2 = ddd.strftime(\"%Y%m%d_%H%M%S\")\n",
    "    figname = os.path.join(figdir, \"_\".join((fname1, fname2)))\n",
    "    plot_speed(llon, llat, uvel[iid,:,:], vvel[iid,:,:], ddd, NN=1, figname=figname)"
   ]
  },
  {
   "cell_type": "code",
   "execution_count": 41,
   "metadata": {},
   "outputs": [
    {
     "data": {
      "text/plain": [
       "cftime.DatetimeGregorian(2023, 3, 21, 12, 0, 0, 0, has_year_zero=False)"
      ]
     },
     "execution_count": 41,
     "metadata": {},
     "output_type": "execute_result"
    }
   ],
   "source": [
    "ddd"
   ]
  },
  {
   "cell_type": "code",
   "execution_count": null,
   "metadata": {},
   "outputs": [],
   "source": []
  }
 ],
 "metadata": {
  "@webio": {
   "lastCommId": null,
   "lastKernelId": null
  },
  "kernelspec": {
   "display_name": "Filaments00",
   "language": "python",
   "name": "filaments"
  },
  "language_info": {
   "codemirror_mode": {
    "name": "ipython",
    "version": 3
   },
   "file_extension": ".py",
   "mimetype": "text/x-python",
   "name": "python",
   "nbconvert_exporter": "python",
   "pygments_lexer": "ipython3",
   "version": "3.10.5"
  }
 },
 "nbformat": 4,
 "nbformat_minor": 2
}
