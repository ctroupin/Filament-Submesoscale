{
 "cells": [
  {
   "cell_type": "markdown",
   "id": "655738d8",
   "metadata": {},
   "source": [
    "# Plot the land-surface temperature\n",
    "Data files (netCDF) are obtained from IMPA-PT"
   ]
  },
  {
   "cell_type": "code",
   "execution_count": 1,
   "id": "0f35a753",
   "metadata": {},
   "outputs": [
    {
     "data": {
      "image/png": "[encoded data removed]",
      "text/html": [
       "<div style=\"vertical-align: middle;\"><strong>RdYlBu_r</strong> </div><div class=\"cmap\"><img alt=\"RdYlBu_r colormap\" title=\"RdYlBu_r\" style=\"border: 1px solid #555;\" src=\"data:image/png;base64,iVBORw0KGgoAAAANSUhEUgAAAgAAAABACAYAAABsv8+/AAAAF3RFWHRUaXRsZQBSZFlsQnVfciBjb2xvcm1hcHXhWH4AAAAddEVYdERlc2NyaXB0aW9uAFJkWWxCdV9yIGNvbG9ybWFwXJ+/VwAAADB0RVh0QXV0aG9yAE1hdHBsb3RsaWIgdjMuNi4wLCBodHRwczovL21hdHBsb3RsaWIub3Jn4ahzAgAAADJ0RVh0U29mdHdhcmUATWF0cGxvdGxpYiB2My42LjAsIGh0dHBzOi8vbWF0cGxvdGxpYi5vcmfPDuwlAAACDElEQVR4nO3WQZKcIACGUcATZZOb5rhKFtGekoTWmPTqf29DIYh2V8/UV799/9FLKaW0WkoppR7jcp6Xpb1dP+altX9afz3v7r7Je7U2G3/tb8M50/3LcF+b3Dd97vn95vvG8/bnvb6OYb3++b7lYn28vtw8d/8Yr/X79+37j/V6PqdNrz/bt3z6/P17qGU7j/U8b3V9u1739fZ4/ZjfO+frvc7r5Rj7Pm7D/Lex39w3ntcv1ifP+cv36tuw/3LsH97/7L7+2r+P6/D51vH6eX7c19dtmH/m3Kv923r+XH3YP7u+Tfe9P2+bPefivOl923h+eTY+/fn853OOP6/93xkAkEQAAEAgAQAAgQQAAAQSAAAQSAAAQCABAACBBAAABBIAABBIAABAIAEAAIEEAAAEEgAAEEgAAEAgAQAAgQQAAAQSAAAQSAAAQCABAACBBAAABBIAABBIAABAIAEAAIEEAAAEEgAAEEgAAEAgAQAAgQQAAAQSAAAQSAAAQCABAACBBAAABBIAABBIAABAIAEAAIEEAAAEEgAAEEgAAEAgAQAAgQQAAAQSAAAQSAAAQCABAACBBAAABBIAABBIAABAIAEAAIEEAAAEEgAAEEgAAEAgAQAAgQQAAAQSAAAQSAAAQCABAACBBAAABBIAABBIAABAIAEAAIEEAAAEEgAAEEgAAEAgAQAAgX4C40o+WRoAarYAAAAASUVORK5CYII=\"></div><div style=\"vertical-align: middle; max-width: 514px; display: flex; justify-content: space-between;\"><div style=\"float: left;\"><div title=\"#313695ff\" style=\"display: inline-block; width: 1em; height: 1em; margin: 0; vertical-align: middle; border: 1px solid #555; background-color: #313695ff;\"></div> under</div><div style=\"margin: 0 auto; display: inline-block;\">bad <div title=\"#00000000\" style=\"display: inline-block; width: 1em; height: 1em; margin: 0; vertical-align: middle; border: 1px solid #555; background-color: #00000000;\"></div></div><div style=\"float: right;\">over <div title=\"#a50026ff\" style=\"display: inline-block; width: 1em; height: 1em; margin: 0; vertical-align: middle; border: 1px solid #555; background-color: #a50026ff;\"></div></div>"
      ],
      "text/plain": [
       "<matplotlib.colors.LinearSegmentedColormap at 0x772447b69cf0>"
      ]
     },
     "execution_count": 1,
     "metadata": {},
     "output_type": "execute_result"
    }
   ],
   "source": [
    "import sys\n",
    "sys.path.insert(0, '..')\n",
    "import os\n",
    "import glob\n",
    "from filament import filament\n",
    "import datetime\n",
    "import netCDF4\n",
    "import cmocean\n",
    "import logging\n",
    "import numpy as np\n",
    "import matplotlib.pyplot as plt\n",
    "from importlib import reload\n",
    "import cartopy.crs as ccrs\n",
    "import cartopy.mpl.ticker as cartopyticker\n",
    "reload(filament)\n",
    "plt.style.use(\"filament.mplstyle\")\n",
    "cmap = cmocean.cm.thermal\n",
    "cmap = plt.cm.RdYlBu_r\n",
    "cmap"
   ]
  },
  {
   "cell_type": "code",
   "execution_count": 2,
   "id": "daa75da3",
   "metadata": {},
   "outputs": [],
   "source": [
    "logger = logging.getLogger(\"filamentPlot\")\n",
    "logger.setLevel(logging.INFO)\n",
    "logging.info(\"Starting\")\n",
    "plotvis = 0"
   ]
  },
  {
   "cell_type": "markdown",
   "id": "9cf755cf",
   "metadata": {},
   "source": [
    "## Files and directories"
   ]
  },
  {
   "cell_type": "code",
   "execution_count": 6,
   "id": "95a6d721",
   "metadata": {},
   "outputs": [
    {
     "name": "stderr",
     "output_type": "stream",
     "text": [
      "INFO:filamentPlot:Processing 1 files\n"
     ]
    }
   ],
   "source": [
    "regionname= \"Canary\"\n",
    "\n",
    "datadir = f\"/home/ctroupin/data/LST/{regionname}/\"\n",
    "\n",
    "figdir = f\"../figures/LST/{regionname}/\"\n",
    "visibledir = \"/data/Visible/\"\n",
    "datafilelist = sorted(glob.glob(os.path.join(datadir, \"NETCDF4*20250809*.nc\")))\n",
    "\n",
    "nfiles = len(datafilelist)\n",
    "\n",
    "logger.info(\"Processing {} files\".format(nfiles))\n",
    "    \n",
    "domain = filament.regions[\"canarydomain\"]\n",
    "myproj = ccrs.Mercator(central_longitude=0.5 * (domain[0] + domain[1]), min_latitude=domain[2], \n",
    "                       max_latitude=domain[3])"
   ]
  },
  {
   "cell_type": "markdown",
   "id": "1c42c7c1",
   "metadata": {},
   "source": [
    "## Loop on files and make plots"
   ]
  },
  {
   "cell_type": "code",
   "execution_count": 8,
   "id": "2f829903",
   "metadata": {},
   "outputs": [],
   "source": [
    "for lstfile in datafilelist[0:1]:\n",
    "    \n",
    "    with netCDF4.Dataset(lstfile) as nc:\n",
    "        lon = nc.variables[\"lon\"][:]\n",
    "        lat = nc.variables[\"lat\"][:]\n",
    "        LST = nc.variables[\"LST-day\"][:]\n",
    "        thedate = netCDF4.num2date(nc.variables[\"time\"][0], nc.variables[\"time\"].units)\n",
    "        thedatestring = thedate.strftime('%Y-%m-%d')\n",
    "        \n",
    "    fig = plt.figure(figsize=(12, 10))\n",
    "    ax = plt.subplot(111, projection=myproj)\n",
    "    #ax.set_extent([-18.5, -13.0, 27.5, 29.5])\n",
    "    ax.set_extent([-15.9, -15.3, 27.7, 28.2])\n",
    "\n",
    "    ax.set_title(f\"Land surface temperature\\n{thedatestring}\", fontsize=24)\n",
    "\n",
    "    iii = 0\n",
    "    pcm = ax.pcolormesh(lon, lat, LST[0,:,:], cmap=cmap, vmin=25., vmax=45., \n",
    "                        transform=filament.datacrs, zorder=3)\n",
    "\n",
    "    cb = plt.colorbar(pcm, extend=\"both\", shrink=0.5)\n",
    "    cb.set_label(\"°C\", rotation=0, ha=\"left\")\n",
    "\n",
    "    iii = 0        \n",
    "    #vis.add_to_plot(ax, myproj)\n",
    "\n",
    "    ax.add_feature(filament.coast_f, linewidth=.2, color=\".85\", zorder=2)\n",
    "    gl = ax.gridlines(crs=ccrs.PlateCarree(), draw_labels=True,\n",
    "                  linewidth=.5, color='.25', linestyle='--', zorder=2)\n",
    "    gl.top_labels = False\n",
    "    gl.right_labels = False\n",
    "\n",
    "    figname = os.path.join(figdir, f\"LST_GranCanaria_{thedate.strftime('%Y%m%d')}.jpg\")\n",
    "    plt.savefig(figname, dpi=300, bbox_inches=\"tight\")\n",
    "    #plt.show()\n",
    "    plt.close(fig)"
   ]
  },
  {
   "cell_type": "code",
   "execution_count": null,
   "id": "99aa986e",
   "metadata": {},
   "outputs": [],
   "source": []
  }
 ],
 "metadata": {
  "kernelspec": {
   "display_name": "Filament",
   "language": "python",
   "name": "filament"
  },
  "language_info": {
   "codemirror_mode": {
    "name": "ipython",
    "version": 3
   },
   "file_extension": ".py",
   "mimetype": "text/x-python",
   "name": "python",
   "nbconvert_exporter": "python",
   "pygments_lexer": "ipython3",
   "version": "3.10.12"
  },
  "toc": {
   "base_numbering": 1,
   "nav_menu": {},
   "number_sections": true,
   "sideBar": true,
   "skip_h1_title": false,
   "title_cell": "Table of Contents",
   "title_sidebar": "Contents",
   "toc_cell": false,
   "toc_position": {},
   "toc_section_display": true,
   "toc_window_display": false
  }
 },
 "nbformat": 4,
 "nbformat_minor": 5
}
