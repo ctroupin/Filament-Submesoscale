{
 "cells": [
  {
   "cell_type": "code",
   "execution_count": 8,
   "metadata": {},
   "outputs": [],
   "source": [
    "import sys\n",
    "sys.path.insert(0, '..')\n",
    "import os\n",
    "import glob\n",
    "import numpy as np\n",
    "from filament import filament\n",
    "import datetime\n",
    "import cmocean\n",
    "import logging\n",
    "import netCDF4\n",
    "import numpy as np\n",
    "import matplotlib.pyplot as plt\n",
    "import matplotlib.colors as colors\n",
    "from mpl_toolkits.basemap import Basemap\n",
    "from importlib import reload"
   ]
  },
  {
   "cell_type": "code",
   "execution_count": 9,
   "metadata": {},
   "outputs": [],
   "source": [
    "from matplotlib.font_manager import FontProperties\n",
    "fa_dir = r\"/home/ctroupin/Downloads/fontawesome-free-5.0.13/use-on-desktop/\"\n",
    "fp1 = FontProperties(fname=os.path.join(fa_dir, \"Font Awesome 5 Free-Solid-900.otf\"))\n",
    "fontfile = \"/home/ctroupin/.fonts/D-DIN.ttf\"\n",
    "myfont = FontProperties(fname=fontfile)"
   ]
  },
  {
   "cell_type": "code",
   "execution_count": 10,
   "metadata": {},
   "outputs": [],
   "source": [
    "m = Basemap(projection='ortho',lon_0=-152.,lat_0=10,resolution='c')\n",
    "mpol = Basemap(projection='npstere', boundinglat=60, lon_0=0, resolution='l')\n",
    "mpol2 = Basemap(projection='npstere', boundinglat=-60, lon_0=0, resolution='l')"
   ]
  },
  {
   "cell_type": "code",
   "execution_count": 11,
   "metadata": {},
   "outputs": [
    {
     "data": {
      "text/plain": [
       "True"
      ]
     },
     "execution_count": 11,
     "metadata": {},
     "output_type": "execute_result"
    }
   ],
   "source": [
    "datafile = \"/data/SST/CapeGhir/T20001732018263.L3m_SCSU_NSST_sst_4km.nc\"\n",
    "datafile = \"/data/OceanColor/yearly/TERRA_MODIS.20190101_20191231.L3m.YR.SST4.sst4.4km.nc\"\n",
    "figdir = \"../figures/SST/\"\n",
    "os.path.exists(datafile)"
   ]
  },
  {
   "cell_type": "code",
   "execution_count": 12,
   "metadata": {},
   "outputs": [],
   "source": [
    "sstglobal = filament.SST()\n",
    "sstglobal.read_from_oceancolorL3(datafile)"
   ]
  },
  {
   "cell_type": "markdown",
   "metadata": {},
   "source": [
    "### Projection"
   ]
  },
  {
   "cell_type": "code",
   "execution_count": 13,
   "metadata": {},
   "outputs": [],
   "source": [
    "llon, llat = np.meshgrid(sstglobal.lon, sstglobal.lat)\n",
    "lonp, latp = m(llon, llat)\n",
    "lonp[lonp==lonp.max()] = np.nan\n",
    "latp[latp==latp.max()] = np.nan"
   ]
  },
  {
   "cell_type": "markdown",
   "metadata": {},
   "source": [
    "Find max SST"
   ]
  },
  {
   "cell_type": "code",
   "execution_count": 93,
   "metadata": {},
   "outputs": [
    {
     "data": {
      "text/plain": [
       "(1581, 1335)"
      ]
     },
     "execution_count": 93,
     "metadata": {},
     "output_type": "execute_result"
    }
   ],
   "source": [
    "maxsst = sstglobal.field.max()\n",
    "indsst = np.where(sstglobal.field==maxsst)\n",
    "indlon = indsst[1][0]\n",
    "indlat = indsst[0][0]\n",
    "indlon, indlat"
   ]
  },
  {
   "cell_type": "code",
   "execution_count": 14,
   "metadata": {},
   "outputs": [
    {
     "ename": "NameError",
     "evalue": "name 'indlat' is not defined",
     "output_type": "error",
     "traceback": [
      "\u001b[0;31m---------------------------------------------------------------------------\u001b[0m",
      "\u001b[0;31mNameError\u001b[0m                                 Traceback (most recent call last)",
      "\u001b[0;32m<ipython-input-14-0f56141936e0>\u001b[0m in \u001b[0;36m<module>\u001b[0;34m()\u001b[0m\n\u001b[1;32m      6\u001b[0m \u001b[0;34m\u001b[0m\u001b[0m\n\u001b[1;32m      7\u001b[0m \u001b[0;34m\u001b[0m\u001b[0m\n\u001b[0;32m----> 8\u001b[0;31m t1 = plt.text(lonp[indlat, indlon], latp[indlat, indlon], \"\\uf3c5\", \n\u001b[0m\u001b[1;32m      9\u001b[0m             \u001b[0mfontproperties\u001b[0m\u001b[0;34m=\u001b[0m\u001b[0mfp1\u001b[0m\u001b[0;34m,\u001b[0m\u001b[0;34m\u001b[0m\u001b[0m\n\u001b[1;32m     10\u001b[0m             fontsize=18, ha=\"center\", va=\"bottom\", zorder=7, color=\"w\")\n",
      "\u001b[0;31mNameError\u001b[0m: name 'indlat' is not defined"
     ]
    }
   ],
   "source": [
    "NN = 10\n",
    "fig = plt.figure(figsize=(10, 10))\n",
    "m.drawcoastlines(linewidth=.2)\n",
    "m.pcolormesh(lonp[::NN], latp[::NN], sstglobal.field[::NN], \n",
    "             zorder=3, vmin=5., vmax=33., cmap=plt.cm.RdYlBu_r)\n",
    "\n",
    "\n",
    "t1 = plt.text(lonp[indlat, indlon], latp[indlat, indlon], \"\\uf3c5\", \n",
    "            fontproperties=fp1,\n",
    "            fontsize=18, ha=\"center\", va=\"bottom\", zorder=7, color=\"w\")\n",
    "\n",
    "# m.fillcontinents(color='grey')\n",
    "cb = plt.colorbar(extend=\"both\", shrink=.7)\n",
    "cb.set_label(\"$^{\\circ}$C\", rotation=0, ha=\"left\")\n",
    "m.warpimage(\"world.topo.bathy.200403.3x5400x2700.jpg\", zorder=2)\n",
    "m.drawcoastlines()\n",
    "#plt.savefig(os.path.join(figdir, \"SST_2019_max\"), dpi=300, bbox_inches=\"tight\")\n",
    "plt.show()\n",
    "plt.close()"
   ]
  },
  {
   "cell_type": "markdown",
   "metadata": {},
   "source": [
    "## Zoom on the warmer region"
   ]
  },
  {
   "cell_type": "code",
   "execution_count": 102,
   "metadata": {},
   "outputs": [],
   "source": [
    "mz = Basemap(epsg=4326,\n",
    "            llcrnrlon=sstglobal.lon[indlon] - 4., llcrnrlat=sstglobal.lat[indlat] - 4.,\n",
    "            urcrnrlon=sstglobal.lon[indlon] + 4., urcrnrlat=sstglobal.lat[indlat] + 4.,\n",
    "            lat_ts=sstglobal.lat[indlat], resolution='f')"
   ]
  },
  {
   "cell_type": "code",
   "execution_count": 103,
   "metadata": {},
   "outputs": [],
   "source": [
    "lonp2, latp2 = mz(llon, llat)\n",
    "#lonp2[lonp2==lonp2.max()] = np.nan\n",
    "#latp2[latp2==latp2.max()] = np.nan"
   ]
  },
  {
   "cell_type": "code",
   "execution_count": 104,
   "metadata": {},
   "outputs": [
    {
     "data": {
      "image/png": "[encoded data removed]",
      "text/plain": [
       "<matplotlib.figure.Figure at 0x7fc7b1605780>"
      ]
     },
     "metadata": {},
     "output_type": "display_data"
    }
   ],
   "source": [
    "NN = 1\n",
    "fig = plt.figure(figsize=(10, 10))\n",
    "mz.drawcoastlines(linewidth=.2, zorder=5)\n",
    "mz.fillcontinents()\n",
    "mz.pcolormesh(lonp2[::NN], latp2[::NN], sstglobal.field[::NN], \n",
    "             zorder=3, vmin=5., vmax=33., cmap=plt.cm.RdYlBu_r)\n",
    "\n",
    "t1 = plt.text(lonp2[indlat, indlon], latp2[indlat, indlon], \"\\uf3c5\", \n",
    "            fontproperties=fp1,\n",
    "            fontsize=18, ha=\"center\", va=\"bottom\", zorder=7, color=\"w\")\n",
    "plt.savefig(os.path.join(figdir, \"SST_2019_max2\"), dpi=300, bbox_inches=\"tight\")\n",
    "\n",
    "plt.show()\n",
    "plt.close()"
   ]
  },
  {
   "cell_type": "code",
   "execution_count": 100,
   "metadata": {},
   "outputs": [],
   "source": [
    "mz.is_land?"
   ]
  },
  {
   "cell_type": "code",
   "execution_count": null,
   "metadata": {},
   "outputs": [],
   "source": []
  }
 ],
 "metadata": {
  "@webio": {
   "lastCommId": "D5129C121EE24C28AE4079D549C71D37",
   "lastKernelId": "ad7d1170-f70d-489a-8e7e-5d258d867a00"
  },
  "kernelspec": {
   "display_name": "Diva-python3.6",
   "language": "python",
   "name": "diva-python3.6"
  },
  "language_info": {
   "codemirror_mode": {
    "name": "ipython",
    "version": 3
   },
   "file_extension": ".py",
   "mimetype": "text/x-python",
   "name": "python",
   "nbconvert_exporter": "python",
   "pygments_lexer": "ipython3",
   "version": "3.6.0"
  }
 },
 "nbformat": 4,
 "nbformat_minor": 2
}
