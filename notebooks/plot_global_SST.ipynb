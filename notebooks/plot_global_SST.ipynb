{
 "cells": [
  {
   "cell_type": "code",
   "execution_count": 10,
   "metadata": {},
   "outputs": [],
   "source": [
    "import sys\n",
    "sys.path.insert(0, '..')\n",
    "import os\n",
    "import glob\n",
    "import numpy as np\n",
    "from filament import filament\n",
    "import datetime\n",
    "import cmocean\n",
    "import logging\n",
    "import netCDF4\n",
    "import numpy as np\n",
    "import matplotlib.pyplot as plt\n",
    "import matplotlib.colors as colors\n",
    "from mpl_toolkits.basemap import Basemap\n",
    "from importlib import reload"
   ]
  },
  {
   "cell_type": "code",
   "execution_count": 11,
   "metadata": {},
   "outputs": [],
   "source": [
    "m = Basemap(projection='ortho',lon_0=-52.,lat_0=10,resolution='c')\n",
    "mpol = Basemap(projection='npstere', boundinglat=60, lon_0=0, resolution='l')\n",
    "mpol2 = Basemap(projection='npstere', boundinglat=-60, lon_0=0, resolution='l')"
   ]
  },
  {
   "cell_type": "code",
   "execution_count": 17,
   "metadata": {},
   "outputs": [
    {
     "data": {
      "text/plain": [
       "True"
      ]
     },
     "execution_count": 17,
     "metadata": {},
     "output_type": "execute_result"
    }
   ],
   "source": [
    "datafile = \"/data/SST/CapeGhir/T20001732018263.L3m_SCSU_NSST_sst_4km.nc\"\n",
    "figdir = \"../figures/SST/\"\n",
    "os.path.exists(datafile)"
   ]
  },
  {
   "cell_type": "code",
   "execution_count": 7,
   "metadata": {},
   "outputs": [],
   "source": [
    "sstglobal = filament.SST()\n",
    "sstglobal.read_from_oceancolorL3(datafile)"
   ]
  },
  {
   "cell_type": "markdown",
   "metadata": {},
   "source": [
    "### Projection"
   ]
  },
  {
   "cell_type": "code",
   "execution_count": 9,
   "metadata": {},
   "outputs": [],
   "source": [
    "llon, llat = np.meshgrid(sstglobal.lon, sstglobal.lat)\n",
    "lonp, latp = m(llon, llat)\n",
    "lonp[lonp==lonp.max()] = np.nan\n",
    "latp[latp==latp.max()] = np.nan"
   ]
  },
  {
   "cell_type": "code",
   "execution_count": 19,
   "metadata": {},
   "outputs": [],
   "source": [
    "NN = 1\n",
    "fig = plt.figure(figsize=(10, 10))\n",
    "m.drawcoastlines(linewidth=.2)\n",
    "m.pcolormesh(lonp[::NN], latp[::NN], sstglobal.field[::NN], \n",
    "             zorder=3, vmin=5., vmax=27., cmap=plt.cm.RdYlBu_r)\n",
    "# m.fillcontinents(color='grey')\n",
    "plt.colorbar(extend=\"both\", shrink=.7)\n",
    "m.warpimage(\"world.topo.bathy.200403.3x5400x2700.jpg\", zorder=2)\n",
    "m.drawcoastlines()\n",
    "plt.savefig(os.path.join(figdir, \"SST_summer_2018\"), dpi=300, bbox_inches=\"tight\")\n",
    "#plt.show()\n",
    "plt.close()"
   ]
  }
 ],
 "metadata": {
  "@webio": {
   "lastCommId": "D5129C121EE24C28AE4079D549C71D37",
   "lastKernelId": "ad7d1170-f70d-489a-8e7e-5d258d867a00"
  },
  "kernelspec": {
   "display_name": "Diva-python3.6",
   "language": "python",
   "name": "diva-python3.6"
  },
  "language_info": {
   "codemirror_mode": {
    "name": "ipython",
    "version": 3
   },
   "file_extension": ".py",
   "mimetype": "text/x-python",
   "name": "python",
   "nbconvert_exporter": "python",
   "pygments_lexer": "ipython3",
   "version": "3.6.0"
  }
 },
 "nbformat": 4,
 "nbformat_minor": 2
}
