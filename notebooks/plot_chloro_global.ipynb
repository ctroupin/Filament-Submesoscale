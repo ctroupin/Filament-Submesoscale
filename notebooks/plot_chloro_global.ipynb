{
 "cells": [
  {
   "cell_type": "markdown",
   "metadata": {},
   "source": [
    "# Chlorophyll concentration\n",
    "Data downloaded from OceanColor."
   ]
  },
  {
   "cell_type": "code",
   "execution_count": 1,
   "metadata": {},
   "outputs": [],
   "source": [
    "import sys\n",
    "sys.path.insert(0, '..')\n",
    "import os\n",
    "import numpy as np\n",
    "from filament import filament\n",
    "import datetime\n",
    "import cmocean\n",
    "import logging\n",
    "import netCDF4\n",
    "import numpy as np\n",
    "import matplotlib.pyplot as plt\n",
    "import matplotlib.colors as colors\n",
    "import matplotlib as mpl\n",
    "from mpl_toolkits.basemap import Basemap\n",
    "from matplotlib.collections import PathCollection\n",
    "from matplotlib.path import Path\n",
    "from importlib import reload\n",
    "reload(filament)\n",
    "plt.rcParams.update({'font.size': 18})"
   ]
  },
  {
   "cell_type": "code",
   "execution_count": 2,
   "metadata": {},
   "outputs": [],
   "source": [
    "from matplotlib.font_manager import FontProperties\n",
    "fontfile = \"/home/ctroupin/.fonts/D-DIN.ttf\"\n",
    "myfont = FontProperties(fname=fontfile)"
   ]
  },
  {
   "cell_type": "markdown",
   "metadata": {},
   "source": [
    "## Logger"
   ]
  },
  {
   "cell_type": "code",
   "execution_count": 3,
   "metadata": {},
   "outputs": [],
   "source": [
    "logger = logging.getLogger(\"SSTanom\")\n",
    "logger.setLevel(logging.INFO)\n",
    "logging.info(\"Starting\")"
   ]
  },
  {
   "cell_type": "markdown",
   "metadata": {},
   "source": [
    "## Files and directories"
   ]
  },
  {
   "cell_type": "code",
   "execution_count": 4,
   "metadata": {},
   "outputs": [],
   "source": [
    "figdir = \"../figures/\"\n",
    "datafile = \"/data/Chloro/T20000552020182.L3m_CU_CHL_chlor_a_9km.nc\"\n",
    "if not os.path.exists(figdir):\n",
    "    os.makedirs(figdir)\n",
    "bgcolor = \"white\"\n",
    "fgcolor = \"black\""
   ]
  },
  {
   "cell_type": "markdown",
   "metadata": {},
   "source": [
    "## Data reading"
   ]
  },
  {
   "cell_type": "code",
   "execution_count": 6,
   "metadata": {},
   "outputs": [],
   "source": [
    "def load_chloro(datafile):\n",
    "    with netCDF4.Dataset(datafile) as nc:\n",
    "        lat = nc.variables[\"lat\"][:]\n",
    "        lon = nc.variables[\"lon\"][:]\n",
    "        chlor = nc.variables[\"chlor_a\"][:]\n",
    "    \n",
    "        \n",
    "    return lon, lat, chlor\n",
    "\n",
    "lon, lat, chloro = load_chloro(datafile)"
   ]
  },
  {
   "cell_type": "markdown",
   "metadata": {},
   "source": [
    "## Plot preparation\n",
    "### Projection"
   ]
  },
  {
   "cell_type": "code",
   "execution_count": 7,
   "metadata": {},
   "outputs": [],
   "source": [
    "m = Basemap(projection='ortho', lon_0=-52., lat_0=10, resolution='c')\n",
    "#m = Basemap(projection='robin',resolution='i',lat_0=0,lon_0=0)\n",
    "llon, llat = np.meshgrid(lon, lat)\n",
    "lonp, latp = m(llon, llat)\n",
    "lonp[lonp==lonp.max()] = np.nan\n",
    "latp[latp==latp.max()] = np.nan"
   ]
  },
  {
   "cell_type": "code",
   "execution_count": 11,
   "metadata": {},
   "outputs": [
    {
     "data": {
      "text/plain": [
       "0.009474931"
      ]
     },
     "execution_count": 11,
     "metadata": {},
     "output_type": "execute_result"
    }
   ],
   "source": [
    "np.nanmin(chloro)"
   ]
  },
  {
   "cell_type": "markdown",
   "metadata": {},
   "source": [
    "## Plot"
   ]
  },
  {
   "cell_type": "code",
   "execution_count": 14,
   "metadata": {},
   "outputs": [
    {
     "name": "stderr",
     "output_type": "stream",
     "text": [
      "INFO:SSTanom:Saving figure\n"
     ]
    },
    {
     "data": {
      "text/plain": [
       "<Figure size 432x288 with 0 Axes>"
      ]
     },
     "metadata": {},
     "output_type": "display_data"
    }
   ],
   "source": [
    "plt.close(\"all\")\n",
    "plt.clf()\n",
    "vmin = 0.0\n",
    "vmax = 2.\n",
    "normanom = mpl.colors.Normalize(vmin=vmin, vmax=vmax)\n",
    "#normanom = mpl.colors.LogNorm(vmin=vmin, vmax=vmax)\n",
    "                    \n",
    "figtitle = \"Mean chlorophyll concentration\\n(2000-2020)\"\n",
    "\n",
    "\n",
    "fig = plt.figure(figsize=(10, 7))\n",
    "\n",
    "ax = plt.gca()\n",
    "plt.title(figtitle)\n",
    "\n",
    "pcm = m.pcolor(lonp, latp, chloro, norm=normanom,\n",
    "                   cmap=cmocean.cm.haline, vmin=vmin, vmax=vmax, zorder=2)\n",
    "\n",
    "m.drawmapboundary(\n",
    "color='w',\n",
    "linewidth=1.0,\n",
    "fill_color='none', zorder=2)\n",
    "\n",
    "cb = plt.colorbar(pcm, shrink=.6,\n",
    "             orientation='horizontal', extend=\"max\", pad=0.05)\n",
    "\n",
    "cb.set_label(\"mg m$^{-3}$\", fontsize=18, color=fgcolor)\n",
    "cb.ax.tick_params(axis='x', colors=fgcolor)\n",
    "\n",
    "\n",
    "#pcm, cb = make_monthly_subplot(m, lonp, latp, Tanom[ii,:,:], NN=1, fgcolor=fgcolor)\n",
    "\n",
    "m.drawcoastlines(ax=ax, color=\".25\", linewidth=.25)\n",
    "m.fillcontinents(ax=ax, color=\".75\")\n",
    "\n",
    "logger.info(\"Saving figure\")\n",
    "\n",
    "\n",
    "plt.savefig(os.path.join(figdir, \"choro_MODIS_Terra6.jpg\"), \n",
    "            facecolor=fig.get_facecolor(),\n",
    "            dpi=300, bbox_inches=\"tight\")\n",
    "\n",
    "# plt.show()\n",
    "ax.cla()\n",
    "plt.close()   \n",
    "fig.clf()"
   ]
  },
  {
   "cell_type": "code",
   "execution_count": null,
   "metadata": {},
   "outputs": [],
   "source": []
  }
 ],
 "metadata": {
  "@webio": {
   "lastCommId": null,
   "lastKernelId": null
  },
  "kernelspec": {
   "display_name": "Filament",
   "language": "python",
   "name": "filament3.8"
  },
  "language_info": {
   "codemirror_mode": {
    "name": "ipython",
    "version": 3
   },
   "file_extension": ".py",
   "mimetype": "text/x-python",
   "name": "python",
   "nbconvert_exporter": "python",
   "pygments_lexer": "ipython3",
   "version": "3.8.0"
  }
 },
 "nbformat": 4,
 "nbformat_minor": 2
}
