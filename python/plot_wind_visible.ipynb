{
 "cells": [
  {
   "cell_type": "markdown",
   "metadata": {},
   "source": [
    "In this notebook we create few plots of wind intensity measured by satellite, with a particular interest on the Canary Islands, which frequently generate the so-called *von Karman* vortex street."
   ]
  },
  {
   "cell_type": "code",
   "execution_count": 1,
   "metadata": {},
   "outputs": [
    {
     "data": {
      "text/plain": [
       "<module 'windplot' from '/home/ctroupin/Projects/FNRS-UpwellingFilaments/Filament-Submesoscale/python/windplot.py'>"
      ]
     },
     "execution_count": 1,
     "metadata": {},
     "output_type": "execute_result"
    }
   ],
   "source": [
    "import datetime\n",
    "import re\n",
    "import os\n",
    "import numpy as np\n",
    "import matplotlib.pyplot as plt\n",
    "import windplot\n",
    "import datareading\n",
    "import logging\n",
    "import copy\n",
    "from importlib import reload\n",
    "reload(windplot)"
   ]
  },
  {
   "cell_type": "code",
   "execution_count": 2,
   "metadata": {},
   "outputs": [
    {
     "name": "stderr",
     "output_type": "stream",
     "text": [
      "INFO:root:Starting\n"
     ]
    }
   ],
   "source": [
    "logger = logging.getLogger()\n",
    "logger.setLevel(logging.INFO)\n",
    "logging.info(\"Starting\")"
   ]
  },
  {
   "cell_type": "markdown",
   "metadata": {},
   "source": [
    "## Input parameters\n",
    "We set the date of interest and the domain coordinates are taken from the geoTIFF file."
   ]
  },
  {
   "cell_type": "code",
   "execution_count": 3,
   "metadata": {},
   "outputs": [
    {
     "data": {
      "text/plain": [
       "True"
      ]
     },
     "execution_count": 3,
     "metadata": {},
     "output_type": "execute_result"
    }
   ],
   "source": [
    "year, month, day = 2019, 12, 5\n",
    "figdir = \"./figures/\"\n",
    "visibledir = \"/data/Wind/visible/\"\n",
    "os.path.isdir(visibledir)"
   ]
  },
  {
   "cell_type": "markdown",
   "metadata": {},
   "source": [
    "## Data"
   ]
  },
  {
   "cell_type": "code",
   "execution_count": 4,
   "metadata": {},
   "outputs": [],
   "source": [
    "datewind = datetime.datetime(year, month, day)\n",
    "dayofyear = datewind.timetuple().tm_yday"
   ]
  },
  {
   "cell_type": "markdown",
   "metadata": {},
   "source": [
    "### Visible image"
   ]
  },
  {
   "cell_type": "code",
   "execution_count": 5,
   "metadata": {},
   "outputs": [
    {
     "name": "stdout",
     "output_type": "stream",
     "text": [
      "Reading geoTIFF file snapshot-2019-12-05T00_00_00Z.tiff\n"
     ]
    }
   ],
   "source": [
    "visibleim = datewind.strftime(\"snapshot-%Y-%m-%dT00_00_00Z.tiff\")\n",
    "#visibleim = datewind.strftime(\"Sentinel-3_OLCI_%Y-%m-%d.tiff\")\n",
    "#visibleim = datewind.strftime(\"Sentinel-2_L1C_%Y-%m-%d.tiff\")\n",
    "#visibleim = datewind.strftime(\"Terra-%Y-%m-%dT00_00_00Z.tiff\")\n",
    "if os.path.exists(os.path.join(visibledir, visibleim)):\n",
    "    print(\"Reading geoTIFF file {}\".format(visibleim))\n",
    "    lonvis, latvis, arr, inproj, extent = datareading.read_geotiff(os.path.join(visibledir, visibleim))"
   ]
  },
  {
   "cell_type": "code",
   "execution_count": 6,
   "metadata": {},
   "outputs": [],
   "source": [
    "extent2 = copy.deepcopy(extent)\n",
    "extent2[0] -= 360.\n",
    "extent2[1] -= 360."
   ]
  },
  {
   "cell_type": "markdown",
   "metadata": {},
   "source": [
    "### Scatterometer wind\n",
    "The wind (netCDF) are read from the JPL OPEnDAP server.      \n",
    "The files are sorted by years and days of year."
   ]
  },
  {
   "cell_type": "markdown",
   "metadata": {},
   "source": [
    "With these pieces of information we can create two lists of files (one for MetOp-A, one for MetOp-A)."
   ]
  },
  {
   "cell_type": "code",
   "execution_count": 7,
   "metadata": {},
   "outputs": [
    {
     "name": "stderr",
     "output_type": "stream",
     "text": [
      "INFO:windplot:Found 29 files\n"
     ]
    }
   ],
   "source": [
    "filelist1 = windplot.get_filelist_url(year, dayofyear)"
   ]
  },
  {
   "cell_type": "code",
   "execution_count": 11,
   "metadata": {},
   "outputs": [
    {
     "data": {
      "text/plain": [
       "['https://opendap.jpl.nasa.gov:443/opendap/OceanWinds/ascat/preview/L2/metop_a/coastal_opt/2019/339/ascat_20191205_090600_metopa_68118_eps_o_coa_3202_ovw.l2.nc.gz']"
      ]
     },
     "execution_count": 11,
     "metadata": {},
     "output_type": "execute_result"
    }
   ],
   "source": [
    "filename = \"ascat_20191205_090600_metopa_68118_eps_o_coa_3202\"\n",
    "filelistshort = [f for f in filelist1 if filename in f]\n",
    "filelistshort"
   ]
  },
  {
   "cell_type": "code",
   "execution_count": 19,
   "metadata": {
    "scrolled": true
   },
   "outputs": [
    {
     "name": "stderr",
     "output_type": "stream",
     "text": [
      "INFO:root:Starting\n",
      "INFO:root:Working on https://opendap.jpl.nasa.gov:443/opendap/OceanWinds/ascat/preview/L2/metop_a/coastal_opt/2019/339/ascat_20191205_090600_metopa_68118_eps_o_coa_3202_ovw.l2.nc.gz\n",
      "INFO:windplot:Subsetting data to region of interest\n",
      "INFO:root:Saving figure as viirs-ascat_20191205_090600_metopa_68118_eps_o_coa_3202_ovw\n"
     ]
    }
   ],
   "source": [
    "reload(windplot)\n",
    "for ifile, dataurl in enumerate(filelistshort):\n",
    "\n",
    "    logger.info(\"Working on {}\".format(dataurl))\n",
    "    lon, lat, uwind, vwind, windspeed = windplot.read_data_domain(dataurl, extent)\n",
    "\n",
    "    if lon is not None:    \n",
    "        mm = str(month).zfill(2)\n",
    "        dd = str(day).zfill(2)\n",
    "        \n",
    "        fname = \"\".join((\"viirs-\", dataurl.split(\"/\")[-1].split(\".\")[0]))\n",
    "        logger.info(\"Saving figure as {}\".format(fname))\n",
    "        figname = os.path.join(figdir, fname)\n",
    "        windplot.plot_wind_sat(lon, lat, uwind, vwind, windspeed, arr, extent, figname,\n",
    "                               cmap=plt.cm.hot_r, clim=[5, 15], \n",
    "                               date=\"{}-{}-{}\".format(year, mm, dd))"
   ]
  },
  {
   "cell_type": "code",
   "execution_count": null,
   "metadata": {},
   "outputs": [],
   "source": []
  }
 ],
 "metadata": {
  "@webio": {
   "lastCommId": null,
   "lastKernelId": null
  },
  "kernelspec": {
   "display_name": "Diva-python3.6",
   "language": "python",
   "name": "diva-python3.6"
  },
  "language_info": {
   "codemirror_mode": {
    "name": "ipython",
    "version": 3
   },
   "file_extension": ".py",
   "mimetype": "text/x-python",
   "name": "python",
   "nbconvert_exporter": "python",
   "pygments_lexer": "ipython3",
   "version": "3.6.0"
  }
 },
 "nbformat": 4,
 "nbformat_minor": 2
}
