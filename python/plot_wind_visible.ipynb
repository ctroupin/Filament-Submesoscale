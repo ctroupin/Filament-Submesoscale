{
 "cells": [
  {
   "cell_type": "markdown",
   "metadata": {},
   "source": [
    "In this notebook we create few plots of wind intensity measured by satellite, with a particular interest on the Canary Islands, which frequently generate the so-called *von Karman* vortex street."
   ]
  },
  {
   "cell_type": "code",
   "execution_count": 1,
   "metadata": {},
   "outputs": [
    {
     "data": {
      "text/plain": [
       "<module 'filament' from '/home/ctroupin/Projects/FNRS-UpwellingFilaments/Filament-Submesoscale/python/filament.py'>"
      ]
     },
     "execution_count": 1,
     "metadata": {},
     "output_type": "execute_result"
    }
   ],
   "source": [
    "import datetime\n",
    "import re\n",
    "import os\n",
    "import glob\n",
    "import numpy as np\n",
    "import matplotlib.pyplot as plt\n",
    "import filament\n",
    "import logging\n",
    "import copy\n",
    "import cartopy\n",
    "import cartopy.crs as ccrs\n",
    "import cartopy.feature as cfeature\n",
    "import cartopy.mpl.ticker as cartopyticker\n",
    "myproj = ccrs.PlateCarree()\n",
    "coast = cfeature.GSHHSFeature(scale=\"f\")\n",
    "from importlib import reload\n",
    "reload(filament)"
   ]
  },
  {
   "cell_type": "code",
   "execution_count": 2,
   "metadata": {},
   "outputs": [
    {
     "name": "stderr",
     "output_type": "stream",
     "text": [
      "INFO:root:Starting\n"
     ]
    }
   ],
   "source": [
    "logger = logging.getLogger()\n",
    "logger.setLevel(logging.INFO)\n",
    "logging.info(\"Starting\")"
   ]
  },
  {
   "cell_type": "markdown",
   "metadata": {},
   "source": [
    "## Input parameters\n",
    "We set the date of interest and the domain coordinates are taken from the geoTIFF file."
   ]
  },
  {
   "cell_type": "code",
   "execution_count": 3,
   "metadata": {},
   "outputs": [],
   "source": [
    "year, month, day = 2020, 6, 8\n",
    "figdir = \"../figures/wind/Canary/\"\n",
    "visibledir = \"/data/Visible/\"\n",
    "#satellite = \"VIIRS\"\n",
    "satellite = \"TERRA\"\n",
    "satellite = \"AQUA\"\n",
    "os.path.isdir(visibledir)\n",
    "if not(os.path.exists(figdir)):\n",
    "    os.mkdir(figdir)"
   ]
  },
  {
   "cell_type": "markdown",
   "metadata": {},
   "source": [
    "## Data"
   ]
  },
  {
   "cell_type": "code",
   "execution_count": 4,
   "metadata": {},
   "outputs": [],
   "source": [
    "datewind = datetime.datetime(year, month, day)\n",
    "dayofyear = datewind.timetuple().tm_yday"
   ]
  },
  {
   "cell_type": "markdown",
   "metadata": {},
   "source": [
    "### Visible image"
   ]
  },
  {
   "cell_type": "code",
   "execution_count": 5,
   "metadata": {},
   "outputs": [
    {
     "name": "stdout",
     "output_type": "stream",
     "text": [
      "Reading geoTIFF file AQUA-2020-06-08T00_00_00Z.tiff\n"
     ]
    }
   ],
   "source": [
    "visibleim = datewind.strftime(\"{}-%Y-%m-%dT00_00_00Z.tiff\".format(satellite))\n",
    "#visibleim = datewind.strftime(\"Sentinel-3_OLCI_%Y-%m-%d.tiff\")\n",
    "#visibleim = datewind.strftime(\"Sentinel-2_L1C_%Y-%m-%d.tiff\")\n",
    "#visibleim = datewind.strftime(\"AQUA-%Y-%m-%dT00_00_00Z.tiff\")\n",
    "\n",
    "if os.path.exists(os.path.join(visibledir, visibleim)):\n",
    "    print(\"Reading geoTIFF file {}\".format(visibleim))\n",
    "    vis = filament.Visible()\n",
    "    vis.read_geotiff(os.path.join(visibledir, visibleim))\n",
    "else:\n",
    "    logger.warning(\"No visible image, specify domain coordinates\")"
   ]
  },
  {
   "cell_type": "code",
   "execution_count": 6,
   "metadata": {},
   "outputs": [],
   "source": [
    "extent2 = copy.deepcopy(vis.extent)\n",
    "extent2[0] -= 360.\n",
    "extent2[1] -= 360."
   ]
  },
  {
   "cell_type": "markdown",
   "metadata": {},
   "source": [
    "### Scatterometer wind\n",
    "The wind (netCDF) are read from the JPL OPEnDAP server.      \n",
    "The files are sorted by years and days of year.\n",
    "\n",
    "With these pieces of information we can create a list of files URLs."
   ]
  },
  {
   "cell_type": "code",
   "execution_count": 7,
   "metadata": {},
   "outputs": [
    {
     "name": "stderr",
     "output_type": "stream",
     "text": [
      "INFO:Filament:Found 21 files\n"
     ]
    },
    {
     "data": {
      "text/plain": [
       "['https://opendap.jpl.nasa.gov:443/opendap/OceanWinds/ascat/preview/L2/metop_a/coastal_opt/2020/160/ascat_20200608_013300_metopa_70756_eps_o_coa_3202_ovw.l2.nc.gz',\n",
       " 'https://opendap.jpl.nasa.gov:443/opendap/OceanWinds/ascat/preview/L2/metop_a/coastal_opt/2020/160/ascat_20200608_031200_metopa_70757_eps_o_coa_3202_ovw.l2.nc.gz',\n",
       " 'https://opendap.jpl.nasa.gov:443/opendap/OceanWinds/ascat/preview/L2/metop_a/coastal_opt/2020/160/ascat_20200608_045400_metopa_70758_eps_o_coa_3202_ovw.l2.nc.gz',\n",
       " 'https://opendap.jpl.nasa.gov:443/opendap/OceanWinds/ascat/preview/L2/metop_a/coastal_opt/2020/160/ascat_20200608_063600_metopa_70759_eps_o_coa_3202_ovw.l2.nc.gz',\n",
       " 'https://opendap.jpl.nasa.gov:443/opendap/OceanWinds/ascat/preview/L2/metop_a/coastal_opt/2020/160/ascat_20200608_081800_metopa_70760_eps_o_coa_3202_ovw.l2.nc.gz',\n",
       " 'https://opendap.jpl.nasa.gov:443/opendap/OceanWinds/ascat/preview/L2/metop_a/coastal_opt/2020/160/ascat_20200608_095700_metopa_70761_eps_o_coa_3202_ovw.l2.nc.gz',\n",
       " 'https://opendap.jpl.nasa.gov:443/opendap/OceanWinds/ascat/preview/L2/metop_a/coastal_opt/2020/160/ascat_20200608_113900_metopa_70762_eps_o_coa_3202_ovw.l2.nc.gz',\n",
       " 'https://opendap.jpl.nasa.gov:443/opendap/OceanWinds/ascat/preview/L2/metop_a/coastal_opt/2020/160/ascat_20200608_132100_metopa_70763_eps_o_coa_3202_ovw.l2.nc.gz',\n",
       " 'https://opendap.jpl.nasa.gov:443/opendap/OceanWinds/ascat/preview/L2/metop_a/coastal_opt/2020/160/ascat_20200608_150300_metopa_70764_eps_o_coa_3202_ovw.l2.nc.gz',\n",
       " 'https://opendap.jpl.nasa.gov:443/opendap/OceanWinds/ascat/preview/L2/metop_a/coastal_opt/2020/160/ascat_20200608_164500_metopa_70765_eps_o_coa_3202_ovw.l2.nc.gz',\n",
       " 'https://opendap.jpl.nasa.gov:443/opendap/OceanWinds/ascat/preview/L2/metop_b/coastal_opt/2020/160/ascat_20200608_010600_metopb_40069_eps_o_coa_3202_ovw.l2.nc.gz',\n",
       " 'https://opendap.jpl.nasa.gov:443/opendap/OceanWinds/ascat/preview/L2/metop_b/coastal_opt/2020/160/ascat_20200608_024800_metopb_40070_eps_o_coa_3202_ovw.l2.nc.gz',\n",
       " 'https://opendap.jpl.nasa.gov:443/opendap/OceanWinds/ascat/preview/L2/metop_b/coastal_opt/2020/160/ascat_20200608_042700_metopb_40071_eps_o_coa_3202_ovw.l2.nc.gz',\n",
       " 'https://opendap.jpl.nasa.gov:443/opendap/OceanWinds/ascat/preview/L2/metop_b/coastal_opt/2020/160/ascat_20200608_060900_metopb_40072_eps_o_coa_3202_ovw.l2.nc.gz',\n",
       " 'https://opendap.jpl.nasa.gov:443/opendap/OceanWinds/ascat/preview/L2/metop_b/coastal_opt/2020/160/ascat_20200608_075100_metopb_40073_eps_o_coa_3202_ovw.l2.nc.gz',\n",
       " 'https://opendap.jpl.nasa.gov:443/opendap/OceanWinds/ascat/preview/L2/metop_b/coastal_opt/2020/160/ascat_20200608_093300_metopb_40074_eps_o_coa_3202_ovw.l2.nc.gz',\n",
       " 'https://opendap.jpl.nasa.gov:443/opendap/OceanWinds/ascat/preview/L2/metop_b/coastal_opt/2020/160/ascat_20200608_111500_metopb_40075_eps_o_coa_3202_ovw.l2.nc.gz',\n",
       " 'https://opendap.jpl.nasa.gov:443/opendap/OceanWinds/ascat/preview/L2/metop_b/coastal_opt/2020/160/ascat_20200608_125400_metopb_40076_eps_o_coa_3202_ovw.l2.nc.gz',\n",
       " 'https://opendap.jpl.nasa.gov:443/opendap/OceanWinds/ascat/preview/L2/metop_b/coastal_opt/2020/160/ascat_20200608_143600_metopb_40077_eps_o_coa_3202_ovw.l2.nc.gz',\n",
       " 'https://opendap.jpl.nasa.gov:443/opendap/OceanWinds/ascat/preview/L2/metop_b/coastal_opt/2020/160/ascat_20200608_161800_metopb_40078_eps_o_coa_3202_ovw.l2.nc.gz',\n",
       " 'https://opendap.jpl.nasa.gov:443/opendap/OceanWinds/ascat/preview/L2/metop_b/coastal_opt/2020/160/ascat_20200608_180000_metopb_40079_eps_o_coa_3202_ovw.l2.nc.gz']"
      ]
     },
     "execution_count": 7,
     "metadata": {},
     "output_type": "execute_result"
    }
   ],
   "source": [
    "filelist1 = filament.get_filelist_url(year, dayofyear)\n",
    "filelistclean = []\n",
    "filelist1"
   ]
  },
  {
   "cell_type": "code",
   "execution_count": 8,
   "metadata": {
    "scrolled": true
   },
   "outputs": [
    {
     "name": "stderr",
     "output_type": "stream",
     "text": [
      "INFO:root:Working on https://opendap.jpl.nasa.gov:443/opendap/OceanWinds/ascat/preview/L2/metop_a/coastal_opt/2020/160/ascat_20200608_013300_metopa_70756_eps_o_coa_3202_ovw.l2.nc.gz\n",
      "INFO:Filament:No data in the region of interest\n",
      "INFO:root:Working on https://opendap.jpl.nasa.gov:443/opendap/OceanWinds/ascat/preview/L2/metop_a/coastal_opt/2020/160/ascat_20200608_031200_metopa_70757_eps_o_coa_3202_ovw.l2.nc.gz\n",
      "INFO:Filament:No data in the region of interest\n",
      "INFO:root:Working on https://opendap.jpl.nasa.gov:443/opendap/OceanWinds/ascat/preview/L2/metop_a/coastal_opt/2020/160/ascat_20200608_045400_metopa_70758_eps_o_coa_3202_ovw.l2.nc.gz\n",
      "INFO:Filament:No data in the region of interest\n",
      "INFO:root:Working on https://opendap.jpl.nasa.gov:443/opendap/OceanWinds/ascat/preview/L2/metop_a/coastal_opt/2020/160/ascat_20200608_063600_metopa_70759_eps_o_coa_3202_ovw.l2.nc.gz\n",
      "INFO:Filament:No data in the region of interest\n",
      "INFO:root:Working on https://opendap.jpl.nasa.gov:443/opendap/OceanWinds/ascat/preview/L2/metop_a/coastal_opt/2020/160/ascat_20200608_081800_metopa_70760_eps_o_coa_3202_ovw.l2.nc.gz\n",
      "INFO:Filament:No data in the region of interest\n",
      "INFO:root:Working on https://opendap.jpl.nasa.gov:443/opendap/OceanWinds/ascat/preview/L2/metop_a/coastal_opt/2020/160/ascat_20200608_095700_metopa_70761_eps_o_coa_3202_ovw.l2.nc.gz\n",
      "INFO:Filament:Subsetting data to region of interest\n",
      "INFO:root:Saving figure as AQUA-ascat_20200608_095700_metopa_70761_eps_o_coa_3202_ovw.jpg\n",
      "INFO:root:Working on https://opendap.jpl.nasa.gov:443/opendap/OceanWinds/ascat/preview/L2/metop_a/coastal_opt/2020/160/ascat_20200608_113900_metopa_70762_eps_o_coa_3202_ovw.l2.nc.gz\n",
      "INFO:Filament:No data in the region of interest\n",
      "INFO:root:Working on https://opendap.jpl.nasa.gov:443/opendap/OceanWinds/ascat/preview/L2/metop_a/coastal_opt/2020/160/ascat_20200608_132100_metopa_70763_eps_o_coa_3202_ovw.l2.nc.gz\n",
      "INFO:Filament:No data in the region of interest\n",
      "INFO:root:Working on https://opendap.jpl.nasa.gov:443/opendap/OceanWinds/ascat/preview/L2/metop_a/coastal_opt/2020/160/ascat_20200608_150300_metopa_70764_eps_o_coa_3202_ovw.l2.nc.gz\n",
      "INFO:Filament:No data in the region of interest\n",
      "INFO:root:Working on https://opendap.jpl.nasa.gov:443/opendap/OceanWinds/ascat/preview/L2/metop_a/coastal_opt/2020/160/ascat_20200608_164500_metopa_70765_eps_o_coa_3202_ovw.l2.nc.gz\n",
      "INFO:Filament:No data in the region of interest\n",
      "INFO:root:Working on https://opendap.jpl.nasa.gov:443/opendap/OceanWinds/ascat/preview/L2/metop_b/coastal_opt/2020/160/ascat_20200608_010600_metopb_40069_eps_o_coa_3202_ovw.l2.nc.gz\n",
      "INFO:Filament:No data in the region of interest\n",
      "INFO:root:Working on https://opendap.jpl.nasa.gov:443/opendap/OceanWinds/ascat/preview/L2/metop_b/coastal_opt/2020/160/ascat_20200608_024800_metopb_40070_eps_o_coa_3202_ovw.l2.nc.gz\n",
      "INFO:Filament:No data in the region of interest\n",
      "INFO:root:Working on https://opendap.jpl.nasa.gov:443/opendap/OceanWinds/ascat/preview/L2/metop_b/coastal_opt/2020/160/ascat_20200608_042700_metopb_40071_eps_o_coa_3202_ovw.l2.nc.gz\n",
      "INFO:Filament:No data in the region of interest\n",
      "INFO:root:Working on https://opendap.jpl.nasa.gov:443/opendap/OceanWinds/ascat/preview/L2/metop_b/coastal_opt/2020/160/ascat_20200608_060900_metopb_40072_eps_o_coa_3202_ovw.l2.nc.gz\n",
      "INFO:Filament:No data in the region of interest\n",
      "INFO:root:Working on https://opendap.jpl.nasa.gov:443/opendap/OceanWinds/ascat/preview/L2/metop_b/coastal_opt/2020/160/ascat_20200608_075100_metopb_40073_eps_o_coa_3202_ovw.l2.nc.gz\n",
      "INFO:Filament:No data in the region of interest\n",
      "INFO:root:Working on https://opendap.jpl.nasa.gov:443/opendap/OceanWinds/ascat/preview/L2/metop_b/coastal_opt/2020/160/ascat_20200608_093300_metopb_40074_eps_o_coa_3202_ovw.l2.nc.gz\n",
      "INFO:Filament:Subsetting data to region of interest\n",
      "INFO:root:Saving figure as AQUA-ascat_20200608_093300_metopb_40074_eps_o_coa_3202_ovw.jpg\n",
      "INFO:root:Working on https://opendap.jpl.nasa.gov:443/opendap/OceanWinds/ascat/preview/L2/metop_b/coastal_opt/2020/160/ascat_20200608_111500_metopb_40075_eps_o_coa_3202_ovw.l2.nc.gz\n",
      "INFO:Filament:No data in the region of interest\n",
      "INFO:root:Working on https://opendap.jpl.nasa.gov:443/opendap/OceanWinds/ascat/preview/L2/metop_b/coastal_opt/2020/160/ascat_20200608_125400_metopb_40076_eps_o_coa_3202_ovw.l2.nc.gz\n",
      "INFO:Filament:No data in the region of interest\n",
      "INFO:root:Working on https://opendap.jpl.nasa.gov:443/opendap/OceanWinds/ascat/preview/L2/metop_b/coastal_opt/2020/160/ascat_20200608_143600_metopb_40077_eps_o_coa_3202_ovw.l2.nc.gz\n",
      "INFO:Filament:No data in the region of interest\n",
      "INFO:root:Working on https://opendap.jpl.nasa.gov:443/opendap/OceanWinds/ascat/preview/L2/metop_b/coastal_opt/2020/160/ascat_20200608_161800_metopb_40078_eps_o_coa_3202_ovw.l2.nc.gz\n",
      "INFO:Filament:No data in the region of interest\n",
      "INFO:root:Working on https://opendap.jpl.nasa.gov:443/opendap/OceanWinds/ascat/preview/L2/metop_b/coastal_opt/2020/160/ascat_20200608_180000_metopb_40079_eps_o_coa_3202_ovw.l2.nc.gz\n",
      "INFO:Filament:No data in the region of interest\n",
      "INFO:root:Figures printer in ../figures/wind/Canary/\n"
     ]
    }
   ],
   "source": [
    "for ifile, dataurl in enumerate(filelist1):\n",
    "#for ifile, dataurl in enumerate([\"/data/Wind/ASCAT/ascat_20200510_111500_metopb_39663_eps_o_coa_3202_ovw.l2.nc.gz\"]):\n",
    "\n",
    "    logger.info(\"Working on {}\".format(dataurl))\n",
    "    wind = filament.Wind()\n",
    "    #res = wind.read_ascat(dataurl, vis.extent)\n",
    "    res = wind.read_ascat(dataurl, vis.extent)\n",
    "        \n",
    "    if res:\n",
    "        # filelistclean.append(dataurl)\n",
    "        mm = str(month).zfill(2)\n",
    "        dd = str(day).zfill(2)\n",
    "        \n",
    "        fname = \"\".join((satellite, \"-\", dataurl.split(\"/\")[-1].split(\".\")[0], \".jpg\"))\n",
    "        logger.info(\"Saving figure as {}\".format(fname))\n",
    "        figname = os.path.join(figdir, fname)\n",
    "        \n",
    "        fig = plt.figure(figsize=(8, 8))\n",
    "        ax = plt.subplot(111, projection=myproj)\n",
    "        vis.add_to_plot(ax, myproj)\n",
    "        wind.add_to_plot(fig, ax, domain=vis.extent, cmap=plt.cm.hot,\n",
    "                         clim=[2, 10.], vis=True, quivscale=500, quivwidth=0.001,\n",
    "                         date=wind.time.strftime(\"%Y-%m-%d %H:%M:%S\"),\n",
    "                         cbarloc='lower right')\n",
    "        \n",
    "        #filament.decorate_map(ax, [7.5, 10, 41.75, 43.5], \n",
    "        #                      np.arange(7., 10., .5), \n",
    "        #                      np.arange(40., 44., 0.25))\n",
    "        \n",
    "        \n",
    "        #plt.show()\n",
    "        plt.savefig(figname, dpi=300, bbox_inches=\"tight\")\n",
    "        plt.close()\n",
    "logger.info(\"Figures printer in {}\".format(figdir))"
   ]
  },
  {
   "cell_type": "markdown",
   "metadata": {},
   "source": [
    "## Storm plot: 2 swaths combined "
   ]
  },
  {
   "cell_type": "code",
   "execution_count": 11,
   "metadata": {},
   "outputs": [
    {
     "name": "stderr",
     "output_type": "stream",
     "text": [
      "INFO:root:Working on /data/Wind/Storm/ascat_20200519_014500_metopa_70472_eps_o_coa_3202_ovw.l2.nc.gz\n",
      "INFO:Filament:No data in the region of interest\n"
     ]
    },
    {
     "ename": "TypeError",
     "evalue": "ufunc 'isfinite' not supported for the input types, and the inputs could not be safely coerced to any supported types according to the casting rule ''safe''",
     "output_type": "error",
     "traceback": [
      "\u001b[0;31m---------------------------------------------------------------------------\u001b[0m",
      "\u001b[0;31mTypeError\u001b[0m                                 Traceback (most recent call last)",
      "\u001b[0;32m<ipython-input-11-a1c08171fb27>\u001b[0m in \u001b[0;36m<module>\u001b[0;34m()\u001b[0m\n\u001b[1;32m     23\u001b[0m                          \u001b[0mclim\u001b[0m\u001b[0;34m=\u001b[0m\u001b[0;34m[\u001b[0m\u001b[0;36m10\u001b[0m\u001b[0;34m,\u001b[0m \u001b[0;36m35.\u001b[0m\u001b[0;34m]\u001b[0m\u001b[0;34m,\u001b[0m \u001b[0mvis\u001b[0m\u001b[0;34m=\u001b[0m\u001b[0;32mTrue\u001b[0m\u001b[0;34m,\u001b[0m \u001b[0mquivscale\u001b[0m\u001b[0;34m=\u001b[0m\u001b[0;36m500\u001b[0m\u001b[0;34m,\u001b[0m \u001b[0mquivwidth\u001b[0m\u001b[0;34m=\u001b[0m\u001b[0;36m0.001\u001b[0m\u001b[0;34m,\u001b[0m\u001b[0;34m\u001b[0m\u001b[0m\n\u001b[1;32m     24\u001b[0m                          \u001b[0mdate\u001b[0m\u001b[0;34m=\u001b[0m\u001b[0mwind\u001b[0m\u001b[0;34m.\u001b[0m\u001b[0mtime\u001b[0m\u001b[0;34m.\u001b[0m\u001b[0mstrftime\u001b[0m\u001b[0;34m(\u001b[0m\u001b[0;34m\"%Y-%m-%d\"\u001b[0m\u001b[0;34m)\u001b[0m\u001b[0;34m,\u001b[0m\u001b[0;34m\u001b[0m\u001b[0m\n\u001b[0;32m---> 25\u001b[0;31m                          cbarloc='upper right', cbarplot=cbarplot)\n\u001b[0m\u001b[1;32m     26\u001b[0m \u001b[0;34m\u001b[0m\u001b[0m\n\u001b[1;32m     27\u001b[0m \u001b[0mvis\u001b[0m\u001b[0;34m.\u001b[0m\u001b[0madd_to_plot\u001b[0m\u001b[0;34m(\u001b[0m\u001b[0max\u001b[0m\u001b[0;34m,\u001b[0m \u001b[0mmyproj\u001b[0m\u001b[0;34m)\u001b[0m\u001b[0;34m\u001b[0m\u001b[0m\n",
      "\u001b[0;32m~/Projects/FNRS-UpwellingFilaments/Filament-Submesoscale/python/filament.py\u001b[0m in \u001b[0;36madd_to_plot\u001b[0;34m(self, fig, ax, domain, cmap, date, vis, clim, quivscale, quivwidth, cbarloc, cbarplot)\u001b[0m\n\u001b[1;32m    548\u001b[0m                      )\n\u001b[1;32m    549\u001b[0m         qv = ax.quiver(self.lon, self.lat, self.u, self.v, self.speed,\n\u001b[0;32m--> 550\u001b[0;31m                        scale=quivscale, width=quivwidth, cmap=cmap, clim=clim)\n\u001b[0m\u001b[1;32m    551\u001b[0m \u001b[0;34m\u001b[0m\u001b[0m\n\u001b[1;32m    552\u001b[0m         \u001b[0;32mif\u001b[0m \u001b[0mdomain\u001b[0m \u001b[0;32mis\u001b[0m \u001b[0;32mnot\u001b[0m \u001b[0;32mNone\u001b[0m\u001b[0;34m:\u001b[0m\u001b[0;34m\u001b[0m\u001b[0m\n",
      "\u001b[0;32m~/Software/PythonEnvs/Diva-python3.6/lib/python3.6/site-packages/cartopy/mpl/geoaxes.py\u001b[0m in \u001b[0;36mquiver\u001b[0;34m(self, x, y, u, v, *args, **kwargs)\u001b[0m\n\u001b[1;32m   1751\u001b[0m                 \u001b[0mx\u001b[0m\u001b[0;34m,\u001b[0m \u001b[0my\u001b[0m \u001b[0;34m=\u001b[0m \u001b[0mnp\u001b[0m\u001b[0;34m.\u001b[0m\u001b[0mmeshgrid\u001b[0m\u001b[0;34m(\u001b[0m\u001b[0mx\u001b[0m\u001b[0;34m,\u001b[0m \u001b[0my\u001b[0m\u001b[0;34m)\u001b[0m\u001b[0;34m\u001b[0m\u001b[0m\n\u001b[1;32m   1752\u001b[0m             \u001b[0mu\u001b[0m\u001b[0;34m,\u001b[0m \u001b[0mv\u001b[0m \u001b[0;34m=\u001b[0m \u001b[0mself\u001b[0m\u001b[0;34m.\u001b[0m\u001b[0mprojection\u001b[0m\u001b[0;34m.\u001b[0m\u001b[0mtransform_vectors\u001b[0m\u001b[0;34m(\u001b[0m\u001b[0mt\u001b[0m\u001b[0;34m,\u001b[0m \u001b[0mx\u001b[0m\u001b[0;34m,\u001b[0m \u001b[0my\u001b[0m\u001b[0;34m,\u001b[0m \u001b[0mu\u001b[0m\u001b[0;34m,\u001b[0m \u001b[0mv\u001b[0m\u001b[0;34m)\u001b[0m\u001b[0;34m\u001b[0m\u001b[0m\n\u001b[0;32m-> 1753\u001b[0;31m         \u001b[0;32mreturn\u001b[0m \u001b[0mmatplotlib\u001b[0m\u001b[0;34m.\u001b[0m\u001b[0maxes\u001b[0m\u001b[0;34m.\u001b[0m\u001b[0mAxes\u001b[0m\u001b[0;34m.\u001b[0m\u001b[0mquiver\u001b[0m\u001b[0;34m(\u001b[0m\u001b[0mself\u001b[0m\u001b[0;34m,\u001b[0m \u001b[0mx\u001b[0m\u001b[0;34m,\u001b[0m \u001b[0my\u001b[0m\u001b[0;34m,\u001b[0m \u001b[0mu\u001b[0m\u001b[0;34m,\u001b[0m \u001b[0mv\u001b[0m\u001b[0;34m,\u001b[0m \u001b[0;34m*\u001b[0m\u001b[0margs\u001b[0m\u001b[0;34m,\u001b[0m \u001b[0;34m**\u001b[0m\u001b[0mkwargs\u001b[0m\u001b[0;34m)\u001b[0m\u001b[0;34m\u001b[0m\u001b[0m\n\u001b[0m\u001b[1;32m   1754\u001b[0m \u001b[0;34m\u001b[0m\u001b[0m\n\u001b[1;32m   1755\u001b[0m     \u001b[0;32mdef\u001b[0m \u001b[0mbarbs\u001b[0m\u001b[0;34m(\u001b[0m\u001b[0mself\u001b[0m\u001b[0;34m,\u001b[0m \u001b[0mx\u001b[0m\u001b[0;34m,\u001b[0m \u001b[0my\u001b[0m\u001b[0;34m,\u001b[0m \u001b[0mu\u001b[0m\u001b[0;34m,\u001b[0m \u001b[0mv\u001b[0m\u001b[0;34m,\u001b[0m \u001b[0;34m*\u001b[0m\u001b[0margs\u001b[0m\u001b[0;34m,\u001b[0m \u001b[0;34m**\u001b[0m\u001b[0mkwargs\u001b[0m\u001b[0;34m)\u001b[0m\u001b[0;34m:\u001b[0m\u001b[0;34m\u001b[0m\u001b[0m\n",
      "\u001b[0;32m~/Software/PythonEnvs/Diva-python3.6/lib/python3.6/site-packages/matplotlib/__init__.py\u001b[0m in \u001b[0;36minner\u001b[0;34m(ax, *args, **kwargs)\u001b[0m\n\u001b[1;32m   1708\u001b[0m                     warnings.warn(msg % (label_namer, func.__name__),\n\u001b[1;32m   1709\u001b[0m                                   RuntimeWarning, stacklevel=2)\n\u001b[0;32m-> 1710\u001b[0;31m             \u001b[0;32mreturn\u001b[0m \u001b[0mfunc\u001b[0m\u001b[0;34m(\u001b[0m\u001b[0max\u001b[0m\u001b[0;34m,\u001b[0m \u001b[0;34m*\u001b[0m\u001b[0margs\u001b[0m\u001b[0;34m,\u001b[0m \u001b[0;34m**\u001b[0m\u001b[0mkwargs\u001b[0m\u001b[0;34m)\u001b[0m\u001b[0;34m\u001b[0m\u001b[0m\n\u001b[0m\u001b[1;32m   1711\u001b[0m         \u001b[0mpre_doc\u001b[0m \u001b[0;34m=\u001b[0m \u001b[0minner\u001b[0m\u001b[0;34m.\u001b[0m\u001b[0m__doc__\u001b[0m\u001b[0;34m\u001b[0m\u001b[0m\n\u001b[1;32m   1712\u001b[0m         \u001b[0;32mif\u001b[0m \u001b[0mpre_doc\u001b[0m \u001b[0;32mis\u001b[0m \u001b[0;32mNone\u001b[0m\u001b[0;34m:\u001b[0m\u001b[0;34m\u001b[0m\u001b[0m\n",
      "\u001b[0;32m~/Software/PythonEnvs/Diva-python3.6/lib/python3.6/site-packages/matplotlib/axes/_axes.py\u001b[0m in \u001b[0;36mquiver\u001b[0;34m(self, *args, **kw)\u001b[0m\n\u001b[1;32m   4650\u001b[0m         \u001b[0margs\u001b[0m \u001b[0;34m=\u001b[0m \u001b[0mself\u001b[0m\u001b[0;34m.\u001b[0m\u001b[0m_quiver_units\u001b[0m\u001b[0;34m(\u001b[0m\u001b[0margs\u001b[0m\u001b[0;34m,\u001b[0m \u001b[0mkw\u001b[0m\u001b[0;34m)\u001b[0m\u001b[0;34m\u001b[0m\u001b[0m\n\u001b[1;32m   4651\u001b[0m \u001b[0;34m\u001b[0m\u001b[0m\n\u001b[0;32m-> 4652\u001b[0;31m         \u001b[0mq\u001b[0m \u001b[0;34m=\u001b[0m \u001b[0mmquiver\u001b[0m\u001b[0;34m.\u001b[0m\u001b[0mQuiver\u001b[0m\u001b[0;34m(\u001b[0m\u001b[0mself\u001b[0m\u001b[0;34m,\u001b[0m \u001b[0;34m*\u001b[0m\u001b[0margs\u001b[0m\u001b[0;34m,\u001b[0m \u001b[0;34m**\u001b[0m\u001b[0mkw\u001b[0m\u001b[0;34m)\u001b[0m\u001b[0;34m\u001b[0m\u001b[0m\n\u001b[0m\u001b[1;32m   4653\u001b[0m \u001b[0;34m\u001b[0m\u001b[0m\n\u001b[1;32m   4654\u001b[0m         \u001b[0mself\u001b[0m\u001b[0;34m.\u001b[0m\u001b[0madd_collection\u001b[0m\u001b[0;34m(\u001b[0m\u001b[0mq\u001b[0m\u001b[0;34m,\u001b[0m \u001b[0mautolim\u001b[0m\u001b[0;34m=\u001b[0m\u001b[0;32mTrue\u001b[0m\u001b[0;34m)\u001b[0m\u001b[0;34m\u001b[0m\u001b[0m\n",
      "\u001b[0;32m~/Software/PythonEnvs/Diva-python3.6/lib/python3.6/site-packages/matplotlib/quiver.py\u001b[0m in \u001b[0;36m__init__\u001b[0;34m(self, ax, *args, **kw)\u001b[0m\n\u001b[1;32m    478\u001b[0m                                              **kw)\n\u001b[1;32m    479\u001b[0m         \u001b[0mself\u001b[0m\u001b[0;34m.\u001b[0m\u001b[0mpolykw\u001b[0m \u001b[0;34m=\u001b[0m \u001b[0mkw\u001b[0m\u001b[0;34m\u001b[0m\u001b[0m\n\u001b[0;32m--> 480\u001b[0;31m         \u001b[0mself\u001b[0m\u001b[0;34m.\u001b[0m\u001b[0mset_UVC\u001b[0m\u001b[0;34m(\u001b[0m\u001b[0mU\u001b[0m\u001b[0;34m,\u001b[0m \u001b[0mV\u001b[0m\u001b[0;34m,\u001b[0m \u001b[0mC\u001b[0m\u001b[0;34m)\u001b[0m\u001b[0;34m\u001b[0m\u001b[0m\n\u001b[0m\u001b[1;32m    481\u001b[0m         \u001b[0mself\u001b[0m\u001b[0;34m.\u001b[0m\u001b[0m_initialized\u001b[0m \u001b[0;34m=\u001b[0m \u001b[0;32mFalse\u001b[0m\u001b[0;34m\u001b[0m\u001b[0m\n\u001b[1;32m    482\u001b[0m \u001b[0;34m\u001b[0m\u001b[0m\n",
      "\u001b[0;32m~/Software/PythonEnvs/Diva-python3.6/lib/python3.6/site-packages/matplotlib/quiver.py\u001b[0m in \u001b[0;36mset_UVC\u001b[0;34m(self, U, V, C)\u001b[0m\n\u001b[1;32m    554\u001b[0m         \u001b[0;31m# We need to ensure we have a copy, not a reference\u001b[0m\u001b[0;34m\u001b[0m\u001b[0;34m\u001b[0m\u001b[0m\n\u001b[1;32m    555\u001b[0m         \u001b[0;31m# to an array that might change before draw().\u001b[0m\u001b[0;34m\u001b[0m\u001b[0;34m\u001b[0m\u001b[0m\n\u001b[0;32m--> 556\u001b[0;31m         \u001b[0mU\u001b[0m \u001b[0;34m=\u001b[0m \u001b[0mma\u001b[0m\u001b[0;34m.\u001b[0m\u001b[0mmasked_invalid\u001b[0m\u001b[0;34m(\u001b[0m\u001b[0mU\u001b[0m\u001b[0;34m,\u001b[0m \u001b[0mcopy\u001b[0m\u001b[0;34m=\u001b[0m\u001b[0;32mTrue\u001b[0m\u001b[0;34m)\u001b[0m\u001b[0;34m.\u001b[0m\u001b[0mravel\u001b[0m\u001b[0;34m(\u001b[0m\u001b[0;34m)\u001b[0m\u001b[0;34m\u001b[0m\u001b[0m\n\u001b[0m\u001b[1;32m    557\u001b[0m         \u001b[0mV\u001b[0m \u001b[0;34m=\u001b[0m \u001b[0mma\u001b[0m\u001b[0;34m.\u001b[0m\u001b[0mmasked_invalid\u001b[0m\u001b[0;34m(\u001b[0m\u001b[0mV\u001b[0m\u001b[0;34m,\u001b[0m \u001b[0mcopy\u001b[0m\u001b[0;34m=\u001b[0m\u001b[0;32mTrue\u001b[0m\u001b[0;34m)\u001b[0m\u001b[0;34m.\u001b[0m\u001b[0mravel\u001b[0m\u001b[0;34m(\u001b[0m\u001b[0;34m)\u001b[0m\u001b[0;34m\u001b[0m\u001b[0m\n\u001b[1;32m    558\u001b[0m         \u001b[0mmask\u001b[0m \u001b[0;34m=\u001b[0m \u001b[0mma\u001b[0m\u001b[0;34m.\u001b[0m\u001b[0mmask_or\u001b[0m\u001b[0;34m(\u001b[0m\u001b[0mU\u001b[0m\u001b[0;34m.\u001b[0m\u001b[0mmask\u001b[0m\u001b[0;34m,\u001b[0m \u001b[0mV\u001b[0m\u001b[0;34m.\u001b[0m\u001b[0mmask\u001b[0m\u001b[0;34m,\u001b[0m \u001b[0mcopy\u001b[0m\u001b[0;34m=\u001b[0m\u001b[0;32mFalse\u001b[0m\u001b[0;34m,\u001b[0m \u001b[0mshrink\u001b[0m\u001b[0;34m=\u001b[0m\u001b[0;32mTrue\u001b[0m\u001b[0;34m)\u001b[0m\u001b[0;34m\u001b[0m\u001b[0m\n",
      "\u001b[0;32m~/Software/PythonEnvs/Diva-python3.6/lib/python3.6/site-packages/numpy/ma/core.py\u001b[0m in \u001b[0;36mmasked_invalid\u001b[0;34m(a, copy)\u001b[0m\n\u001b[1;32m   2364\u001b[0m         \u001b[0mcls\u001b[0m \u001b[0;34m=\u001b[0m \u001b[0mtype\u001b[0m\u001b[0;34m(\u001b[0m\u001b[0ma\u001b[0m\u001b[0;34m)\u001b[0m\u001b[0;34m\u001b[0m\u001b[0m\n\u001b[1;32m   2365\u001b[0m     \u001b[0;32melse\u001b[0m\u001b[0;34m:\u001b[0m\u001b[0;34m\u001b[0m\u001b[0m\n\u001b[0;32m-> 2366\u001b[0;31m         \u001b[0mcondition\u001b[0m \u001b[0;34m=\u001b[0m \u001b[0;34m~\u001b[0m\u001b[0;34m(\u001b[0m\u001b[0mnp\u001b[0m\u001b[0;34m.\u001b[0m\u001b[0misfinite\u001b[0m\u001b[0;34m(\u001b[0m\u001b[0ma\u001b[0m\u001b[0;34m)\u001b[0m\u001b[0;34m)\u001b[0m\u001b[0;34m\u001b[0m\u001b[0m\n\u001b[0m\u001b[1;32m   2367\u001b[0m         \u001b[0mcls\u001b[0m \u001b[0;34m=\u001b[0m \u001b[0mMaskedArray\u001b[0m\u001b[0;34m\u001b[0m\u001b[0m\n\u001b[1;32m   2368\u001b[0m     \u001b[0mresult\u001b[0m \u001b[0;34m=\u001b[0m \u001b[0ma\u001b[0m\u001b[0;34m.\u001b[0m\u001b[0mview\u001b[0m\u001b[0;34m(\u001b[0m\u001b[0mcls\u001b[0m\u001b[0;34m)\u001b[0m\u001b[0;34m\u001b[0m\u001b[0m\n",
      "\u001b[0;31mTypeError\u001b[0m: ufunc 'isfinite' not supported for the input types, and the inputs could not be safely coerced to any supported types according to the casting rule ''safe''"
     ]
    }
   ],
   "source": [
    "filelist = sorted(glob.glob(os.path.join(\"/data/Wind/Storm/\", \"*gz\")))\n",
    "filelist\n",
    "\n",
    "fig = plt.figure(figsize=(8, 8))\n",
    "ax = plt.subplot(111, projection=myproj)\n",
    "\n",
    "for ifile, dataurl in enumerate(filelist):\n",
    "\n",
    "    logger.info(\"Working on {}\".format(dataurl))\n",
    "    wind = filament.Wind()\n",
    "    res = wind.read_ascat(dataurl, extent2)\n",
    "\n",
    "    mm = str(month).zfill(2)\n",
    "    dd = str(day).zfill(2)\n",
    "    \n",
    "    if ifile > 0:\n",
    "        cbarplot = False\n",
    "        print(\"Not ploting colorbar\")\n",
    "    else:\n",
    "        cbarplot = True\n",
    "        \n",
    "    wind.add_to_plot(fig, ax, domain=vis.extent, cmap=plt.cm.inferno_r,\n",
    "                         clim=[10, 35.], vis=True, quivscale=500, quivwidth=0.001,\n",
    "                         date=wind.time.strftime(\"%Y-%m-%d\"),\n",
    "                         cbarloc='upper right', cbarplot=cbarplot)\n",
    "    \n",
    "vis.add_to_plot(ax, myproj)\n",
    "      \n",
    "fname = \"\".join((satellite, \"-\", dataurl.split(\"/\")[-1].split(\".\")[0], \".jpg\"))\n",
    "logger.info(\"Saving figure as {}\".format(fname))\n",
    "figname = os.path.join(figdir, fname)\n",
    "       \n",
    "#plt.show()\n",
    "plt.savefig(figname, dpi=300, bbox_inches=\"tight\")\n",
    "plt.close()\n",
    "logger.info(\"Figures printer in {}\".format(figdir))"
   ]
  },
  {
   "cell_type": "markdown",
   "metadata": {},
   "source": [
    "### Specific plot Canary Islands"
   ]
  },
  {
   "cell_type": "code",
   "execution_count": null,
   "metadata": {},
   "outputs": [],
   "source": [
    "places = {\"Cruz Tejeda\": (-15.599804, 28.005904),\n",
    "          \"Teide\": (-16.642337, 28.272777),\n",
    "          \"El Hierro\": (-18.040556, 27.729444),\n",
    "          \"La Gomera\": (-17.248383, 28.109636)}"
   ]
  },
  {
   "cell_type": "code",
   "execution_count": null,
   "metadata": {},
   "outputs": [],
   "source": [
    "fig = plt.figure(figsize=(8, 8))\n",
    "ax = plt.subplot(111, projection=myproj)\n",
    "vis.add_to_plot(ax, myproj)\n",
    "filament.decorate_map(ax, vis.extent, \n",
    "                      np.arange(-19., -13., 2.), \n",
    "                      np.arange(27., 29.5, 1.))\n",
    "ax.plot((places[\"Cruz Tejeda\"][0], places[\"El Hierro\"][0]),\n",
    "        (places[\"Cruz Tejeda\"][1], places[\"El Hierro\"][1]), label=\"X km\")\n",
    "ax.plot((places[\"Cruz Tejeda\"][0], places[\"La Gomera\"][0]),\n",
    "        (places[\"Cruz Tejeda\"][1], places[\"La Gomera\"][1]))\n",
    "ax.plot((places[\"Cruz Tejeda\"][0], places[\"Teide\"][0]),\n",
    "        (places[\"Cruz Tejeda\"][1], places[\"Teide\"][1]))\n",
    "\n",
    "plt.legend()\n",
    "    \n",
    "plt.show()\n",
    "#plt.savefig(figname, dpi=300, bbox_inches=\"tight\")\n",
    "plt.close()"
   ]
  },
  {
   "cell_type": "markdown",
   "metadata": {},
   "source": [
    "## Fuerteventura - Lanzarote"
   ]
  },
  {
   "cell_type": "code",
   "execution_count": null,
   "metadata": {},
   "outputs": [],
   "source": [
    "dataurl = \"/data/Wind/ASCAT/GranCanaria/ascat_20200329_104200_metopb_39066_eps_o_coa_3202_ovw.l2.nc.gz\"\n",
    "\n",
    "logger.info(\"Working on {}\".format(dataurl))\n",
    "wind = filament.Wind()\n",
    "res = wind.read_ascat(dataurl, vis.extent)\n",
    "\n",
    "\n",
    "# filelistclean.append(dataurl)\n",
    "mm = str(month).zfill(2)\n",
    "dd = str(day).zfill(2)\n",
    "\n",
    "fname = \"\".join((\"aqua-\", dataurl.split(\"/\")[-1].split(\".\")[0], \".jpg\"))\n",
    "logger.info(\"Saving figure as {}\".format(fname))\n",
    "figname = os.path.join(figdir, fname)\n",
    "\n",
    "fig = plt.figure(figsize=(8, 8))\n",
    "ax = plt.subplot(111, projection=myproj)\n",
    "vis.add_to_plot(ax, myproj)\n",
    "wind.add_to_plot(fig, ax, domain=vis.extent, cmap=plt.cm.hot,\n",
    "                 clim=[0, 5], vis=True, quivscale=250, quivwidth=0.001,\n",
    "                 date=wind.time.strftime(\"%Y-%m-%d %H:%M\"))\n",
    "\n",
    "\n",
    "ax.plot([-15.570852, -13.976249], [28.038895, 28.596877])\n",
    "ax.plot([-15.570852, -13.784467], [28.038895, 28.918923])\n",
    "\n",
    " \n",
    "#filament.decorate_map(ax, [7.5, 10, 41.75, 43.5], \n",
    "#                      np.arange(7., 10., .5), \n",
    "#                      np.arange(40., 44., 0.25))\n",
    "\n",
    "\n",
    "plt.show()\n",
    "# plt.savefig(figname, dpi=300, bbox_inches=\"tight\")\n",
    "plt.close()\n"
   ]
  },
  {
   "cell_type": "code",
   "execution_count": null,
   "metadata": {},
   "outputs": [],
   "source": []
  }
 ],
 "metadata": {
  "@webio": {
   "lastCommId": null,
   "lastKernelId": null
  },
  "kernelspec": {
   "display_name": "Diva-python3.6",
   "language": "python",
   "name": "diva-python3.6"
  },
  "language_info": {
   "codemirror_mode": {
    "name": "ipython",
    "version": 3
   },
   "file_extension": ".py",
   "mimetype": "text/x-python",
   "name": "python",
   "nbconvert_exporter": "python",
   "pygments_lexer": "ipython3",
   "version": "3.6.0"
  }
 },
 "nbformat": 4,
 "nbformat_minor": 2
}
