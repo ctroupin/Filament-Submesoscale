{
 "cells": [
  {
   "cell_type": "code",
   "execution_count": 32,
   "metadata": {},
   "outputs": [
    {
     "data": {
      "text/plain": [
       "<module 'filament' from '/home/ctroupin/Projects/FNRS-UpwellingFilaments/Filament-Submesoscale/python/filament.py'>"
      ]
     },
     "execution_count": 32,
     "metadata": {},
     "output_type": "execute_result"
    }
   ],
   "source": [
    "import os\n",
    "import glob\n",
    "import numpy as np\n",
    "import filament\n",
    "import datetime\n",
    "import cmocean\n",
    "import logging\n",
    "import netCDF4\n",
    "import calendar\n",
    "import numpy as np\n",
    "import matplotlib.pyplot as plt\n",
    "import matplotlib.colors as colors\n",
    "import matplotlib as mpl\n",
    "from mpl_toolkits.basemap import Basemap\n",
    "from importlib import reload\n",
    "reload(filament)"
   ]
  },
  {
   "cell_type": "markdown",
   "metadata": {},
   "source": [
    "## Logger"
   ]
  },
  {
   "cell_type": "code",
   "execution_count": 2,
   "metadata": {
    "collapsed": true
   },
   "outputs": [],
   "source": [
    "logger = logging.getLogger(\"SSTanom\")\n",
    "logger.setLevel(logging.INFO)\n",
    "logging.info(\"Starting\")"
   ]
  },
  {
   "cell_type": "markdown",
   "metadata": {},
   "source": [
    "## Files and directories"
   ]
  },
  {
   "cell_type": "code",
   "execution_count": 10,
   "metadata": {},
   "outputs": [
    {
     "name": "stderr",
     "output_type": "stream",
     "text": [
      "INFO:SSTanom:Found 12 monthly files\n"
     ]
    }
   ],
   "source": [
    "year = 2018\n",
    "figdir = \"/data/SST/Global/figures/\"\n",
    "monthlydir = \"/data/SST/Global/monthly/\"\n",
    "climdir = \"/data/SST/Global/monthly_clim/\"\n",
    "monthfilelist = sorted(glob.glob(os.path.join(monthlydir, \"T{0}*.L3m_MO_SST4_sst4_9km.nc\").format(year)))\n",
    "climfilelist = sorted(glob.glob(os.path.join(climdir, \"T*.L3m_MC_SST4_sst4_9km.nc\")))\n",
    "logger.info(\"Found {} monthly files\".format(len(monthfilelist)))"
   ]
  },
  {
   "cell_type": "markdown",
   "metadata": {},
   "source": [
    "## Create dictionary for the monthly climatology files\n",
    "Each entry contains the month number (from 1 to 12) and the corresponding climatological file."
   ]
  },
  {
   "cell_type": "code",
   "execution_count": 4,
   "metadata": {
    "collapsed": true
   },
   "outputs": [],
   "source": [
    "climDict = {}\n",
    "for climfiles in climfilelist:\n",
    "    logger.debug(\"Working on file {}\".format(climfiles))\n",
    "    with netCDF4.Dataset(climfiles, \"r\") as nc:\n",
    "        time_coverage_start = nc.time_coverage_start[:]\n",
    "        time_coverage_end = nc.time_coverage_end[:]\n",
    "    date_start = datetime.datetime.strptime(time_coverage_start, \"%Y-%m-%dT%H:%M:%S.000Z\")\n",
    "    date_end = datetime.datetime.strptime(time_coverage_end, \"%Y-%m-%dT%H:%M:%S.000Z\")\n",
    "    m = date_end.month\n",
    "    climDict[m] = climfiles"
   ]
  },
  {
   "cell_type": "markdown",
   "metadata": {},
   "source": [
    "## Loop on the monthly files\n",
    "The goal is to find the correct monthly climatology files, knowing that \n",
    "* the first and last years are not always the same, \n",
    "* the days of the years may also change."
   ]
  },
  {
   "cell_type": "markdown",
   "metadata": {},
   "source": [
    "## Plot preparation\n",
    "### Projection"
   ]
  },
  {
   "cell_type": "code",
   "execution_count": 6,
   "metadata": {
    "collapsed": true
   },
   "outputs": [],
   "source": [
    "m = Basemap(projection='ortho',lon_0=-52.,lat_0=10,resolution='c')\n",
    "llon, llat = np.meshgrid(SSTmonth.lon, SSTmonth.lat)\n",
    "lonp, latp = m(llon, llat)\n",
    "lonp[lonp==lonp.max()] = np.nan\n",
    "latp[latp==latp.max()] = np.nan"
   ]
  },
  {
   "cell_type": "markdown",
   "metadata": {},
   "source": [
    "### Plotting function"
   ]
  },
  {
   "cell_type": "code",
   "execution_count": 37,
   "metadata": {
    "collapsed": true,
    "scrolled": true
   },
   "outputs": [],
   "source": [
    "def make_monthly_subplot(lon, lat, SSTanom, month, NN=1):\n",
    "    plt.title(calendar.month_name[month], fontsize=18)\n",
    "    m.drawcoastlines(linewidth=.2)\n",
    "    pcm = m.pcolormesh(lon[::NN], lat[::NN], SSTanom[::NN],\n",
    "                 zorder=3, cmap=plt.cm.RdBu_r, vmin=-3., vmax=3.)\n",
    "    # m.fillcontinents(color='grey')\n",
    "    #plt.colorbar(extend=\"both\", shrink=.7)\n",
    "    m.warpimage(\"world.topo.bathy.200403.3x5400x2700.jpg\", zorder=2)\n",
    "    #mpol2.drawcoastlines()\n",
    "    #plt.savefig(os.path.join(figdir, \"SST_anom_test\"), dpi=300, bbox_inches=\"tight\")\n",
    "    # plt.show()\n",
    "    #plt.close()\n",
    "    return pcm"
   ]
  },
  {
   "cell_type": "code",
   "execution_count": 39,
   "metadata": {},
   "outputs": [
    {
     "name": "stderr",
     "output_type": "stream",
     "text": [
      "INFO:SSTanom:Working on month 1/12\n",
      "INFO:SSTanom:Working on month 2/12\n",
      "INFO:SSTanom:Working on month 3/12\n",
      "INFO:SSTanom:Working on month 4/12\n",
      "INFO:SSTanom:Working on month 5/12\n",
      "INFO:SSTanom:Working on month 6/12\n",
      "INFO:SSTanom:Working on month 7/12\n",
      "INFO:SSTanom:Working on month 8/12\n",
      "INFO:SSTanom:Working on month 9/12\n",
      "INFO:SSTanom:Working on month 10/12\n",
      "INFO:SSTanom:Working on month 11/12\n",
      "INFO:SSTanom:Working on month 12/12\n"
     ]
    }
   ],
   "source": [
    "plt.close(\"all\")\n",
    "fig = plt.figure(figsize=(13, 10))\n",
    "\n",
    "for imonth, monthlyfile in enumerate(monthfilelist):\n",
    "    logger.debug(\"Working on file {}\".format(monthlyfile))\n",
    "    \n",
    "    with netCDF4.Dataset(monthlyfile, \"r\") as nc:\n",
    "        time_coverage_start = nc.time_coverage_start[:]\n",
    "        time_coverage_end = nc.time_coverage_end[:]\n",
    "    date_start = datetime.datetime.strptime(time_coverage_start, \"%Y-%m-%dT%H:%M:%S.000Z\")\n",
    "    date_end = datetime.datetime.strptime(time_coverage_end, \"%Y-%m-%dT%H:%M:%S.000Z\")\n",
    "    date_mid = date_start + 0.5 * (date_end - date_start)\n",
    "    month = date_mid.month\n",
    "    logger.info(\"Working on month {}/12\".format(month))\n",
    "    \n",
    "    # Read data (lon, lat and SST)\n",
    "    SSTmonth = filament.SST()\n",
    "    SSTmonth.read_from_oceancolorL3(monthlyfile)\n",
    "    SSTclim = filament.SST()\n",
    "    SSTclim.read_from_oceancolorL3(climDict[month])\n",
    "    \n",
    "    # Compute anomalies\n",
    "    SSTanom = SSTmonth.field - SSTclim.field\n",
    "    \n",
    "    ax = plt.subplot(3, 4, imonth+1)\n",
    "    pcm = make_monthly_subplot(lonp, latp, SSTanom, imonth+1, NN=1)\n",
    "\n",
    "fig.subplots_adjust(right=0.8)\n",
    "cbar_ax = fig.add_axes([0.9, 0.15, 0.03, 0.7])\n",
    "normanom = mpl.colors.Normalize(vmin=-3., vmax=3.)\n",
    "cb1 = mpl.colorbar.ColorbarBase(cbar_ax, cmap=plt.cm.RdBu_r,\n",
    "                            norm=normanom, orientation='vertical', extend=\"both\")\n",
    "\n",
    "cb1.set_label(\"$^{\\circ}$C\", rotation=0, ha=\"left\", fontsize=14)\n",
    "fig.suptitle('Sea surface temperature anomalies ({})'.format(year), fontsize=24) \n",
    "plt.savefig(os.path.join(figdir, \"SSTanomalies{}04\".format(year)), dpi=300, bbox_inches=\"tight\")\n",
    "# plt.show()\n",
    "plt.close()"
   ]
  },
  {
   "cell_type": "code",
   "execution_count": 12,
   "metadata": {
    "collapsed": true
   },
   "outputs": [],
   "source": []
  },
  {
   "cell_type": "code",
   "execution_count": null,
   "metadata": {
    "collapsed": true
   },
   "outputs": [],
   "source": []
  }
 ],
 "metadata": {
  "@webio": {
   "lastCommId": "AF31CDA104754DB5872AC467CF83F261",
   "lastKernelId": "804b754f-d4c5-4f88-abf5-8c176e930599"
  },
  "kernelspec": {
   "display_name": "Diva-python3.6",
   "language": "python",
   "name": "diva-python3.6"
  },
  "language_info": {
   "codemirror_mode": {
    "name": "ipython",
    "version": 3
   },
   "file_extension": ".py",
   "mimetype": "text/x-python",
   "name": "python",
   "nbconvert_exporter": "python",
   "pygments_lexer": "ipython3",
   "version": "3.6.0"
  }
 },
 "nbformat": 4,
 "nbformat_minor": 2
}
