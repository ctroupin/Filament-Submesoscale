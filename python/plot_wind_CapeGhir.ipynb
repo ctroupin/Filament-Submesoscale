{
 "cells": [
  {
   "cell_type": "markdown",
   "metadata": {},
   "source": [
    "Plots of wind vectors around Cape Ghir."
   ]
  },
  {
   "cell_type": "code",
   "execution_count": 1,
   "metadata": {},
   "outputs": [
    {
     "data": {
      "text/plain": [
       "<module 'filament' from '/home/ctroupin/Projects/FNRS-UpwellingFilaments/Filament-Submesoscale/python/filament.py'>"
      ]
     },
     "execution_count": 1,
     "metadata": {},
     "output_type": "execute_result"
    }
   ],
   "source": [
    "import os\n",
    "import glob\n",
    "import datetime\n",
    "import netCDF4\n",
    "import numpy as np\n",
    "import filament\n",
    "import logging\n",
    "import matplotlib.pyplot as plt\n",
    "import cartopy\n",
    "import cartopy.crs as ccrs\n",
    "import cartopy.feature as cfeature\n",
    "import cartopy.mpl.ticker as cartopyticker\n",
    "myproj = ccrs.PlateCarree()\n",
    "coast = cfeature.GSHHSFeature(scale=\"f\")\n",
    "from importlib import reload\n",
    "reload(filament)"
   ]
  },
  {
   "cell_type": "code",
   "execution_count": 2,
   "metadata": {},
   "outputs": [],
   "source": [
    "logger = logging.getLogger(__name__)\n",
    "logger.setLevel(logging.INFO)\n",
    "logging.info(\"Starting\")"
   ]
  },
  {
   "cell_type": "markdown",
   "metadata": {},
   "source": [
    "## Input parameters\n",
    "We set the date of interest and the domain coordinates are taken from the geoTIFF file."
   ]
  },
  {
   "cell_type": "code",
   "execution_count": 3,
   "metadata": {},
   "outputs": [
    {
     "data": {
      "text/plain": [
       "True"
      ]
     },
     "execution_count": 3,
     "metadata": {},
     "output_type": "execute_result"
    }
   ],
   "source": [
    "year, month, day = 2009, 8, 15\n",
    "domain = (-19., -6., 25., 35.)\n",
    "figdir = \"../figures/wind/\"\n",
    "visibledir = \"/data/Wind/visible/\"\n",
    "os.path.isdir(visibledir)"
   ]
  },
  {
   "cell_type": "markdown",
   "metadata": {},
   "source": [
    "## Data"
   ]
  },
  {
   "cell_type": "code",
   "execution_count": 4,
   "metadata": {},
   "outputs": [],
   "source": [
    "datewind = datetime.datetime(year, month, day)\n",
    "dayofyear = datewind.timetuple().tm_yday"
   ]
  },
  {
   "cell_type": "markdown",
   "metadata": {},
   "source": [
    "### Scatterometer wind\n",
    "The wind (netCDF) are read from the JPL OPEnDAP server.      \n",
    "The files are sorted by years and days of year."
   ]
  },
  {
   "cell_type": "code",
   "execution_count": 5,
   "metadata": {},
   "outputs": [],
   "source": [
    "filelist = filament.get_filelist_url_quikscat(year, dayofyear)"
   ]
  },
  {
   "cell_type": "code",
   "execution_count": 6,
   "metadata": {
    "scrolled": true
   },
   "outputs": [
    {
     "name": "stderr",
     "output_type": "stream",
     "text": [
      "INFO:__main__:Working on https://opendap.jpl.nasa.gov/opendap/OceanWinds/quikscat/L2B12/v4.0/2009/227/qs_l2b_52886_v4.0_200908150119.nc\n",
      "INFO:__main__:Working on https://opendap.jpl.nasa.gov/opendap/OceanWinds/quikscat/L2B12/v4.0/2009/227/qs_l2b_52887_v4.0_200908150300.nc\n",
      "INFO:__main__:Working on https://opendap.jpl.nasa.gov/opendap/OceanWinds/quikscat/L2B12/v4.0/2009/227/qs_l2b_52888_v4.0_200908150441.nc\n",
      "INFO:__main__:Working on https://opendap.jpl.nasa.gov/opendap/OceanWinds/quikscat/L2B12/v4.0/2009/227/qs_l2b_52889_v4.0_200908150622.nc\n"
     ]
    },
    {
     "ename": "KeyboardInterrupt",
     "evalue": "",
     "output_type": "error",
     "traceback": [
      "\u001b[0;31m---------------------------------------------------------------------------\u001b[0m",
      "\u001b[0;31mKeyboardInterrupt\u001b[0m                         Traceback (most recent call last)",
      "\u001b[0;32m<ipython-input-6-59c329608067>\u001b[0m in \u001b[0;36m<module>\u001b[0;34m()\u001b[0m\n\u001b[1;32m      4\u001b[0m     \u001b[0mlogger\u001b[0m\u001b[0;34m.\u001b[0m\u001b[0minfo\u001b[0m\u001b[0;34m(\u001b[0m\u001b[0;34m\"Working on {}\"\u001b[0m\u001b[0;34m.\u001b[0m\u001b[0mformat\u001b[0m\u001b[0;34m(\u001b[0m\u001b[0mdataurl\u001b[0m\u001b[0;34m)\u001b[0m\u001b[0;34m)\u001b[0m\u001b[0;34m\u001b[0m\u001b[0m\n\u001b[1;32m      5\u001b[0m     \u001b[0mwind\u001b[0m \u001b[0;34m=\u001b[0m \u001b[0mfilament\u001b[0m\u001b[0;34m.\u001b[0m\u001b[0mWind\u001b[0m\u001b[0;34m(\u001b[0m\u001b[0;34m)\u001b[0m\u001b[0;34m\u001b[0m\u001b[0m\n\u001b[0;32m----> 6\u001b[0;31m     \u001b[0mres\u001b[0m \u001b[0;34m=\u001b[0m \u001b[0mwind\u001b[0m\u001b[0;34m.\u001b[0m\u001b[0mread_from_quikscat\u001b[0m\u001b[0;34m(\u001b[0m\u001b[0mdataurl\u001b[0m\u001b[0;34m,\u001b[0m \u001b[0mdomain\u001b[0m\u001b[0;34m)\u001b[0m\u001b[0;34m\u001b[0m\u001b[0m\n\u001b[0m\u001b[1;32m      7\u001b[0m \u001b[0;34m\u001b[0m\u001b[0m\n\u001b[1;32m      8\u001b[0m     \u001b[0;32mif\u001b[0m \u001b[0mres\u001b[0m\u001b[0;34m:\u001b[0m\u001b[0;34m\u001b[0m\u001b[0m\n",
      "\u001b[0;32m~/Projects/FNRS-UpwellingFilaments/Filament-Submesoscale/python/filament.py\u001b[0m in \u001b[0;36mread_from_quikscat\u001b[0;34m(self, datafile, domain)\u001b[0m\n\u001b[1;32m    356\u001b[0m             \u001b[0mself\u001b[0m\u001b[0;34m.\u001b[0m\u001b[0mtime\u001b[0m \u001b[0;34m=\u001b[0m \u001b[0mnetCDF4\u001b[0m\u001b[0;34m.\u001b[0m\u001b[0mnum2date\u001b[0m\u001b[0;34m(\u001b[0m\u001b[0mt\u001b[0m\u001b[0;34m,\u001b[0m \u001b[0mtimeunits\u001b[0m\u001b[0;34m)\u001b[0m\u001b[0;34m\u001b[0m\u001b[0m\n\u001b[1;32m    357\u001b[0m             \u001b[0mlon\u001b[0m \u001b[0;34m=\u001b[0m \u001b[0mnc\u001b[0m\u001b[0;34m.\u001b[0m\u001b[0mget_variables_by_attributes\u001b[0m\u001b[0;34m(\u001b[0m\u001b[0mstandard_name\u001b[0m\u001b[0;34m=\u001b[0m\u001b[0;34m\"longitude\"\u001b[0m\u001b[0;34m)\u001b[0m\u001b[0;34m[\u001b[0m\u001b[0;36m0\u001b[0m\u001b[0;34m]\u001b[0m\u001b[0;34m[\u001b[0m\u001b[0;34m:\u001b[0m\u001b[0;34m]\u001b[0m \u001b[0;34m-\u001b[0m \u001b[0;36m360.\u001b[0m\u001b[0;34m\u001b[0m\u001b[0m\n\u001b[0;32m--> 358\u001b[0;31m             \u001b[0mlat\u001b[0m \u001b[0;34m=\u001b[0m \u001b[0mnc\u001b[0m\u001b[0;34m.\u001b[0m\u001b[0mget_variables_by_attributes\u001b[0m\u001b[0;34m(\u001b[0m\u001b[0mstandard_name\u001b[0m\u001b[0;34m=\u001b[0m\u001b[0;34m\"latitude\"\u001b[0m\u001b[0;34m)\u001b[0m\u001b[0;34m[\u001b[0m\u001b[0;36m0\u001b[0m\u001b[0;34m]\u001b[0m\u001b[0;34m[\u001b[0m\u001b[0;34m:\u001b[0m\u001b[0;34m]\u001b[0m\u001b[0;34m\u001b[0m\u001b[0m\n\u001b[0m\u001b[1;32m    359\u001b[0m \u001b[0;34m\u001b[0m\u001b[0m\n\u001b[1;32m    360\u001b[0m             \u001b[0mlogger\u001b[0m\u001b[0;34m.\u001b[0m\u001b[0minfo\u001b[0m\u001b[0;34m(\u001b[0m\u001b[0mlon\u001b[0m\u001b[0;34m.\u001b[0m\u001b[0mshape\u001b[0m\u001b[0;34m)\u001b[0m\u001b[0;34m\u001b[0m\u001b[0m\n",
      "\u001b[0;31mKeyboardInterrupt\u001b[0m: "
     ]
    }
   ],
   "source": [
    "filelistclean = []\n",
    "for ifile, dataurl in enumerate(filelist):\n",
    "\n",
    "    logger.info(\"Working on {}\".format(dataurl))\n",
    "    wind = filament.Wind()\n",
    "    res = wind.read_from_quikscat(dataurl, domain)\n",
    "    \n",
    "    if res:\n",
    "        filelistclean.append(dataurl)\n",
    "        mm = str(month).zfill(2)\n",
    "        dd = str(day).zfill(2)\n",
    "        \n",
    "        fname = \"\".join((\"CapeGhir-\", dataurl.split(\"/\")[-1].split(\".\")[0]))\n",
    "        logger.info(\"Saving figure as {}\".format(fname))\n",
    "        figname = os.path.join(figdir, fname)\n",
    "        \n",
    "        fig = plt.figure(figsize=(8, 8))\n",
    "        ax = plt.subplot(111, projection=myproj)\n",
    "        wind.add_to_plot(fig, ax, domain=domain, cmap=plt.cm.hot_r,\n",
    "                 clim=[0, 15], cbarloc=[0.6, 0.2, 0.25, 0.015])\n",
    "        filament.decorate_map(ax, domain, np.arange(-19., -5.9, 3.), \n",
    "                              np.arange(25., 35.1, 2.))\n",
    "        ax.add_feature(coast, linewidth=.2, color=\".7\")\n",
    "\n",
    "        plt.savefig(figname, dpi=300, bbox_inches=\"tight\")\n",
    "        plt.close()"
   ]
  },
  {
   "cell_type": "markdown",
   "metadata": {},
   "source": [
    "### Plot only the saved files"
   ]
  },
  {
   "cell_type": "code",
   "execution_count": 7,
   "metadata": {},
   "outputs": [],
   "source": [
    "datafilelist = sorted(glob.glob(\"/data/Wind/QuikSCAT/*.nc\"))\n",
    "datafilelist\n",
    "smalldomain = (-15., -9., 27., 33.)"
   ]
  },
  {
   "cell_type": "code",
   "execution_count": 8,
   "metadata": {},
   "outputs": [
    {
     "name": "stderr",
     "output_type": "stream",
     "text": [
      "INFO:__main__:Saving figure as CapeGhir-qs_l2b_52896_v4\n",
      "INFO:__main__:Saving figure as CapeGhir-qs_l2b_53053_v4\n",
      "INFO:__main__:Saving figure as CapeGhir-qs_l2b_53060_v4\n",
      "INFO:__main__:Saving figure as CapeGhir-qs_l2b_53067_v4\n"
     ]
    }
   ],
   "source": [
    "for datafile in datafilelist:\n",
    "    wind = filament.Wind()\n",
    "    wind.read_from_quikscat(datafile, smalldomain)\n",
    "    \n",
    "    fig = plt.figure(figsize=(8, 8))\n",
    "    ax = plt.subplot(111, projection=myproj)\n",
    "    wind.add_to_plot(fig, ax, domain=smalldomain, cmap=plt.cm.magma_r, \n",
    "                     clim=[5., 10.], date=wind.time.strftime(\"%Y-%m-%d\"),\n",
    "                     cbarloc=[0.6, 0.2, 0.25, 0.015])\n",
    "    filament.decorate_map(ax, smalldomain, np.arange(-15., -.9, 1.), \n",
    "                          np.arange(27., 33.1, 1.))\n",
    "    ax.add_feature(coast, linewidth=.2, color=\".7\")\n",
    "    \n",
    "    fname = \"\".join((\"CapeGhir-\", datafile.split(\"/\")[-1].split(\".\")[0]))\n",
    "    logger.info(\"Saving figure as {}\".format(fname))\n",
    "    figname = os.path.join(figdir, fname)\n",
    "    plt.savefig(figname, dpi=300, bbox_inches=\"tight\")\n",
    "    # plt.show()\n",
    "    plt.close()"
   ]
  },
  {
   "cell_type": "code",
   "execution_count": null,
   "metadata": {},
   "outputs": [],
   "source": []
  }
 ],
 "metadata": {
  "@webio": {
   "lastCommId": null,
   "lastKernelId": null
  },
  "kernelspec": {
   "display_name": "Diva-python3.6",
   "language": "python",
   "name": "diva-python3.6"
  },
  "language_info": {
   "codemirror_mode": {
    "name": "ipython",
    "version": 3
   },
   "file_extension": ".py",
   "mimetype": "text/x-python",
   "name": "python",
   "nbconvert_exporter": "python",
   "pygments_lexer": "ipython3",
   "version": "3.6.0"
  }
 },
 "nbformat": 4,
 "nbformat_minor": 2
}
