{
 "cells": [
  {
   "cell_type": "code",
   "execution_count": 1,
   "metadata": {},
   "outputs": [
    {
     "name": "stderr",
     "output_type": "stream",
     "text": [
      "/home/ctroupin/Software/PythonEnvs/Diva-python3.6/lib/python3.6/site-packages/cmocean/tools.py:76: MatplotlibDeprecationWarning: The is_string_like function was deprecated in version 2.1.\n",
      "  if not mpl.cbook.is_string_like(rgbin[0]):\n"
     ]
    }
   ],
   "source": [
    "import os\n",
    "import glob\n",
    "import numpy as np\n",
    "import filament\n",
    "import datetime\n",
    "import cmocean\n",
    "import logging\n",
    "import netCDF4\n",
    "import numpy as np\n",
    "import matplotlib.pyplot as plt\n",
    "import matplotlib.colors as colors\n",
    "from mpl_toolkits.basemap import Basemap\n",
    "from importlib import reload"
   ]
  },
  {
   "cell_type": "code",
   "execution_count": 2,
   "metadata": {
    "collapsed": true
   },
   "outputs": [],
   "source": [
    "def load_SST_L3(datafile):\n",
    "    with netCDF4.Dataset(datafile, \"r\") as nc:\n",
    "        lon = nc.variables[\"lon\"][:]\n",
    "        lat = nc.variables[\"lat\"][:]\n",
    "        sst = nc.get_variables_by_attributes(standard_name=\"sea_surface_temperature\")[0][:]\n",
    "    return lon, lat, sst"
   ]
  },
  {
   "cell_type": "code",
   "execution_count": 10,
   "metadata": {
    "collapsed": true
   },
   "outputs": [],
   "source": [
    "m = Basemap(projection='ortho',lon_0=-52.,lat_0=10,resolution='c')\n",
    "mpol = Basemap(projection='npstere', boundinglat=60, lon_0=0, resolution='l')\n",
    "mpol2 = Basemap(projection='npstere', boundinglat=-60, lon_0=0, resolution='l')"
   ]
  },
  {
   "cell_type": "code",
   "execution_count": 4,
   "metadata": {
    "collapsed": true
   },
   "outputs": [],
   "source": [
    "datafile = \"/data/SST/CapeGhir/T20001732018263.L3m_SCSU_NSST_sst_4km.nc\""
   ]
  },
  {
   "cell_type": "code",
   "execution_count": 5,
   "metadata": {
    "collapsed": true
   },
   "outputs": [],
   "source": [
    "lon, lat, sst = load_SST_L3(datafile)"
   ]
  },
  {
   "cell_type": "code",
   "execution_count": 11,
   "metadata": {
    "collapsed": true
   },
   "outputs": [],
   "source": [
    "#goodlon = np.where(np.logical_and(lon>=-150., lon<=45 ))[0]\n",
    "#sst0 = sst[:, goodlon]\n",
    "#lon0 = lon[goodlon]\n",
    "llon, llat = np.meshgrid(lon, lat)\n",
    "lonp, latp = mpol2(llon, llat)"
   ]
  },
  {
   "cell_type": "code",
   "execution_count": 12,
   "metadata": {
    "collapsed": true
   },
   "outputs": [],
   "source": [
    "lonp[lonp==lonp.max()] = np.nan\n",
    "latp[latp==latp.max()] = np.nan"
   ]
  },
  {
   "cell_type": "code",
   "execution_count": null,
   "metadata": {
    "collapsed": true,
    "scrolled": true
   },
   "outputs": [],
   "source": [
    "NN = 1\n",
    "fig = plt.figure(figsize=(10, 10))\n",
    "mpol2.drawcoastlines(linewidth=.2)\n",
    "mpol2.pcolormesh(lonp[::NN], latp[::NN], sst[::NN],\n",
    "             zorder=3, vmax=10., cmap=cmocean.cm.thermal)\n",
    "# m.fillcontinents(color='grey')\n",
    "plt.colorbar(extend=\"both\", shrink=.7)\n",
    "mpol2.warpimage(\"world.topo.bathy.200403.3x5400x2700.jpg\", zorder=2)\n",
    "mpol2.drawcoastlines()\n",
    "plt.savefig(\"SST_antarctic\", dpi=300, bbox_inches=\"tight\")\n",
    "# plt.show()\n",
    "plt.close()"
   ]
  },
  {
   "cell_type": "code",
   "execution_count": null,
   "metadata": {
    "collapsed": true
   },
   "outputs": [],
   "source": [
    "sst.min()"
   ]
  },
  {
   "cell_type": "code",
   "execution_count": null,
   "metadata": {
    "collapsed": true
   },
   "outputs": [],
   "source": [
    "NN = 1\n",
    "fig = plt.figure(figsize=(10, 10))\n",
    "m.drawcoastlines(linewidth=.2)\n",
    "m.pcolormesh(lonp[::NN], lat[::NN], sst[::NN], \n",
    "             zorder=3, vmin=5., vmax=27., cmap=plt.cm.RdYlBu_r)\n",
    "# m.fillcontinents(color='grey')\n",
    "plt.colorbar(extend=\"both\", shrink=.7)\n",
    "m.warpimage(\"world.topo.bathy.200403.3x5400x2700.jpg\", zorder=2)\n",
    "m.drawcoastlines()\n",
    "#plt.savefig(\"SST_summer_2018\", dpi=300, bbox_inches=\"tight\")\n",
    "plt.show()\n",
    "plt.close()"
   ]
  },
  {
   "cell_type": "markdown",
   "metadata": {},
   "source": [
    "## Latitudinal mean\n",
    "For each lat, we compute the mean temperature."
   ]
  },
  {
   "cell_type": "code",
   "execution_count": null,
   "metadata": {
    "collapsed": true
   },
   "outputs": [],
   "source": [
    "sstmean = sst.mean(axis=1)\n",
    "sstmeant = np.transpose(np.tile(sstmean, (len(lon), 1)))\n",
    "print(sstmeant.shape)\n",
    "sstmeant = sstmeant[:, goodlon]\n",
    "print(sstmeant.shape)\n",
    "sstanom = sst0 - sstmeant"
   ]
  },
  {
   "cell_type": "code",
   "execution_count": null,
   "metadata": {
    "collapsed": true
   },
   "outputs": [],
   "source": [
    "NN = 1\n",
    "fig = plt.figure(figsize=(10, 10))\n",
    "m.pcolormesh(lonp[::NN,::NN], latp[::NN,::NN], sstanom[::NN,::NN], \n",
    "             zorder=3, cmap=plt.cm.RdBu_r, vmin=-10., vmax=10.)\n",
    "# m.fillcontinents(color='grey')\n",
    "plt.colorbar(extend=\"both\", shrink=.7)\n",
    "m.warpimage(\"world.topo.bathy.200403.3x5400x2700.jpg\", zorder=2)\n",
    "plt.savefig(\"SST_summer_2018_anom\", dpi=300, bbox_inches=\"tight\")\n",
    "plt.show()\n",
    "plt.close()"
   ]
  },
  {
   "cell_type": "code",
   "execution_count": null,
   "metadata": {
    "collapsed": true
   },
   "outputs": [],
   "source": []
  }
 ],
 "metadata": {
  "@webio": {
   "lastCommId": "D5129C121EE24C28AE4079D549C71D37",
   "lastKernelId": "ad7d1170-f70d-489a-8e7e-5d258d867a00"
  },
  "kernelspec": {
   "display_name": "Diva-python3.6",
   "language": "python",
   "name": "diva-python3.6"
  },
  "language_info": {
   "codemirror_mode": {
    "name": "ipython",
    "version": 3
   },
   "file_extension": ".py",
   "mimetype": "text/x-python",
   "name": "python",
   "nbconvert_exporter": "python",
   "pygments_lexer": "ipython3",
   "version": "3.6.0"
  }
 },
 "nbformat": 4,
 "nbformat_minor": 2
}
