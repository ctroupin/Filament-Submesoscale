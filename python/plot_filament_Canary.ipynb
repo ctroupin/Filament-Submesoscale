{
 "cells": [
  {
   "cell_type": "markdown",
   "metadata": {},
   "source": [
    "Plot the SST in the Canary Current Upwelling System."
   ]
  },
  {
   "cell_type": "code",
   "execution_count": 1,
   "metadata": {},
   "outputs": [],
   "source": [
    "import os\n",
    "import glob\n",
    "import filament\n",
    "import datetime\n",
    "import netCDF4\n",
    "import cmocean\n",
    "import logging\n",
    "import numpy as np\n",
    "import matplotlib.pyplot as plt\n",
    "from mpl_toolkits.basemap import Basemap\n",
    "from importlib import reload"
   ]
  },
  {
   "cell_type": "code",
   "execution_count": 3,
   "metadata": {},
   "outputs": [],
   "source": [
    "logger = logging.getLogger(\"filamentPlot\")\n",
    "logger.setLevel(logging.INFO)\n",
    "logging.info(\"Starting\")\n",
    "plotvis = 1"
   ]
  },
  {
   "cell_type": "code",
   "execution_count": 4,
   "metadata": {},
   "outputs": [
    {
     "name": "stderr",
     "output_type": "stream",
     "text": [
      "INFO:filamentPlot:Processing 12 files\n"
     ]
    }
   ],
   "source": [
    "datadir = \"/data/SST/CapeGhir/2plot/\"\n",
    "figdir = \"/data/SST/CapeGhir/figures/\"\n",
    "swotfile = \"/data/SWOT/swot292_science.txt\"\n",
    "visibledir = \"/data/Visible/\"\n",
    "datafilelist = sorted(glob.glob(os.path.join(datadir, \"*SST*.nc\")))\n",
    "nfiles = len(datafilelist)\n",
    "logger.info(\"Processing {} files\".format(nfiles))"
   ]
  },
  {
   "cell_type": "code",
   "execution_count": 5,
   "metadata": {},
   "outputs": [],
   "source": [
    "if not(os.path.exists(figdir)):\n",
    "    os.makedirs(figdir)"
   ]
  },
  {
   "cell_type": "code",
   "execution_count": 6,
   "metadata": {},
   "outputs": [],
   "source": [
    "coordinates = (-19., -6., 25., 35.)\n",
    "m = Basemap(projection='merc', llcrnrlon=coordinates[0], llcrnrlat=coordinates[2],\n",
    "            urcrnrlon=coordinates[1], urcrnrlat=coordinates[3],\n",
    "            epsg=4326, resolution='h')"
   ]
  },
  {
   "cell_type": "code",
   "execution_count": 8,
   "metadata": {},
   "outputs": [
    {
     "name": "stderr",
     "output_type": "stream",
     "text": [
      "INFO:filamentPlot:Level-2 data\n"
     ]
    },
    {
     "name": "stdout",
     "output_type": "stream",
     "text": [
      "/data/SST/CapeGhir/2plot/AQUA_MODIS.20190904T023501.L2.SST.nc\n"
     ]
    },
    {
     "name": "stderr",
     "output_type": "stream",
     "text": [
      "INFO:filamentPlot:Level-2 data\n"
     ]
    },
    {
     "name": "stdout",
     "output_type": "stream",
     "text": [
      "/data/SST/CapeGhir/2plot/AQUA_MODIS.20190904T023501.L2.SST4.nc\n"
     ]
    },
    {
     "name": "stderr",
     "output_type": "stream",
     "text": [
      "INFO:filamentPlot:Level-2 data\n"
     ]
    },
    {
     "name": "stdout",
     "output_type": "stream",
     "text": [
      "/data/SST/CapeGhir/2plot/AQUA_MODIS.20190912T014501.L2.SST.nc\n"
     ]
    },
    {
     "name": "stderr",
     "output_type": "stream",
     "text": [
      "INFO:filamentPlot:Level-2 data\n"
     ]
    },
    {
     "name": "stdout",
     "output_type": "stream",
     "text": [
      "/data/SST/CapeGhir/2plot/AQUA_MODIS.20190912T014501.L2.SST4.nc\n"
     ]
    },
    {
     "name": "stderr",
     "output_type": "stream",
     "text": [
      "INFO:filamentPlot:Level-2 data\n"
     ]
    },
    {
     "name": "stdout",
     "output_type": "stream",
     "text": [
      "/data/SST/CapeGhir/2plot/AQUA_MODIS.20190913T023000.L2.SST.nc\n"
     ]
    },
    {
     "name": "stderr",
     "output_type": "stream",
     "text": [
      "INFO:filamentPlot:Level-2 data\n"
     ]
    },
    {
     "name": "stdout",
     "output_type": "stream",
     "text": [
      "/data/SST/CapeGhir/2plot/AQUA_MODIS.20190913T023000.L2.SST4.nc\n"
     ]
    },
    {
     "name": "stderr",
     "output_type": "stream",
     "text": [
      "INFO:filamentPlot:Level-2 data\n"
     ]
    },
    {
     "name": "stdout",
     "output_type": "stream",
     "text": [
      "/data/SST/CapeGhir/2plot/AQUA_MODIS.20190914T031501.L2.SST.nc\n"
     ]
    },
    {
     "name": "stderr",
     "output_type": "stream",
     "text": [
      "INFO:filamentPlot:Level-2 data\n"
     ]
    },
    {
     "name": "stdout",
     "output_type": "stream",
     "text": [
      "/data/SST/CapeGhir/2plot/AQUA_MODIS.20190914T031501.L2.SST4.nc\n"
     ]
    },
    {
     "name": "stderr",
     "output_type": "stream",
     "text": [
      "INFO:filamentPlot:Level-2 data\n"
     ]
    },
    {
     "name": "stdout",
     "output_type": "stream",
     "text": [
      "/data/SST/CapeGhir/2plot/AQUA_MODIS.20190915T022001.L2.SST.nc\n"
     ]
    },
    {
     "name": "stderr",
     "output_type": "stream",
     "text": [
      "INFO:filamentPlot:Level-2 data\n"
     ]
    },
    {
     "name": "stdout",
     "output_type": "stream",
     "text": [
      "/data/SST/CapeGhir/2plot/AQUA_MODIS.20190915T022001.L2.SST4.nc\n"
     ]
    },
    {
     "name": "stderr",
     "output_type": "stream",
     "text": [
      "INFO:filamentPlot:Level-2 data\n"
     ]
    },
    {
     "name": "stdout",
     "output_type": "stream",
     "text": [
      "/data/SST/CapeGhir/2plot/AQUA_MODIS.20190922T022501.L2.SST.nc\n"
     ]
    },
    {
     "name": "stderr",
     "output_type": "stream",
     "text": [
      "INFO:filamentPlot:Level-2 data\n"
     ]
    },
    {
     "name": "stdout",
     "output_type": "stream",
     "text": [
      "/data/SST/CapeGhir/2plot/V2017247140000.L2_SNPP_SST.nc\n"
     ]
    }
   ],
   "source": [
    "for datafile in datafilelist:\n",
    "    print(datafile)\n",
    "    with netCDF4.Dataset(datafile) as nc:\n",
    "        proclevel = nc.processing_level\n",
    "    sst = filament.SST()\n",
    "    \n",
    "    # Select the reader according to processing level\n",
    "    if proclevel == \"L3 Mapped\":\n",
    "        logger.info(\"Level-3 data\")\n",
    "        sst.read_from_oceancolorL3(datafile, coordinates)\n",
    "    elif proclevel == \"L2\":\n",
    "        logger.info(\"Level-2 data\")\n",
    "        sst.read_from_oceancolorL2(datafile)\n",
    "        sst.field = np.ma.masked_where(sst.qflag > 1, sst.field)\n",
    "    \n",
    "    # Plot without visible\n",
    "    figname = os.path.join(figdir, sst.get_figname())\n",
    "    sst.make_plot(m, figname=figname, vmin=18., vmax=23., shrink=0.7)\n",
    "    \n",
    "    \"\"\"\n",
    "    # With visible image background\n",
    "    visiblefile = os.path.join(visibledir, \"VIIRS_{}.tiff\".format(sst.date.strftime(\"%Y%m%d\")))\n",
    "    if os.path.exists(visiblefile):\n",
    "        visibleim = filament.Visible()\n",
    "        visibleim.read_from(visiblefile)\n",
    "        visibleim.extract_area(coordinates)\n",
    "    figname = os.path.join(figdir, \"_\".join((sst.get_figname(), \"visible\")))\n",
    "    sst.make_plot2(m, figname=figname, visibleim=visibleim, vmin=17., vmax=24.)\n",
    "    \"\"\""
   ]
  },
  {
   "cell_type": "markdown",
   "metadata": {},
   "source": [
    "## GHRSST"
   ]
  },
  {
   "cell_type": "code",
   "execution_count": 7,
   "metadata": {},
   "outputs": [
    {
     "name": "stderr",
     "output_type": "stream",
     "text": [
      "INFO:filamentPlot:Processing 1 files\n"
     ]
    }
   ],
   "source": [
    "datadir2 = \"/data/SST/GHRSST/\"\n",
    "datafilelist2 = sorted(glob.glob(os.path.join(datadir2, \"20170904*.nc\")))\n",
    "nfiles = len(datafilelist2)\n",
    "logger.info(\"Processing {} files\".format(nfiles))"
   ]
  },
  {
   "cell_type": "code",
   "execution_count": 13,
   "metadata": {},
   "outputs": [
    {
     "name": "stderr",
     "output_type": "stream",
     "text": [
      "INFO:filamentPlot:/data/SST/GHRSST/20170904140000-OSPO-L2P_GHRSST-SSTskin-VIIRS_NPP-ACSPO_V2.40-v02.0-fv01.0.nc\n"
     ]
    }
   ],
   "source": [
    "for datafile in datafilelist2:\n",
    "    logger.info(datafile)\n",
    "    sst = filament.SST()\n",
    "    sst.read_from_ghrsst(datafile)\n",
    "    sst.field = np.ma.masked_where(sst.qflag != 5, sst.field)\n",
    "    \n",
    "    # Plot without visible\n",
    "    figname = os.path.join(figdir, sst.get_figname())\n",
    "    sst.make_plot2(m, figname=figname)\n",
    "    \n",
    "    # With visible image background\n",
    "    visiblefile = os.path.join(visibledir, \"VIIRS_{}.tiff\".format(sst.date.strftime(\"%Y%m%d\")))\n",
    "    if os.path.exists(visiblefile):\n",
    "        visibleim = filament.Visible()\n",
    "        visibleim.read_from(visiblefile)\n",
    "        visibleim.extract_area(coordinates)\n",
    "    figname = os.path.join(figdir, \"_\".join((sst.get_figname(), \"visible\")))\n",
    "    sst.make_plot2(m, figname=figname, visibleim=visibleim)\n",
    "    \n",
    "    # With visible image background and SWOT\n",
    "    swot = filament.Swot()\n",
    "    swot.read_from(swotfile)\n",
    "    swot.select_domain(coordinates)\n",
    "    visiblefile = os.path.join(visibledir, \"VIIRS_{}.tiff\".format(sst.date.strftime(\"%Y%m%d\")))\n",
    "    if os.path.exists(visiblefile):\n",
    "        visibleim = filament.Visible()\n",
    "        visibleim.read_from(visiblefile)\n",
    "        visibleim.extract_area(coordinates)\n",
    "    figname = os.path.join(figdir, \"_\".join((sst.get_figname(), \"visible\", \"swot\")))\n",
    "    sst.make_plot2(m, figname=figname, visibleim=visibleim, swot=swot)"
   ]
  },
  {
   "cell_type": "code",
   "execution_count": null,
   "metadata": {
    "collapsed": true
   },
   "outputs": [],
   "source": []
  }
 ],
 "metadata": {
  "@webio": {
   "lastCommId": "3557DF4D7B764AA1BC21681F6ADC6BD5",
   "lastKernelId": "70097f65-408b-4ab0-884f-4cb18dc6d597"
  },
  "kernelspec": {
   "display_name": "Diva-python3.6",
   "language": "python",
   "name": "diva-python3.6"
  },
  "language_info": {
   "codemirror_mode": {
    "name": "ipython",
    "version": 3
   },
   "file_extension": ".py",
   "mimetype": "text/x-python",
   "name": "python",
   "nbconvert_exporter": "python",
   "pygments_lexer": "ipython3",
   "version": "3.6.0"
  }
 },
 "nbformat": 4,
 "nbformat_minor": 2
}
