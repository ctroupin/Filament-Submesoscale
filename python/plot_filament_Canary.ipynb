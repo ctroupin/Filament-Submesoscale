{
 "cells": [
  {
   "cell_type": "markdown",
   "metadata": {},
   "source": [
    "Plot the SST in the Canary Current Upwelling System."
   ]
  },
  {
   "cell_type": "code",
   "execution_count": 1,
   "metadata": {},
   "outputs": [],
   "source": [
    "import os\n",
    "import glob\n",
    "import filament\n",
    "import datetime\n",
    "import netCDF4\n",
    "import cmocean\n",
    "import logging\n",
    "import numpy as np\n",
    "import matplotlib.pyplot as plt\n",
    "from mpl_toolkits.basemap import Basemap\n",
    "from importlib import reload"
   ]
  },
  {
   "cell_type": "code",
   "execution_count": 2,
   "metadata": {},
   "outputs": [],
   "source": [
    "logger = logging.getLogger(\"filamentPlot\")\n",
    "logger.setLevel(logging.INFO)\n",
    "logging.info(\"Starting\")\n",
    "plotvis = 1"
   ]
  },
  {
   "cell_type": "code",
   "execution_count": 15,
   "metadata": {},
   "outputs": [
    {
     "name": "stderr",
     "output_type": "stream",
     "text": [
      "INFO:filamentPlot:Processing 2 files\n"
     ]
    }
   ],
   "source": [
    "datadir = \"/data/SST/CapeGhir/2plot/\"\n",
    "figdir = \"/data/SST/CapeGhir/figures/\"\n",
    "swotfile = \"/data/SWOT/swot292_science.txt\"\n",
    "visibledir = \"/data/Visible/\"\n",
    "datafilelist = sorted(glob.glob(os.path.join(datadir, \"*SST*.nc\")))\n",
    "nfiles = len(datafilelist)\n",
    "logger.info(\"Processing {} files\".format(nfiles))"
   ]
  },
  {
   "cell_type": "code",
   "execution_count": 16,
   "metadata": {},
   "outputs": [],
   "source": [
    "if not(os.path.exists(figdir)):\n",
    "    os.makedirs(figdir)"
   ]
  },
  {
   "cell_type": "code",
   "execution_count": 17,
   "metadata": {},
   "outputs": [],
   "source": [
    "coordinates = (-19., -6., 25., 35.)\n",
    "m = Basemap(projection='merc', llcrnrlon=coordinates[0], llcrnrlat=coordinates[2],\n",
    "            urcrnrlon=coordinates[1], urcrnrlat=coordinates[3],\n",
    "            epsg=4326, resolution='h')"
   ]
  },
  {
   "cell_type": "code",
   "execution_count": 28,
   "metadata": {},
   "outputs": [
    {
     "name": "stderr",
     "output_type": "stream",
     "text": [
      "INFO:filamentPlot:Level-2 data\n"
     ]
    },
    {
     "name": "stdout",
     "output_type": "stream",
     "text": [
      "/data/SST/CapeGhir/2plot/SNPP_VIIRS.20191227T021801.L2.SST.NRT.nc\n"
     ]
    },
    {
     "name": "stderr",
     "output_type": "stream",
     "text": [
      "INFO:filamentPlot:Level-2 data\n"
     ]
    },
    {
     "name": "stdout",
     "output_type": "stream",
     "text": [
      "/data/SST/CapeGhir/2plot/SNPP_VIIRS.20191227T133600.L2.SST.NRT.nc\n"
     ]
    }
   ],
   "source": [
    "for datafile in datafilelist:\n",
    "    print(datafile)\n",
    "    with netCDF4.Dataset(datafile) as nc:\n",
    "        proclevel = nc.processing_level\n",
    "    sst = filament.SST()\n",
    "    \n",
    "    # Select the reader according to processing level\n",
    "    if proclevel == \"L3 Mapped\":\n",
    "        logger.info(\"Level-3 data\")\n",
    "        sst.read_from_oceancolorL3(datafile, coordinates)\n",
    "    elif proclevel == \"L2\":\n",
    "        logger.info(\"Level-2 data\")\n",
    "        sst.read_from_oceancolorL2(datafile)\n",
    "        sst.field = np.ma.masked_where(sst.qflag > 2, sst.field)\n",
    "    \n",
    "    # Plot without visible\n",
    "    figname = os.path.join(figdir, sst.get_figname())\n",
    "    sst.make_plot(m, figname=figname, vmin=16., vmax=21, shrink=0.7)\n",
    "    \n",
    "    # Plot quality flag \n",
    "    figname = os.path.join(figdir, sst.get_figname() + \"_qf\")\n",
    "    sst.make_plot_qf(m, figname=figname, shrink=0.7)\n",
    "    \n",
    "    \n",
    "    # With visible image background\n",
    "    visiblefile = os.path.join(visibledir, \"VIIRS{}.tiff\".format(sst.date.strftime(\"-%Y-%m-%dT00_00_00Z\")))\n",
    "    if os.path.exists(visiblefile):\n",
    "        visibleim = filament.Visible()\n",
    "        visibleim.read_from(visiblefile)\n",
    "        visibleim.extract_area(coordinates)\n",
    "    figname = os.path.join(figdir, \"_\".join((sst.get_figname(), \"visible\")))\n",
    "    sst.make_plot2(m, figname=figname, visibleim=visibleim, vmin=16., vmax=21.)"
   ]
  },
  {
   "cell_type": "code",
   "execution_count": 27,
   "metadata": {},
   "outputs": [
    {
     "data": {
      "text/plain": [
       "'/data/Visible/VIIRS-2019-12-27T00_00_00Z.tiff'"
      ]
     },
     "execution_count": 27,
     "metadata": {},
     "output_type": "execute_result"
    }
   ],
   "source": [
    "visiblefile"
   ]
  },
  {
   "cell_type": "markdown",
   "metadata": {},
   "source": [
    "## GHRSST"
   ]
  },
  {
   "cell_type": "code",
   "execution_count": 7,
   "metadata": {},
   "outputs": [
    {
     "name": "stderr",
     "output_type": "stream",
     "text": [
      "INFO:filamentPlot:Processing 1 files\n"
     ]
    }
   ],
   "source": [
    "datadir2 = \"/data/SST/GHRSST/\"\n",
    "datafilelist2 = sorted(glob.glob(os.path.join(datadir2, \"20170904*.nc\")))\n",
    "nfiles = len(datafilelist2)\n",
    "logger.info(\"Processing {} files\".format(nfiles))"
   ]
  },
  {
   "cell_type": "code",
   "execution_count": 8,
   "metadata": {},
   "outputs": [
    {
     "name": "stderr",
     "output_type": "stream",
     "text": [
      "INFO:filamentPlot:/data/SST/GHRSST/20170904140000-OSPO-L2P_GHRSST-SSTskin-VIIRS_NPP-ACSPO_V2.40-v02.0-fv01.0.nc\n"
     ]
    },
    {
     "ename": "TypeError",
     "evalue": "'>=' not supported between instances of 'NoneType' and 'float'",
     "output_type": "error",
     "traceback": [
      "\u001b[0;31m---------------------------------------------------------------------------\u001b[0m",
      "\u001b[0;31mTypeError\u001b[0m                                 Traceback (most recent call last)",
      "\u001b[0;32m<ipython-input-8-99223e571802>\u001b[0m in \u001b[0;36m<module>\u001b[0;34m()\u001b[0m\n\u001b[1;32m     21\u001b[0m     \u001b[0mswot\u001b[0m \u001b[0;34m=\u001b[0m \u001b[0mfilament\u001b[0m\u001b[0;34m.\u001b[0m\u001b[0mSwot\u001b[0m\u001b[0;34m(\u001b[0m\u001b[0;34m)\u001b[0m\u001b[0;34m\u001b[0m\u001b[0m\n\u001b[1;32m     22\u001b[0m     \u001b[0mswot\u001b[0m\u001b[0;34m.\u001b[0m\u001b[0mread_from\u001b[0m\u001b[0;34m(\u001b[0m\u001b[0mswotfile\u001b[0m\u001b[0;34m)\u001b[0m\u001b[0;34m\u001b[0m\u001b[0m\n\u001b[0;32m---> 23\u001b[0;31m     \u001b[0mswot\u001b[0m\u001b[0;34m.\u001b[0m\u001b[0mselect_domain\u001b[0m\u001b[0;34m(\u001b[0m\u001b[0mcoordinates\u001b[0m\u001b[0;34m)\u001b[0m\u001b[0;34m\u001b[0m\u001b[0m\n\u001b[0m\u001b[1;32m     24\u001b[0m     \u001b[0mvisiblefile\u001b[0m \u001b[0;34m=\u001b[0m \u001b[0mos\u001b[0m\u001b[0;34m.\u001b[0m\u001b[0mpath\u001b[0m\u001b[0;34m.\u001b[0m\u001b[0mjoin\u001b[0m\u001b[0;34m(\u001b[0m\u001b[0mvisibledir\u001b[0m\u001b[0;34m,\u001b[0m \u001b[0;34m\"VIIRS_{}.tiff\"\u001b[0m\u001b[0;34m.\u001b[0m\u001b[0mformat\u001b[0m\u001b[0;34m(\u001b[0m\u001b[0msst\u001b[0m\u001b[0;34m.\u001b[0m\u001b[0mdate\u001b[0m\u001b[0;34m.\u001b[0m\u001b[0mstrftime\u001b[0m\u001b[0;34m(\u001b[0m\u001b[0;34m\"%Y%m%d\"\u001b[0m\u001b[0;34m)\u001b[0m\u001b[0;34m)\u001b[0m\u001b[0;34m)\u001b[0m\u001b[0;34m\u001b[0m\u001b[0m\n\u001b[1;32m     25\u001b[0m     \u001b[0;32mif\u001b[0m \u001b[0mos\u001b[0m\u001b[0;34m.\u001b[0m\u001b[0mpath\u001b[0m\u001b[0;34m.\u001b[0m\u001b[0mexists\u001b[0m\u001b[0;34m(\u001b[0m\u001b[0mvisiblefile\u001b[0m\u001b[0;34m)\u001b[0m\u001b[0;34m:\u001b[0m\u001b[0;34m\u001b[0m\u001b[0m\n",
      "\u001b[0;32m~/Projects/FNRS-UpwellingFilaments/Filament-Submesoscale/python/filament.py\u001b[0m in \u001b[0;36mselect_domain\u001b[0;34m(self, coordinates)\u001b[0m\n\u001b[1;32m    313\u001b[0m \u001b[0;34m\u001b[0m\u001b[0m\n\u001b[1;32m    314\u001b[0m     \u001b[0;32mdef\u001b[0m \u001b[0mselect_domain\u001b[0m\u001b[0;34m(\u001b[0m\u001b[0mself\u001b[0m\u001b[0;34m,\u001b[0m \u001b[0mcoordinates\u001b[0m\u001b[0;34m)\u001b[0m\u001b[0;34m:\u001b[0m\u001b[0;34m\u001b[0m\u001b[0m\n\u001b[0;32m--> 315\u001b[0;31m         \u001b[0mgoodlon\u001b[0m \u001b[0;34m=\u001b[0m \u001b[0mnp\u001b[0m\u001b[0;34m.\u001b[0m\u001b[0mwhere\u001b[0m\u001b[0;34m(\u001b[0m\u001b[0mnp\u001b[0m\u001b[0;34m.\u001b[0m\u001b[0mlogical_and\u001b[0m\u001b[0;34m(\u001b[0m\u001b[0mself\u001b[0m\u001b[0;34m.\u001b[0m\u001b[0mlon\u001b[0m\u001b[0;34m>=\u001b[0m \u001b[0mcoordinates\u001b[0m\u001b[0;34m[\u001b[0m\u001b[0;36m0\u001b[0m\u001b[0;34m]\u001b[0m\u001b[0;34m,\u001b[0m \u001b[0mself\u001b[0m\u001b[0;34m.\u001b[0m\u001b[0mlon\u001b[0m\u001b[0;34m<=\u001b[0m \u001b[0mcoordinates\u001b[0m\u001b[0;34m[\u001b[0m\u001b[0;36m1\u001b[0m\u001b[0;34m]\u001b[0m\u001b[0;34m)\u001b[0m\u001b[0;34m)\u001b[0m\u001b[0;34m[\u001b[0m\u001b[0;36m0\u001b[0m\u001b[0;34m]\u001b[0m\u001b[0;34m\u001b[0m\u001b[0m\n\u001b[0m\u001b[1;32m    316\u001b[0m         \u001b[0mgoodlat\u001b[0m \u001b[0;34m=\u001b[0m \u001b[0mnp\u001b[0m\u001b[0;34m.\u001b[0m\u001b[0mwhere\u001b[0m\u001b[0;34m(\u001b[0m\u001b[0mnp\u001b[0m\u001b[0;34m.\u001b[0m\u001b[0mlogical_and\u001b[0m\u001b[0;34m(\u001b[0m\u001b[0mself\u001b[0m\u001b[0;34m.\u001b[0m\u001b[0mlat\u001b[0m\u001b[0;34m>=\u001b[0m \u001b[0mcoordinates\u001b[0m\u001b[0;34m[\u001b[0m\u001b[0;36m2\u001b[0m\u001b[0;34m]\u001b[0m\u001b[0;34m,\u001b[0m \u001b[0mself\u001b[0m\u001b[0;34m.\u001b[0m\u001b[0mlat\u001b[0m\u001b[0;34m<=\u001b[0m \u001b[0mcoordinates\u001b[0m\u001b[0;34m[\u001b[0m\u001b[0;36m3\u001b[0m\u001b[0;34m]\u001b[0m\u001b[0;34m)\u001b[0m\u001b[0;34m)\u001b[0m\u001b[0;34m[\u001b[0m\u001b[0;36m0\u001b[0m\u001b[0;34m]\u001b[0m\u001b[0;34m\u001b[0m\u001b[0m\n\u001b[1;32m    317\u001b[0m         \u001b[0mgoodcoords\u001b[0m \u001b[0;34m=\u001b[0m \u001b[0mnp\u001b[0m\u001b[0;34m.\u001b[0m\u001b[0mintersect1d\u001b[0m\u001b[0;34m(\u001b[0m\u001b[0mgoodlon\u001b[0m\u001b[0;34m,\u001b[0m \u001b[0mgoodlat\u001b[0m\u001b[0;34m)\u001b[0m\u001b[0;34m\u001b[0m\u001b[0m\n",
      "\u001b[0;31mTypeError\u001b[0m: '>=' not supported between instances of 'NoneType' and 'float'"
     ]
    }
   ],
   "source": [
    "for datafile in datafilelist2:\n",
    "    logger.info(datafile)\n",
    "    sst = filament.SST()\n",
    "    sst.read_from_ghrsst(datafile)\n",
    "    sst.field = np.ma.masked_where(sst.qflag != 5, sst.field)\n",
    "    \n",
    "    # Plot without visible\n",
    "    figname = os.path.join(figdir, sst.get_figname())\n",
    "    sst.make_plot2(m, figname=figname)\n",
    "    \n",
    "    # With visible image background\n",
    "    visiblefile = os.path.join(visibledir, \"VIIRS_{}.tiff\".format(sst.date.strftime(\"%Y%m%d\")))\n",
    "    if os.path.exists(visiblefile):\n",
    "        visibleim = filament.Visible()\n",
    "        visibleim.read_from(visiblefile)\n",
    "        visibleim.extract_area(coordinates)\n",
    "    figname = os.path.join(figdir, \"_\".join((sst.get_figname(), \"visible\")))\n",
    "    sst.make_plot2(m, figname=figname, visibleim=visibleim)\n",
    "    \n",
    "    # With visible image background and SWOT\n",
    "    swot = filament.Swot()\n",
    "    swot.read_from(swotfile)\n",
    "    swot.select_domain(coordinates)\n",
    "    visiblefile = os.path.join(visibledir, \"VIIRS_{}.tiff\".format(sst.date.strftime(\"%Y%m%d\")))\n",
    "    if os.path.exists(visiblefile):\n",
    "        visibleim = filament.Visible()\n",
    "        visibleim.read_from(visiblefile)\n",
    "        visibleim.extract_area(coordinates)\n",
    "    figname = os.path.join(figdir, \"_\".join((sst.get_figname(), \"visible\", \"swot\")))\n",
    "    sst.make_plot2(m, figname=figname, visibleim=visibleim, swot=swot)"
   ]
  },
  {
   "cell_type": "code",
   "execution_count": null,
   "metadata": {},
   "outputs": [],
   "source": []
  }
 ],
 "metadata": {
  "@webio": {
   "lastCommId": null,
   "lastKernelId": null
  },
  "kernelspec": {
   "display_name": "Diva-python3.6",
   "language": "python",
   "name": "diva-python3.6"
  },
  "language_info": {
   "codemirror_mode": {
    "name": "ipython",
    "version": 3
   },
   "file_extension": ".py",
   "mimetype": "text/x-python",
   "name": "python",
   "nbconvert_exporter": "python",
   "pygments_lexer": "ipython3",
   "version": "3.6.0"
  }
 },
 "nbformat": 4,
 "nbformat_minor": 2
}
